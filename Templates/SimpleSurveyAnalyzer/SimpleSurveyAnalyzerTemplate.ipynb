{
 "cells": [
  {
   "cell_type": "markdown",
   "id": "eca9b09c",
   "metadata": {},
   "source": [
    "# Simple survey analyzer template"
   ]
  },
  {
   "cell_type": "markdown",
   "id": "dda92ddf",
   "metadata": {},
   "source": [
    "This is a template for a simple analysis of a couple of survey dataset.\n",
    "\n",
    "\n",
    "Note that the aim is not the efficency of the code, instead I've tried to make it easily readble and hopefully understandable in the mathematical and computational operations even for those with little knowledge in the field "
   ]
  },
  {
   "cell_type": "markdown",
   "id": "eed3c84a",
   "metadata": {},
   "source": [
    "# Index\n",
    "* [Imports](#imports)\n",
    "* [Introduction](#introduction)\n",
    "* [Import Data](#import)\n",
    "    * [CSV](#csv)\n",
    "    * [EXCEL](#excel)\n",
    "* [Anonymization](#anonymization) - *not always necessary*\n",
    "* [Post Anonimization](#post_anonymization)\n",
    "    * [Categorical Data](#cat_data_management)\n",
    "* [Exploration](#exploration)\n",
    "    * [Numerical Data](#numerical)\n",
    "    * [Categorical Data](#categorical)\n",
    "    * [Subsetting](#subsetting)\n",
    "* [Sentiment analysis](#sentiment) - *to be continued*"
   ]
  },
  {
   "cell_type": "markdown",
   "id": "0ae99733",
   "metadata": {},
   "source": [
    "## Imports\n",
    "<a id='imports'></a>"
   ]
  },
  {
   "cell_type": "code",
   "execution_count": 848,
   "id": "1f863d30",
   "metadata": {},
   "outputs": [],
   "source": [
    "import numpy as np # linear algebra\n",
    "import pandas as pd # data processing, CSV file I/O (e.g. pd.read_csv)\n",
    "import matplotlib.pyplot as plt # data visualization\n",
    "from matplotlib.lines import Line2D # usefull for matplotlib legends customizazions "
   ]
  },
  {
   "cell_type": "markdown",
   "id": "07c97171",
   "metadata": {},
   "source": [
    "## Introduction\n",
    "<a id='introduction'></a>"
   ]
  },
  {
   "cell_type": "markdown",
   "id": "4f6241a2",
   "metadata": {},
   "source": [
    "Given a dataframe A with a structure like"
   ]
  },
  {
   "cell_type": "code",
   "execution_count": 849,
   "id": "a46d2919",
   "metadata": {},
   "outputs": [
    {
     "data": {
      "text/html": [
       "<div>\n",
       "<style scoped>\n",
       "    .dataframe tbody tr th:only-of-type {\n",
       "        vertical-align: middle;\n",
       "    }\n",
       "\n",
       "    .dataframe tbody tr th {\n",
       "        vertical-align: top;\n",
       "    }\n",
       "\n",
       "    .dataframe thead th {\n",
       "        text-align: right;\n",
       "    }\n",
       "</style>\n",
       "<table border=\"1\" class=\"dataframe\">\n",
       "  <thead>\n",
       "    <tr style=\"text-align: right;\">\n",
       "      <th></th>\n",
       "      <th>User</th>\n",
       "      <th>AlphanumericQuestion0</th>\n",
       "      <th>NumericQuestion1</th>\n",
       "      <th>NimericQuestion2</th>\n",
       "      <th>NumericQuestion3</th>\n",
       "      <th>AlphanumericQuestion4</th>\n",
       "    </tr>\n",
       "  </thead>\n",
       "  <tbody>\n",
       "    <tr>\n",
       "      <th>0</th>\n",
       "      <td>user0</td>\n",
       "      <td>a</td>\n",
       "      <td>1</td>\n",
       "      <td>2</td>\n",
       "      <td>3</td>\n",
       "      <td>all all</td>\n",
       "    </tr>\n",
       "    <tr>\n",
       "      <th>1</th>\n",
       "      <td>user1</td>\n",
       "      <td>a</td>\n",
       "      <td>3</td>\n",
       "      <td>2</td>\n",
       "      <td>5</td>\n",
       "      <td>ball mall</td>\n",
       "    </tr>\n",
       "    <tr>\n",
       "      <th>2</th>\n",
       "      <td>user2</td>\n",
       "      <td>b</td>\n",
       "      <td>5</td>\n",
       "      <td>2</td>\n",
       "      <td>5</td>\n",
       "      <td>bla bla</td>\n",
       "    </tr>\n",
       "    <tr>\n",
       "      <th>3</th>\n",
       "      <td>user3</td>\n",
       "      <td>b</td>\n",
       "      <td>2</td>\n",
       "      <td>4</td>\n",
       "      <td>1</td>\n",
       "      <td>we are</td>\n",
       "    </tr>\n",
       "    <tr>\n",
       "      <th>4</th>\n",
       "      <td>user4</td>\n",
       "      <td>c</td>\n",
       "      <td>4</td>\n",
       "      <td>4</td>\n",
       "      <td>2</td>\n",
       "      <td>you are</td>\n",
       "    </tr>\n",
       "    <tr>\n",
       "      <th>5</th>\n",
       "      <td>user5</td>\n",
       "      <td>c</td>\n",
       "      <td>2</td>\n",
       "      <td>1</td>\n",
       "      <td>1</td>\n",
       "      <td>we are</td>\n",
       "    </tr>\n",
       "    <tr>\n",
       "      <th>6</th>\n",
       "      <td>user6</td>\n",
       "      <td>c</td>\n",
       "      <td>2</td>\n",
       "      <td>3</td>\n",
       "      <td>1</td>\n",
       "      <td>call all</td>\n",
       "    </tr>\n",
       "    <tr>\n",
       "      <th>7</th>\n",
       "      <td>user7</td>\n",
       "      <td>a</td>\n",
       "      <td>2</td>\n",
       "      <td>3</td>\n",
       "      <td>2</td>\n",
       "      <td>call ball</td>\n",
       "    </tr>\n",
       "    <tr>\n",
       "      <th>8</th>\n",
       "      <td>user8</td>\n",
       "      <td>b</td>\n",
       "      <td>3</td>\n",
       "      <td>5</td>\n",
       "      <td>1</td>\n",
       "      <td>call</td>\n",
       "    </tr>\n",
       "    <tr>\n",
       "      <th>9</th>\n",
       "      <td>user9</td>\n",
       "      <td>a</td>\n",
       "      <td>5</td>\n",
       "      <td>4</td>\n",
       "      <td>1</td>\n",
       "      <td>bla</td>\n",
       "    </tr>\n",
       "  </tbody>\n",
       "</table>\n",
       "</div>"
      ],
      "text/plain": [
       "    User AlphanumericQuestion0  NumericQuestion1  NimericQuestion2  \\\n",
       "0  user0                     a                 1                 2   \n",
       "1  user1                     a                 3                 2   \n",
       "2  user2                     b                 5                 2   \n",
       "3  user3                     b                 2                 4   \n",
       "4  user4                     c                 4                 4   \n",
       "5  user5                     c                 2                 1   \n",
       "6  user6                     c                 2                 3   \n",
       "7  user7                     a                 2                 3   \n",
       "8  user8                     b                 3                 5   \n",
       "9  user9                     a                 5                 4   \n",
       "\n",
       "   NumericQuestion3 AlphanumericQuestion4  \n",
       "0                 3               all all  \n",
       "1                 5             ball mall  \n",
       "2                 5               bla bla  \n",
       "3                 1                we are  \n",
       "4                 2               you are  \n",
       "5                 1                we are  \n",
       "6                 1              call all  \n",
       "7                 2             call ball  \n",
       "8                 1                  call  \n",
       "9                 1                   bla  "
      ]
     },
     "execution_count": 849,
     "metadata": {},
     "output_type": "execute_result"
    }
   ],
   "source": [
    "example_data_A = {'User':['user0', 'user1', 'user2', 'user3', 'user4', 'user5', 'user6', 'user7', 'user8', 'user9'],\n",
    "                'AlphanumericQuestion0':['a','a','b','b','c','c','c','a','b','a'],\n",
    "                'NumericQuestion1':[1,3,5,2,4,2,2,2,3,5],\n",
    "                'NimericQuestion2':[2,2,2,4,4,1,3,3,5,4],\n",
    "                'NumericQuestion3':[3,5,5,1,2,1,1,2,1,1],\n",
    "                'AlphanumericQuestion4':['all all','ball mall','bla bla','we are','you are','we are','call all', 'call ball','call','bla'],\n",
    "               }\n",
    "example_dataframe_A = pd.DataFrame(example_data_A)\n",
    "example_dataframe_A"
   ]
  },
  {
   "cell_type": "markdown",
   "id": "1dd4ed5f",
   "metadata": {},
   "source": [
    "and a dataframe B with a structure like"
   ]
  },
  {
   "cell_type": "code",
   "execution_count": 850,
   "id": "c09f66f4",
   "metadata": {},
   "outputs": [
    {
     "data": {
      "text/html": [
       "<div>\n",
       "<style scoped>\n",
       "    .dataframe tbody tr th:only-of-type {\n",
       "        vertical-align: middle;\n",
       "    }\n",
       "\n",
       "    .dataframe tbody tr th {\n",
       "        vertical-align: top;\n",
       "    }\n",
       "\n",
       "    .dataframe thead th {\n",
       "        text-align: right;\n",
       "    }\n",
       "</style>\n",
       "<table border=\"1\" class=\"dataframe\">\n",
       "  <thead>\n",
       "    <tr style=\"text-align: right;\">\n",
       "      <th></th>\n",
       "      <th>User</th>\n",
       "      <th>AlphanumericQuestion0</th>\n",
       "      <th>NumericQuestion1</th>\n",
       "      <th>NimericQuestion5</th>\n",
       "      <th>NumericQuestion6</th>\n",
       "      <th>AlphanumericQuestion4</th>\n",
       "    </tr>\n",
       "  </thead>\n",
       "  <tbody>\n",
       "    <tr>\n",
       "      <th>0</th>\n",
       "      <td>user0</td>\n",
       "      <td>a</td>\n",
       "      <td>1</td>\n",
       "      <td>2</td>\n",
       "      <td>3</td>\n",
       "      <td>all all</td>\n",
       "    </tr>\n",
       "    <tr>\n",
       "      <th>1</th>\n",
       "      <td>user2</td>\n",
       "      <td>b</td>\n",
       "      <td>2</td>\n",
       "      <td>5</td>\n",
       "      <td>1</td>\n",
       "      <td>we mall</td>\n",
       "    </tr>\n",
       "    <tr>\n",
       "      <th>2</th>\n",
       "      <td>user1</td>\n",
       "      <td>b</td>\n",
       "      <td>4</td>\n",
       "      <td>1</td>\n",
       "      <td>4</td>\n",
       "      <td>bla bla</td>\n",
       "    </tr>\n",
       "    <tr>\n",
       "      <th>3</th>\n",
       "      <td>user4</td>\n",
       "      <td>b</td>\n",
       "      <td>2</td>\n",
       "      <td>3</td>\n",
       "      <td>4</td>\n",
       "      <td>we are</td>\n",
       "    </tr>\n",
       "    <tr>\n",
       "      <th>4</th>\n",
       "      <td>user3</td>\n",
       "      <td>c</td>\n",
       "      <td>4</td>\n",
       "      <td>4</td>\n",
       "      <td>2</td>\n",
       "      <td>you are</td>\n",
       "    </tr>\n",
       "    <tr>\n",
       "      <th>5</th>\n",
       "      <td>user6</td>\n",
       "      <td>c</td>\n",
       "      <td>1</td>\n",
       "      <td>5</td>\n",
       "      <td>1</td>\n",
       "      <td>we are</td>\n",
       "    </tr>\n",
       "    <tr>\n",
       "      <th>6</th>\n",
       "      <td>user5</td>\n",
       "      <td>c</td>\n",
       "      <td>4</td>\n",
       "      <td>3</td>\n",
       "      <td>4</td>\n",
       "      <td>call all</td>\n",
       "    </tr>\n",
       "    <tr>\n",
       "      <th>7</th>\n",
       "      <td>user7</td>\n",
       "      <td>a</td>\n",
       "      <td>2</td>\n",
       "      <td>2</td>\n",
       "      <td>2</td>\n",
       "      <td>call ball</td>\n",
       "    </tr>\n",
       "    <tr>\n",
       "      <th>8</th>\n",
       "      <td>user8</td>\n",
       "      <td>b</td>\n",
       "      <td>3</td>\n",
       "      <td>5</td>\n",
       "      <td>2</td>\n",
       "      <td>call</td>\n",
       "    </tr>\n",
       "    <tr>\n",
       "      <th>9</th>\n",
       "      <td>user9</td>\n",
       "      <td>a</td>\n",
       "      <td>5</td>\n",
       "      <td>4</td>\n",
       "      <td>1</td>\n",
       "      <td>bla</td>\n",
       "    </tr>\n",
       "  </tbody>\n",
       "</table>\n",
       "</div>"
      ],
      "text/plain": [
       "    User AlphanumericQuestion0  NumericQuestion1  NimericQuestion5  \\\n",
       "0  user0                     a                 1                 2   \n",
       "1  user2                     b                 2                 5   \n",
       "2  user1                     b                 4                 1   \n",
       "3  user4                     b                 2                 3   \n",
       "4  user3                     c                 4                 4   \n",
       "5  user6                     c                 1                 5   \n",
       "6  user5                     c                 4                 3   \n",
       "7  user7                     a                 2                 2   \n",
       "8  user8                     b                 3                 5   \n",
       "9  user9                     a                 5                 4   \n",
       "\n",
       "   NumericQuestion6 AlphanumericQuestion4  \n",
       "0                 3               all all  \n",
       "1                 1               we mall  \n",
       "2                 4               bla bla  \n",
       "3                 4                we are  \n",
       "4                 2               you are  \n",
       "5                 1                we are  \n",
       "6                 4              call all  \n",
       "7                 2             call ball  \n",
       "8                 2                  call  \n",
       "9                 1                   bla  "
      ]
     },
     "execution_count": 850,
     "metadata": {},
     "output_type": "execute_result"
    }
   ],
   "source": [
    "example_data_B = {'User':['user0', 'user2', 'user1', 'user4', 'user3', 'user6', 'user5', 'user7', 'user8', 'user9'],\n",
    "                'AlphanumericQuestion0':['a','b','b','b','c','c','c','a','b','a'],\n",
    "                'NumericQuestion1':[1,2,4,2,4,1,4,2,3,5],\n",
    "                'NimericQuestion5':[2,5,1,3,4,5,3,2,5,4],\n",
    "                'NumericQuestion6':[3,1,4,4,2,1,4,2,2,1],\n",
    "                'AlphanumericQuestion4':['all all','we mall','bla bla','we are','you are','we are','call all', 'call ball','call','bla'],\n",
    "               }\n",
    "example_dataframe_B = pd.DataFrame(example_data_B)\n",
    "example_dataframe_B"
   ]
  },
  {
   "cell_type": "markdown",
   "id": "02eeb978",
   "metadata": {},
   "source": [
    "Note that we have a User column and some Question columns boht numerical and categorical.\n",
    "\n",
    "\n",
    "We want to make a brief exploration of the two dataset and a brief comparison of the two, take in consideration that not all the Question are the same in the two database."
   ]
  },
  {
   "cell_type": "markdown",
   "id": "cdafa950",
   "metadata": {},
   "source": [
    "## Import data\n",
    "<a id='import'></a>"
   ]
  },
  {
   "cell_type": "code",
   "execution_count": 851,
   "id": "8759f6e3",
   "metadata": {},
   "outputs": [],
   "source": [
    "database_A = example_dataframe_A\n",
    "database_B = example_dataframe_B"
   ]
  },
  {
   "cell_type": "markdown",
   "id": "112bc9e2",
   "metadata": {},
   "source": [
    "### CSV\n",
    "<a id='csv'></a>\n",
    "Let's suppose that the data are in a csv file"
   ]
  },
  {
   "cell_type": "code",
   "execution_count": 852,
   "id": "6069be7e",
   "metadata": {},
   "outputs": [],
   "source": [
    "# Uncomment the next lines and insert the path of the csv file instead of CSV_PATH\n",
    "#database_A = pd.read_csv('CSV_PATH_A')\n",
    "#database_B = pd.read_csv('CSV_PATH_B')"
   ]
  },
  {
   "cell_type": "markdown",
   "id": "cf9037f0",
   "metadata": {},
   "source": [
    "### Excel\n",
    "<a id='excel'></a>\n",
    "Let's suppose that the data are in a excel file"
   ]
  },
  {
   "cell_type": "code",
   "execution_count": 853,
   "id": "5a9ea556",
   "metadata": {},
   "outputs": [],
   "source": [
    "# Uncomment the next lines and insert the path of the excel file instead of EXCEL_PATH\n",
    "#database_A = pd.read_excel('EXCEL_PATH_A', engine='openpyxl')\n",
    "#database_B = pd.read_excel('EXCEL_PATH_B', engine='openpyxl')"
   ]
  },
  {
   "cell_type": "markdown",
   "id": "14a68867",
   "metadata": {},
   "source": [
    "## Anonymization\n",
    "<a id='anonymization'></a>"
   ]
  },
  {
   "cell_type": "markdown",
   "id": "cc186328",
   "metadata": {},
   "source": [
    "If the User column contain sensible data maybe we want to anonymize the two database.\n",
    "\n",
    "\n",
    "In this way we can still compare the values of the same user in the two database but during the exploration we will know nothing about the sensible data.\n",
    "\n",
    "\n",
    "Note: if you do not need to anonymize data simply jump to [Post anonymization](#post_anonymization)  "
   ]
  },
  {
   "cell_type": "code",
   "execution_count": 854,
   "id": "cb4d4a48",
   "metadata": {},
   "outputs": [
    {
     "name": "stdout",
     "output_type": "stream",
     "text": [
      "['user0', 'user1', 'user2', 'user3', 'user4', 'user5', 'user6', 'user7', 'user8', 'user9', 'user0', 'user2', 'user1', 'user4', 'user3', 'user6', 'user5', 'user7', 'user8', 'user9']\n",
      "Encoded users:\n",
      "[0 1 2 3 4 5 6 7 8 9 0 2 1 4 3 6 5 7 8 9]\n",
      "Clear users:\n",
      "0    user0\n",
      "1    user1\n",
      "2    user2\n",
      "3    user3\n",
      "4    user4\n",
      "5    user5\n",
      "6    user6\n",
      "7    user7\n",
      "8    user8\n",
      "9    user9\n",
      "Name: User, dtype: object\n",
      "0    user0\n",
      "1    user2\n",
      "2    user1\n",
      "3    user4\n",
      "4    user3\n",
      "5    user6\n",
      "6    user5\n",
      "7    user7\n",
      "8    user8\n",
      "9    user9\n",
      "Name: User, dtype: object\n",
      "Unique users:\n",
      "['user0' 'user1' 'user2' 'user3' 'user4' 'user5' 'user6' 'user7' 'user8'\n",
      " 'user9']\n"
     ]
    }
   ],
   "source": [
    "# Let's encode the two Users colunmns with the same criteria\n",
    "list_A_B_users = database_A['User'].to_list() + database_B['User'].to_list()\n",
    "print(list_A_B_users)\n",
    "\n",
    "encoded_users_AB, unique_users_AB = pd.factorize(list_A_B_users)\n",
    "print('Encoded users:')\n",
    "print(encoded_users_AB)\n",
    "print('Clear users:')\n",
    "print(database_A['User'])\n",
    "print(database_B['User'])\n",
    "print('Unique users:')\n",
    "print(unique_users_AB)"
   ]
  },
  {
   "cell_type": "code",
   "execution_count": 855,
   "id": "79b94972",
   "metadata": {},
   "outputs": [],
   "source": [
    "anonymized_database_A = database_A\n",
    "anonymized_database_B = database_B\n",
    "anonymized_database_A['User'] = encoded_users_AB[:len(database_A['User'].to_list())]\n",
    "anonymized_database_B['User'] = encoded_users_AB[len(database_A['User'].to_list()):]"
   ]
  },
  {
   "cell_type": "code",
   "execution_count": 856,
   "id": "81a015a0",
   "metadata": {},
   "outputs": [
    {
     "data": {
      "text/html": [
       "<div>\n",
       "<style scoped>\n",
       "    .dataframe tbody tr th:only-of-type {\n",
       "        vertical-align: middle;\n",
       "    }\n",
       "\n",
       "    .dataframe tbody tr th {\n",
       "        vertical-align: top;\n",
       "    }\n",
       "\n",
       "    .dataframe thead th {\n",
       "        text-align: right;\n",
       "    }\n",
       "</style>\n",
       "<table border=\"1\" class=\"dataframe\">\n",
       "  <thead>\n",
       "    <tr style=\"text-align: right;\">\n",
       "      <th></th>\n",
       "      <th>User</th>\n",
       "      <th>AlphanumericQuestion0</th>\n",
       "      <th>NumericQuestion1</th>\n",
       "      <th>NimericQuestion2</th>\n",
       "      <th>NumericQuestion3</th>\n",
       "      <th>AlphanumericQuestion4</th>\n",
       "    </tr>\n",
       "  </thead>\n",
       "  <tbody>\n",
       "    <tr>\n",
       "      <th>0</th>\n",
       "      <td>0</td>\n",
       "      <td>a</td>\n",
       "      <td>1</td>\n",
       "      <td>2</td>\n",
       "      <td>3</td>\n",
       "      <td>all all</td>\n",
       "    </tr>\n",
       "    <tr>\n",
       "      <th>1</th>\n",
       "      <td>1</td>\n",
       "      <td>a</td>\n",
       "      <td>3</td>\n",
       "      <td>2</td>\n",
       "      <td>5</td>\n",
       "      <td>ball mall</td>\n",
       "    </tr>\n",
       "    <tr>\n",
       "      <th>2</th>\n",
       "      <td>2</td>\n",
       "      <td>b</td>\n",
       "      <td>5</td>\n",
       "      <td>2</td>\n",
       "      <td>5</td>\n",
       "      <td>bla bla</td>\n",
       "    </tr>\n",
       "    <tr>\n",
       "      <th>3</th>\n",
       "      <td>3</td>\n",
       "      <td>b</td>\n",
       "      <td>2</td>\n",
       "      <td>4</td>\n",
       "      <td>1</td>\n",
       "      <td>we are</td>\n",
       "    </tr>\n",
       "    <tr>\n",
       "      <th>4</th>\n",
       "      <td>4</td>\n",
       "      <td>c</td>\n",
       "      <td>4</td>\n",
       "      <td>4</td>\n",
       "      <td>2</td>\n",
       "      <td>you are</td>\n",
       "    </tr>\n",
       "    <tr>\n",
       "      <th>5</th>\n",
       "      <td>5</td>\n",
       "      <td>c</td>\n",
       "      <td>2</td>\n",
       "      <td>1</td>\n",
       "      <td>1</td>\n",
       "      <td>we are</td>\n",
       "    </tr>\n",
       "    <tr>\n",
       "      <th>6</th>\n",
       "      <td>6</td>\n",
       "      <td>c</td>\n",
       "      <td>2</td>\n",
       "      <td>3</td>\n",
       "      <td>1</td>\n",
       "      <td>call all</td>\n",
       "    </tr>\n",
       "    <tr>\n",
       "      <th>7</th>\n",
       "      <td>7</td>\n",
       "      <td>a</td>\n",
       "      <td>2</td>\n",
       "      <td>3</td>\n",
       "      <td>2</td>\n",
       "      <td>call ball</td>\n",
       "    </tr>\n",
       "    <tr>\n",
       "      <th>8</th>\n",
       "      <td>8</td>\n",
       "      <td>b</td>\n",
       "      <td>3</td>\n",
       "      <td>5</td>\n",
       "      <td>1</td>\n",
       "      <td>call</td>\n",
       "    </tr>\n",
       "    <tr>\n",
       "      <th>9</th>\n",
       "      <td>9</td>\n",
       "      <td>a</td>\n",
       "      <td>5</td>\n",
       "      <td>4</td>\n",
       "      <td>1</td>\n",
       "      <td>bla</td>\n",
       "    </tr>\n",
       "  </tbody>\n",
       "</table>\n",
       "</div>"
      ],
      "text/plain": [
       "   User AlphanumericQuestion0  NumericQuestion1  NimericQuestion2  \\\n",
       "0     0                     a                 1                 2   \n",
       "1     1                     a                 3                 2   \n",
       "2     2                     b                 5                 2   \n",
       "3     3                     b                 2                 4   \n",
       "4     4                     c                 4                 4   \n",
       "5     5                     c                 2                 1   \n",
       "6     6                     c                 2                 3   \n",
       "7     7                     a                 2                 3   \n",
       "8     8                     b                 3                 5   \n",
       "9     9                     a                 5                 4   \n",
       "\n",
       "   NumericQuestion3 AlphanumericQuestion4  \n",
       "0                 3               all all  \n",
       "1                 5             ball mall  \n",
       "2                 5               bla bla  \n",
       "3                 1                we are  \n",
       "4                 2               you are  \n",
       "5                 1                we are  \n",
       "6                 1              call all  \n",
       "7                 2             call ball  \n",
       "8                 1                  call  \n",
       "9                 1                   bla  "
      ]
     },
     "execution_count": 856,
     "metadata": {},
     "output_type": "execute_result"
    }
   ],
   "source": [
    "anonymized_database_A"
   ]
  },
  {
   "cell_type": "code",
   "execution_count": 857,
   "id": "3ca9e399",
   "metadata": {},
   "outputs": [
    {
     "data": {
      "text/html": [
       "<div>\n",
       "<style scoped>\n",
       "    .dataframe tbody tr th:only-of-type {\n",
       "        vertical-align: middle;\n",
       "    }\n",
       "\n",
       "    .dataframe tbody tr th {\n",
       "        vertical-align: top;\n",
       "    }\n",
       "\n",
       "    .dataframe thead th {\n",
       "        text-align: right;\n",
       "    }\n",
       "</style>\n",
       "<table border=\"1\" class=\"dataframe\">\n",
       "  <thead>\n",
       "    <tr style=\"text-align: right;\">\n",
       "      <th></th>\n",
       "      <th>User</th>\n",
       "      <th>AlphanumericQuestion0</th>\n",
       "      <th>NumericQuestion1</th>\n",
       "      <th>NimericQuestion5</th>\n",
       "      <th>NumericQuestion6</th>\n",
       "      <th>AlphanumericQuestion4</th>\n",
       "    </tr>\n",
       "  </thead>\n",
       "  <tbody>\n",
       "    <tr>\n",
       "      <th>0</th>\n",
       "      <td>0</td>\n",
       "      <td>a</td>\n",
       "      <td>1</td>\n",
       "      <td>2</td>\n",
       "      <td>3</td>\n",
       "      <td>all all</td>\n",
       "    </tr>\n",
       "    <tr>\n",
       "      <th>1</th>\n",
       "      <td>2</td>\n",
       "      <td>b</td>\n",
       "      <td>2</td>\n",
       "      <td>5</td>\n",
       "      <td>1</td>\n",
       "      <td>we mall</td>\n",
       "    </tr>\n",
       "    <tr>\n",
       "      <th>2</th>\n",
       "      <td>1</td>\n",
       "      <td>b</td>\n",
       "      <td>4</td>\n",
       "      <td>1</td>\n",
       "      <td>4</td>\n",
       "      <td>bla bla</td>\n",
       "    </tr>\n",
       "    <tr>\n",
       "      <th>3</th>\n",
       "      <td>4</td>\n",
       "      <td>b</td>\n",
       "      <td>2</td>\n",
       "      <td>3</td>\n",
       "      <td>4</td>\n",
       "      <td>we are</td>\n",
       "    </tr>\n",
       "    <tr>\n",
       "      <th>4</th>\n",
       "      <td>3</td>\n",
       "      <td>c</td>\n",
       "      <td>4</td>\n",
       "      <td>4</td>\n",
       "      <td>2</td>\n",
       "      <td>you are</td>\n",
       "    </tr>\n",
       "    <tr>\n",
       "      <th>5</th>\n",
       "      <td>6</td>\n",
       "      <td>c</td>\n",
       "      <td>1</td>\n",
       "      <td>5</td>\n",
       "      <td>1</td>\n",
       "      <td>we are</td>\n",
       "    </tr>\n",
       "    <tr>\n",
       "      <th>6</th>\n",
       "      <td>5</td>\n",
       "      <td>c</td>\n",
       "      <td>4</td>\n",
       "      <td>3</td>\n",
       "      <td>4</td>\n",
       "      <td>call all</td>\n",
       "    </tr>\n",
       "    <tr>\n",
       "      <th>7</th>\n",
       "      <td>7</td>\n",
       "      <td>a</td>\n",
       "      <td>2</td>\n",
       "      <td>2</td>\n",
       "      <td>2</td>\n",
       "      <td>call ball</td>\n",
       "    </tr>\n",
       "    <tr>\n",
       "      <th>8</th>\n",
       "      <td>8</td>\n",
       "      <td>b</td>\n",
       "      <td>3</td>\n",
       "      <td>5</td>\n",
       "      <td>2</td>\n",
       "      <td>call</td>\n",
       "    </tr>\n",
       "    <tr>\n",
       "      <th>9</th>\n",
       "      <td>9</td>\n",
       "      <td>a</td>\n",
       "      <td>5</td>\n",
       "      <td>4</td>\n",
       "      <td>1</td>\n",
       "      <td>bla</td>\n",
       "    </tr>\n",
       "  </tbody>\n",
       "</table>\n",
       "</div>"
      ],
      "text/plain": [
       "   User AlphanumericQuestion0  NumericQuestion1  NimericQuestion5  \\\n",
       "0     0                     a                 1                 2   \n",
       "1     2                     b                 2                 5   \n",
       "2     1                     b                 4                 1   \n",
       "3     4                     b                 2                 3   \n",
       "4     3                     c                 4                 4   \n",
       "5     6                     c                 1                 5   \n",
       "6     5                     c                 4                 3   \n",
       "7     7                     a                 2                 2   \n",
       "8     8                     b                 3                 5   \n",
       "9     9                     a                 5                 4   \n",
       "\n",
       "   NumericQuestion6 AlphanumericQuestion4  \n",
       "0                 3               all all  \n",
       "1                 1               we mall  \n",
       "2                 4               bla bla  \n",
       "3                 4                we are  \n",
       "4                 2               you are  \n",
       "5                 1                we are  \n",
       "6                 4              call all  \n",
       "7                 2             call ball  \n",
       "8                 2                  call  \n",
       "9                 1                   bla  "
      ]
     },
     "execution_count": 857,
     "metadata": {},
     "output_type": "execute_result"
    }
   ],
   "source": [
    "anonymized_database_B"
   ]
  },
  {
   "cell_type": "markdown",
   "id": "f8d4ee68",
   "metadata": {},
   "source": [
    "This point is of particoular importance if the next exploration passages will be executed by someone wich should not have access to the sensible data.\n",
    "\n",
    "So someone with the authorizations to the sensible data will perform the anonymization and will give the anonymized data to the people that will perform the expolorations "
   ]
  },
  {
   "cell_type": "code",
   "execution_count": 858,
   "id": "9920dfc6",
   "metadata": {},
   "outputs": [],
   "source": [
    "# Let's save the anonymized version of the two database\n",
    "anonymized_database_A.to_csv('anonymized_database_A.csv')\n",
    "anonymized_database_B.to_csv('anonymized_database_B.csv')"
   ]
  },
  {
   "cell_type": "markdown",
   "id": "f017d3ec",
   "metadata": {},
   "source": [
    "## Post anonymization\n",
    "<a id='post_anonymization'></a>"
   ]
  },
  {
   "cell_type": "markdown",
   "id": "ca909f11",
   "metadata": {},
   "source": [
    "For the actual purpose we do not need to compare the same user across the two database so we'll simply ignore the User column"
   ]
  },
  {
   "cell_type": "code",
   "execution_count": 859,
   "id": "b64b7ca7",
   "metadata": {},
   "outputs": [],
   "source": [
    "partial_database_A = database_A.drop(['User'], axis=1)\n",
    "partial_database_B = database_B.drop(['User'], axis=1)"
   ]
  },
  {
   "cell_type": "code",
   "execution_count": 860,
   "id": "af8ba8b7",
   "metadata": {},
   "outputs": [
    {
     "data": {
      "text/html": [
       "<div>\n",
       "<style scoped>\n",
       "    .dataframe tbody tr th:only-of-type {\n",
       "        vertical-align: middle;\n",
       "    }\n",
       "\n",
       "    .dataframe tbody tr th {\n",
       "        vertical-align: top;\n",
       "    }\n",
       "\n",
       "    .dataframe thead th {\n",
       "        text-align: right;\n",
       "    }\n",
       "</style>\n",
       "<table border=\"1\" class=\"dataframe\">\n",
       "  <thead>\n",
       "    <tr style=\"text-align: right;\">\n",
       "      <th></th>\n",
       "      <th>User</th>\n",
       "      <th>AlphanumericQuestion0</th>\n",
       "      <th>NumericQuestion1</th>\n",
       "      <th>NimericQuestion2</th>\n",
       "      <th>NumericQuestion3</th>\n",
       "      <th>AlphanumericQuestion4</th>\n",
       "    </tr>\n",
       "  </thead>\n",
       "  <tbody>\n",
       "    <tr>\n",
       "      <th>0</th>\n",
       "      <td>0</td>\n",
       "      <td>a</td>\n",
       "      <td>1</td>\n",
       "      <td>2</td>\n",
       "      <td>3</td>\n",
       "      <td>all all</td>\n",
       "    </tr>\n",
       "    <tr>\n",
       "      <th>1</th>\n",
       "      <td>1</td>\n",
       "      <td>a</td>\n",
       "      <td>3</td>\n",
       "      <td>2</td>\n",
       "      <td>5</td>\n",
       "      <td>ball mall</td>\n",
       "    </tr>\n",
       "    <tr>\n",
       "      <th>2</th>\n",
       "      <td>2</td>\n",
       "      <td>b</td>\n",
       "      <td>5</td>\n",
       "      <td>2</td>\n",
       "      <td>5</td>\n",
       "      <td>bla bla</td>\n",
       "    </tr>\n",
       "    <tr>\n",
       "      <th>3</th>\n",
       "      <td>3</td>\n",
       "      <td>b</td>\n",
       "      <td>2</td>\n",
       "      <td>4</td>\n",
       "      <td>1</td>\n",
       "      <td>we are</td>\n",
       "    </tr>\n",
       "    <tr>\n",
       "      <th>4</th>\n",
       "      <td>4</td>\n",
       "      <td>c</td>\n",
       "      <td>4</td>\n",
       "      <td>4</td>\n",
       "      <td>2</td>\n",
       "      <td>you are</td>\n",
       "    </tr>\n",
       "    <tr>\n",
       "      <th>5</th>\n",
       "      <td>5</td>\n",
       "      <td>c</td>\n",
       "      <td>2</td>\n",
       "      <td>1</td>\n",
       "      <td>1</td>\n",
       "      <td>we are</td>\n",
       "    </tr>\n",
       "    <tr>\n",
       "      <th>6</th>\n",
       "      <td>6</td>\n",
       "      <td>c</td>\n",
       "      <td>2</td>\n",
       "      <td>3</td>\n",
       "      <td>1</td>\n",
       "      <td>call all</td>\n",
       "    </tr>\n",
       "    <tr>\n",
       "      <th>7</th>\n",
       "      <td>7</td>\n",
       "      <td>a</td>\n",
       "      <td>2</td>\n",
       "      <td>3</td>\n",
       "      <td>2</td>\n",
       "      <td>call ball</td>\n",
       "    </tr>\n",
       "    <tr>\n",
       "      <th>8</th>\n",
       "      <td>8</td>\n",
       "      <td>b</td>\n",
       "      <td>3</td>\n",
       "      <td>5</td>\n",
       "      <td>1</td>\n",
       "      <td>call</td>\n",
       "    </tr>\n",
       "    <tr>\n",
       "      <th>9</th>\n",
       "      <td>9</td>\n",
       "      <td>a</td>\n",
       "      <td>5</td>\n",
       "      <td>4</td>\n",
       "      <td>1</td>\n",
       "      <td>bla</td>\n",
       "    </tr>\n",
       "  </tbody>\n",
       "</table>\n",
       "</div>"
      ],
      "text/plain": [
       "   User AlphanumericQuestion0  NumericQuestion1  NimericQuestion2  \\\n",
       "0     0                     a                 1                 2   \n",
       "1     1                     a                 3                 2   \n",
       "2     2                     b                 5                 2   \n",
       "3     3                     b                 2                 4   \n",
       "4     4                     c                 4                 4   \n",
       "5     5                     c                 2                 1   \n",
       "6     6                     c                 2                 3   \n",
       "7     7                     a                 2                 3   \n",
       "8     8                     b                 3                 5   \n",
       "9     9                     a                 5                 4   \n",
       "\n",
       "   NumericQuestion3 AlphanumericQuestion4  \n",
       "0                 3               all all  \n",
       "1                 5             ball mall  \n",
       "2                 5               bla bla  \n",
       "3                 1                we are  \n",
       "4                 2               you are  \n",
       "5                 1                we are  \n",
       "6                 1              call all  \n",
       "7                 2             call ball  \n",
       "8                 1                  call  \n",
       "9                 1                   bla  "
      ]
     },
     "execution_count": 860,
     "metadata": {},
     "output_type": "execute_result"
    }
   ],
   "source": [
    "database_A"
   ]
  },
  {
   "cell_type": "code",
   "execution_count": 861,
   "id": "3ef593d6",
   "metadata": {},
   "outputs": [
    {
     "data": {
      "text/html": [
       "<div>\n",
       "<style scoped>\n",
       "    .dataframe tbody tr th:only-of-type {\n",
       "        vertical-align: middle;\n",
       "    }\n",
       "\n",
       "    .dataframe tbody tr th {\n",
       "        vertical-align: top;\n",
       "    }\n",
       "\n",
       "    .dataframe thead th {\n",
       "        text-align: right;\n",
       "    }\n",
       "</style>\n",
       "<table border=\"1\" class=\"dataframe\">\n",
       "  <thead>\n",
       "    <tr style=\"text-align: right;\">\n",
       "      <th></th>\n",
       "      <th>AlphanumericQuestion0</th>\n",
       "      <th>NumericQuestion1</th>\n",
       "      <th>NimericQuestion2</th>\n",
       "      <th>NumericQuestion3</th>\n",
       "      <th>AlphanumericQuestion4</th>\n",
       "    </tr>\n",
       "  </thead>\n",
       "  <tbody>\n",
       "    <tr>\n",
       "      <th>0</th>\n",
       "      <td>a</td>\n",
       "      <td>1</td>\n",
       "      <td>2</td>\n",
       "      <td>3</td>\n",
       "      <td>all all</td>\n",
       "    </tr>\n",
       "    <tr>\n",
       "      <th>1</th>\n",
       "      <td>a</td>\n",
       "      <td>3</td>\n",
       "      <td>2</td>\n",
       "      <td>5</td>\n",
       "      <td>ball mall</td>\n",
       "    </tr>\n",
       "    <tr>\n",
       "      <th>2</th>\n",
       "      <td>b</td>\n",
       "      <td>5</td>\n",
       "      <td>2</td>\n",
       "      <td>5</td>\n",
       "      <td>bla bla</td>\n",
       "    </tr>\n",
       "    <tr>\n",
       "      <th>3</th>\n",
       "      <td>b</td>\n",
       "      <td>2</td>\n",
       "      <td>4</td>\n",
       "      <td>1</td>\n",
       "      <td>we are</td>\n",
       "    </tr>\n",
       "    <tr>\n",
       "      <th>4</th>\n",
       "      <td>c</td>\n",
       "      <td>4</td>\n",
       "      <td>4</td>\n",
       "      <td>2</td>\n",
       "      <td>you are</td>\n",
       "    </tr>\n",
       "    <tr>\n",
       "      <th>5</th>\n",
       "      <td>c</td>\n",
       "      <td>2</td>\n",
       "      <td>1</td>\n",
       "      <td>1</td>\n",
       "      <td>we are</td>\n",
       "    </tr>\n",
       "    <tr>\n",
       "      <th>6</th>\n",
       "      <td>c</td>\n",
       "      <td>2</td>\n",
       "      <td>3</td>\n",
       "      <td>1</td>\n",
       "      <td>call all</td>\n",
       "    </tr>\n",
       "    <tr>\n",
       "      <th>7</th>\n",
       "      <td>a</td>\n",
       "      <td>2</td>\n",
       "      <td>3</td>\n",
       "      <td>2</td>\n",
       "      <td>call ball</td>\n",
       "    </tr>\n",
       "    <tr>\n",
       "      <th>8</th>\n",
       "      <td>b</td>\n",
       "      <td>3</td>\n",
       "      <td>5</td>\n",
       "      <td>1</td>\n",
       "      <td>call</td>\n",
       "    </tr>\n",
       "    <tr>\n",
       "      <th>9</th>\n",
       "      <td>a</td>\n",
       "      <td>5</td>\n",
       "      <td>4</td>\n",
       "      <td>1</td>\n",
       "      <td>bla</td>\n",
       "    </tr>\n",
       "  </tbody>\n",
       "</table>\n",
       "</div>"
      ],
      "text/plain": [
       "  AlphanumericQuestion0  NumericQuestion1  NimericQuestion2  NumericQuestion3  \\\n",
       "0                     a                 1                 2                 3   \n",
       "1                     a                 3                 2                 5   \n",
       "2                     b                 5                 2                 5   \n",
       "3                     b                 2                 4                 1   \n",
       "4                     c                 4                 4                 2   \n",
       "5                     c                 2                 1                 1   \n",
       "6                     c                 2                 3                 1   \n",
       "7                     a                 2                 3                 2   \n",
       "8                     b                 3                 5                 1   \n",
       "9                     a                 5                 4                 1   \n",
       "\n",
       "  AlphanumericQuestion4  \n",
       "0               all all  \n",
       "1             ball mall  \n",
       "2               bla bla  \n",
       "3                we are  \n",
       "4               you are  \n",
       "5                we are  \n",
       "6              call all  \n",
       "7             call ball  \n",
       "8                  call  \n",
       "9                   bla  "
      ]
     },
     "execution_count": 861,
     "metadata": {},
     "output_type": "execute_result"
    }
   ],
   "source": [
    "partial_database_A"
   ]
  },
  {
   "cell_type": "markdown",
   "id": "ec595a05",
   "metadata": {},
   "source": [
    "### Categorical Data \n",
    "<a id='cat_data_management'></a>\n",
    "Let's suppose that we want to treat some of the columns as categorical data, pandas library provide us an apposite data type.\n",
    "Let's convert the firsth column to cathegorical type"
   ]
  },
  {
   "cell_type": "code",
   "execution_count": 862,
   "id": "9f8e3020",
   "metadata": {},
   "outputs": [
    {
     "data": {
      "text/plain": [
       "['a', 'a', 'b', 'b', 'c', 'c', 'c', 'a', 'b', 'a']\n",
       "Categories (3, object): ['a', 'b', 'c']"
      ]
     },
     "execution_count": 862,
     "metadata": {},
     "output_type": "execute_result"
    }
   ],
   "source": [
    "pd.Categorical(partial_database_A.iloc[:,0])"
   ]
  },
  {
   "cell_type": "code",
   "execution_count": 863,
   "id": "3e998398",
   "metadata": {},
   "outputs": [],
   "source": [
    "partial_database_A.iloc[:,0] = pd.Categorical(partial_database_A.iloc[:,0])"
   ]
  },
  {
   "cell_type": "markdown",
   "id": "aaab9c38",
   "metadata": {},
   "source": [
    "## Exploration\n",
    "<a id='exploration'></a>"
   ]
  },
  {
   "cell_type": "markdown",
   "id": "a5c9b7da",
   "metadata": {},
   "source": [
    "### Numerical data\n",
    "<a id='numerical'></a>"
   ]
  },
  {
   "cell_type": "markdown",
   "id": "464210fc",
   "metadata": {},
   "source": [
    "Global summary for each **numerical** column in database A"
   ]
  },
  {
   "cell_type": "markdown",
   "id": "781dca40",
   "metadata": {},
   "source": [
    "**Warning** in the next lines we will consider all the columns that have numerical values as numerical variables. \n",
    "\n",
    "If there are some columns in your dataset that are categorical but the values are numeric, be careful and remove these columns before applying of the subsequent rows.\n",
    "Fore these columns you should apply the operations defined in [Categorical data](#categorical)"
   ]
  },
  {
   "cell_type": "code",
   "execution_count": 864,
   "id": "042e7ce9",
   "metadata": {},
   "outputs": [
    {
     "data": {
      "text/html": [
       "<div>\n",
       "<style scoped>\n",
       "    .dataframe tbody tr th:only-of-type {\n",
       "        vertical-align: middle;\n",
       "    }\n",
       "\n",
       "    .dataframe tbody tr th {\n",
       "        vertical-align: top;\n",
       "    }\n",
       "\n",
       "    .dataframe thead th {\n",
       "        text-align: right;\n",
       "    }\n",
       "</style>\n",
       "<table border=\"1\" class=\"dataframe\">\n",
       "  <thead>\n",
       "    <tr style=\"text-align: right;\">\n",
       "      <th></th>\n",
       "      <th>NumericQuestion1</th>\n",
       "      <th>NimericQuestion2</th>\n",
       "      <th>NumericQuestion3</th>\n",
       "    </tr>\n",
       "  </thead>\n",
       "  <tbody>\n",
       "    <tr>\n",
       "      <th>count</th>\n",
       "      <td>10.00000</td>\n",
       "      <td>10.000000</td>\n",
       "      <td>10.000000</td>\n",
       "    </tr>\n",
       "    <tr>\n",
       "      <th>mean</th>\n",
       "      <td>2.90000</td>\n",
       "      <td>3.000000</td>\n",
       "      <td>2.200000</td>\n",
       "    </tr>\n",
       "    <tr>\n",
       "      <th>std</th>\n",
       "      <td>1.37032</td>\n",
       "      <td>1.247219</td>\n",
       "      <td>1.619328</td>\n",
       "    </tr>\n",
       "    <tr>\n",
       "      <th>min</th>\n",
       "      <td>1.00000</td>\n",
       "      <td>1.000000</td>\n",
       "      <td>1.000000</td>\n",
       "    </tr>\n",
       "    <tr>\n",
       "      <th>25%</th>\n",
       "      <td>2.00000</td>\n",
       "      <td>2.000000</td>\n",
       "      <td>1.000000</td>\n",
       "    </tr>\n",
       "    <tr>\n",
       "      <th>50%</th>\n",
       "      <td>2.50000</td>\n",
       "      <td>3.000000</td>\n",
       "      <td>1.500000</td>\n",
       "    </tr>\n",
       "    <tr>\n",
       "      <th>75%</th>\n",
       "      <td>3.75000</td>\n",
       "      <td>4.000000</td>\n",
       "      <td>2.750000</td>\n",
       "    </tr>\n",
       "    <tr>\n",
       "      <th>max</th>\n",
       "      <td>5.00000</td>\n",
       "      <td>5.000000</td>\n",
       "      <td>5.000000</td>\n",
       "    </tr>\n",
       "  </tbody>\n",
       "</table>\n",
       "</div>"
      ],
      "text/plain": [
       "       NumericQuestion1  NimericQuestion2  NumericQuestion3\n",
       "count          10.00000         10.000000         10.000000\n",
       "mean            2.90000          3.000000          2.200000\n",
       "std             1.37032          1.247219          1.619328\n",
       "min             1.00000          1.000000          1.000000\n",
       "25%             2.00000          2.000000          1.000000\n",
       "50%             2.50000          3.000000          1.500000\n",
       "75%             3.75000          4.000000          2.750000\n",
       "max             5.00000          5.000000          5.000000"
      ]
     },
     "execution_count": 864,
     "metadata": {},
     "output_type": "execute_result"
    }
   ],
   "source": [
    "partial_database_A.describe()"
   ]
  },
  {
   "cell_type": "markdown",
   "id": "3ef4eca2",
   "metadata": {},
   "source": [
    "Global summary for each **numerical** column in database B"
   ]
  },
  {
   "cell_type": "code",
   "execution_count": 865,
   "id": "48e48495",
   "metadata": {},
   "outputs": [
    {
     "data": {
      "text/html": [
       "<div>\n",
       "<style scoped>\n",
       "    .dataframe tbody tr th:only-of-type {\n",
       "        vertical-align: middle;\n",
       "    }\n",
       "\n",
       "    .dataframe tbody tr th {\n",
       "        vertical-align: top;\n",
       "    }\n",
       "\n",
       "    .dataframe thead th {\n",
       "        text-align: right;\n",
       "    }\n",
       "</style>\n",
       "<table border=\"1\" class=\"dataframe\">\n",
       "  <thead>\n",
       "    <tr style=\"text-align: right;\">\n",
       "      <th></th>\n",
       "      <th>NumericQuestion1</th>\n",
       "      <th>NimericQuestion5</th>\n",
       "      <th>NumericQuestion6</th>\n",
       "    </tr>\n",
       "  </thead>\n",
       "  <tbody>\n",
       "    <tr>\n",
       "      <th>count</th>\n",
       "      <td>10.000000</td>\n",
       "      <td>10.000000</td>\n",
       "      <td>10.000000</td>\n",
       "    </tr>\n",
       "    <tr>\n",
       "      <th>mean</th>\n",
       "      <td>2.800000</td>\n",
       "      <td>3.400000</td>\n",
       "      <td>2.400000</td>\n",
       "    </tr>\n",
       "    <tr>\n",
       "      <th>std</th>\n",
       "      <td>1.398412</td>\n",
       "      <td>1.429841</td>\n",
       "      <td>1.264911</td>\n",
       "    </tr>\n",
       "    <tr>\n",
       "      <th>min</th>\n",
       "      <td>1.000000</td>\n",
       "      <td>1.000000</td>\n",
       "      <td>1.000000</td>\n",
       "    </tr>\n",
       "    <tr>\n",
       "      <th>25%</th>\n",
       "      <td>2.000000</td>\n",
       "      <td>2.250000</td>\n",
       "      <td>1.250000</td>\n",
       "    </tr>\n",
       "    <tr>\n",
       "      <th>50%</th>\n",
       "      <td>2.500000</td>\n",
       "      <td>3.500000</td>\n",
       "      <td>2.000000</td>\n",
       "    </tr>\n",
       "    <tr>\n",
       "      <th>75%</th>\n",
       "      <td>4.000000</td>\n",
       "      <td>4.750000</td>\n",
       "      <td>3.750000</td>\n",
       "    </tr>\n",
       "    <tr>\n",
       "      <th>max</th>\n",
       "      <td>5.000000</td>\n",
       "      <td>5.000000</td>\n",
       "      <td>4.000000</td>\n",
       "    </tr>\n",
       "  </tbody>\n",
       "</table>\n",
       "</div>"
      ],
      "text/plain": [
       "       NumericQuestion1  NimericQuestion5  NumericQuestion6\n",
       "count         10.000000         10.000000         10.000000\n",
       "mean           2.800000          3.400000          2.400000\n",
       "std            1.398412          1.429841          1.264911\n",
       "min            1.000000          1.000000          1.000000\n",
       "25%            2.000000          2.250000          1.250000\n",
       "50%            2.500000          3.500000          2.000000\n",
       "75%            4.000000          4.750000          3.750000\n",
       "max            5.000000          5.000000          4.000000"
      ]
     },
     "execution_count": 865,
     "metadata": {},
     "output_type": "execute_result"
    }
   ],
   "source": [
    "partial_database_B.describe()"
   ]
  },
  {
   "cell_type": "markdown",
   "id": "1d69b23f",
   "metadata": {},
   "source": [
    "Global visual comparison"
   ]
  },
  {
   "cell_type": "code",
   "execution_count": 866,
   "id": "c9db48e3",
   "metadata": {},
   "outputs": [
    {
     "data": {
      "text/plain": [
       "Text(0.5, 0.98, 'Global comparison database A B')"
      ]
     },
     "execution_count": 866,
     "metadata": {},
     "output_type": "execute_result"
    },
    {
     "data": {
      "image/png": "[encoded data removed]",
      "text/plain": [
       "<Figure size 576x720 with 2 Axes>"
      ]
     },
     "metadata": {
      "needs_background": "light"
     },
     "output_type": "display_data"
    }
   ],
   "source": [
    "# Visual comparison of the summaries of the two database\n",
    "fig, (ax1, ax2) = plt.subplots(1, 2, figsize=(len(\\\n",
    "                                    partial_database_A.describe().index.to_list()),\\\n",
    "                                    max(partial_database_A.describe().max().max(),\\\n",
    "                                       partial_database_B.describe().max().max())))\n",
    "\n",
    "partial_database_A.describe().plot(kind = 'bar', title = 'Database A', ax = ax1)\n",
    "partial_database_B.describe().plot(kind = 'bar', title = 'Database B', ax = ax2)\n",
    "\n",
    "fig.suptitle('Global comparison database A B', fontsize=20)\n"
   ]
  },
  {
   "cell_type": "markdown",
   "id": "f2e0389b",
   "metadata": {},
   "source": [
    "Due to the different scale of each element maybe it's better provide a detailed visual comparison of the global informations of the two databases"
   ]
  },
  {
   "cell_type": "code",
   "execution_count": 867,
   "id": "e2108259",
   "metadata": {},
   "outputs": [
    {
     "data": {
      "image/png": "[encoded data removed]",
      "text/plain": [
       "<Figure size 576x720 with 2 Axes>"
      ]
     },
     "metadata": {
      "needs_background": "light"
     },
     "output_type": "display_data"
    },
    {
     "data": {
      "image/png": "[encoded data removed]",
      "text/plain": [
       "<Figure size 576x244.8 with 2 Axes>"
      ]
     },
     "metadata": {
      "needs_background": "light"
     },
     "output_type": "display_data"
    },
    {
     "data": {
      "image/png": "[encoded data removed]",
      "text/plain": [
       "<Figure size 576x116.592 with 2 Axes>"
      ]
     },
     "metadata": {
      "needs_background": "light"
     },
     "output_type": "display_data"
    },
    {
     "data": {
      "image/png": "[encoded data removed]",
      "text/plain": [
       "<Figure size 576x72 with 2 Axes>"
      ]
     },
     "metadata": {
      "needs_background": "light"
     },
     "output_type": "display_data"
    },
    {
     "data": {
      "image/png": "[encoded data removed]",
      "text/plain": [
       "<Figure size 576x162 with 2 Axes>"
      ]
     },
     "metadata": {
      "needs_background": "light"
     },
     "output_type": "display_data"
    },
    {
     "data": {
      "image/png": "[encoded data removed]",
      "text/plain": [
       "<Figure size 576x252 with 2 Axes>"
      ]
     },
     "metadata": {
      "needs_background": "light"
     },
     "output_type": "display_data"
    },
    {
     "data": {
      "image/png": "[encoded data removed]",
      "text/plain": [
       "<Figure size 576x342 with 2 Axes>"
      ]
     },
     "metadata": {
      "needs_background": "light"
     },
     "output_type": "display_data"
    },
    {
     "data": {
      "image/png": "[encoded data removed]",
      "text/plain": [
       "<Figure size 576x360 with 2 Axes>"
      ]
     },
     "metadata": {
      "needs_background": "light"
     },
     "output_type": "display_data"
    }
   ],
   "source": [
    "# Detailed visual comparison of the summaries of the two database\n",
    "for column in partial_database_A.describe().index.to_list():\n",
    "    fig, (ax1, ax2) = plt.subplots(1, 2, figsize=(len(\\\n",
    "                                    partial_database_A.describe().index.to_list()),\\\n",
    "                                    max(partial_database_A.describe().loc[column].max(),\\\n",
    "                                       partial_database_B.describe().loc[column].max())))\n",
    "\n",
    "    partial_database_A.describe().loc[column].plot(kind = 'bar',\\\n",
    "                                                   title = f'Database A {column}', ax = ax1)\n",
    "    partial_database_B.describe().loc[column].plot(kind = 'bar', \\\n",
    "                                                  title = f'Database B {column}', ax = ax2)\n"
   ]
  },
  {
   "cell_type": "markdown",
   "id": "774d81be",
   "metadata": {},
   "source": [
    "#### A better visualization for numerical data"
   ]
  },
  {
   "cell_type": "markdown",
   "id": "348b9974",
   "metadata": {},
   "source": [
    "An interesting usefull visualization summary of the previous data can be obained with violin plots"
   ]
  },
  {
   "cell_type": "code",
   "execution_count": 868,
   "id": "709b6de3",
   "metadata": {},
   "outputs": [],
   "source": [
    "# Let's consider only numerical clumns\n",
    "\n",
    "def extract_numerical_columns(dataframe):\n",
    "    \"\"\"\n",
    "    Returns a dataframe that contains only numerical columns of the input dataframe\n",
    "    \"\"\"\n",
    "    # Let's create a new data frame\n",
    "    numerical_dataframe = dataframe.copy(deep=True)\n",
    "    for column in dataframe.columns.to_list():\n",
    "        if not numerical_dataframe[column].astype(str).str.isdigit().all():\n",
    "            numerical_dataframe.pop(column)\n",
    "    return numerical_dataframe\n",
    "\n",
    "numerical_partial_database_A = extract_numerical_columns(partial_database_A)\n",
    "numerical_partial_database_B = extract_numerical_columns(partial_database_B)\n"
   ]
  },
  {
   "cell_type": "code",
   "execution_count": 881,
   "id": "c2d0723a",
   "metadata": {},
   "outputs": [
    {
     "data": {
      "image/png": "[encoded data removed]",
      "text/plain": [
       "<Figure size 720x720 with 2 Axes>"
      ]
     },
     "metadata": {
      "needs_background": "light"
     },
     "output_type": "display_data"
    }
   ],
   "source": [
    "# Axes personalization\n",
    "def set_axis_style(ax, labels):\n",
    "    \"\"\"\n",
    "    Given a matplotlib ax and lables update ax\n",
    "    \"\"\"\n",
    "    ax.xaxis.set_tick_params(direction='out')\n",
    "    ax.xaxis.set_ticks_position('bottom')\n",
    "    ax.set_xticks(np.arange(1, len(labels) + 1), labels=labels, rotation= 90)\n",
    "    ax.set_xlim(0.40, len(labels) + 0.75)\n",
    "    ax.set_xlabel('Columns')\n",
    "\n",
    "# Violin plot personalization\n",
    "def personalize_violinplots(dataframes, axes):\n",
    "    \"\"\"\n",
    "    Given a dataframe list and a list of matplotlib axes \n",
    "    creates a violinplot using different colours of each relevant element\n",
    "    \"\"\"\n",
    "    for index, ax in enumerate(axes):\n",
    "        quantiles_matrix = np.array([0.25, 0.50, 0.75])*\\\n",
    "                                        np.ones(\n",
    "                                            (len(dataframes[index].columns.to_list()),\n",
    "                                             3))\n",
    "        violin_parts = ax.violinplot(dataframes[index], \n",
    "                              showmeans=True, showmedians=False, showextrema=True, \n",
    "                              quantiles= quantiles_matrix.tolist())\n",
    "        \n",
    "        plt.setp(violin_parts['cmeans'], edgecolor='red',lw=4)\n",
    "        plt.setp(violin_parts['cquantiles'], edgecolor='blue')\n",
    "        plt.setp(violin_parts['bodies'], facecolor='orange', edgecolor='black')\n",
    " \n",
    "\n",
    "# Figure definition\n",
    "fig, (ax1, ax2) = plt.subplots(1, 2, figsize=(max(len(\\\n",
    "                                    numerical_partial_database_A.columns.to_list()), max(numerical_partial_database_A.describe().max().max(),\\\n",
    "                                       numerical_partial_database_A.describe().max().max())),\\\n",
    "                                    max(numerical_partial_database_A.describe().max().max(),\\\n",
    "                                       numerical_partial_database_A.describe().max().max())))\n",
    "\n",
    "\n",
    "personalize_violinplots([numerical_partial_database_A, numerical_partial_database_B],\n",
    "                        [ax1, ax2])\n",
    "\n",
    "set_axis_style(ax1, numerical_partial_database_A.columns.to_list())\n",
    "set_axis_style(ax2, numerical_partial_database_B.columns.to_list())\n",
    "ax1.set_title('Database A')\n",
    "ax2.set_title('Database B')\n",
    "\n",
    "custom_legend = [Line2D([0], [0], color='red', lw=4),\n",
    "                Line2D([0], [0], color='blue', lw=2)]\n",
    "fig.legend(custom_legend, ['mean', 'quartiles'], loc='lower center')\n",
    "\n",
    "# Let's save the image\n",
    "plt.savefig('ViolinDatasetABSummaryComparison.png', dpi=150)"
   ]
  },
  {
   "cell_type": "markdown",
   "id": "5cbcbcb0",
   "metadata": {},
   "source": [
    "Violin plots allow to have an idea of the distribution of the values, for a higher precision the plot present also a red line for the mean value and blu lines for the quartiles (25%, 50%, 75%)."
   ]
  },
  {
   "cell_type": "markdown",
   "id": "f7faafd1",
   "metadata": {},
   "source": [
    "### Categorical data\n",
    "<a id='categorical'></a>"
   ]
  },
  {
   "cell_type": "markdown",
   "id": "41004de5",
   "metadata": {},
   "source": [
    "Once we have a real dataset, perhaps we can do some particular exploration and extract interesting insight. But for the moment, to keep the template generic, let's simply explore the frequencies of the categorical variables."
   ]
  },
  {
   "cell_type": "markdown",
   "id": "bb9eac82",
   "metadata": {},
   "source": [
    "**Warning** If there are some \"open answers\" questions in your survey you should remove these columns before applying of the subsequent rows. Fore these columns you should apply the operations defined in [Senitment analysis](#sentiment)"
   ]
  },
  {
   "cell_type": "code",
   "execution_count": 870,
   "id": "e564a3f2",
   "metadata": {},
   "outputs": [
    {
     "data": {
      "text/html": [
       "<div>\n",
       "<style scoped>\n",
       "    .dataframe tbody tr th:only-of-type {\n",
       "        vertical-align: middle;\n",
       "    }\n",
       "\n",
       "    .dataframe tbody tr th {\n",
       "        vertical-align: top;\n",
       "    }\n",
       "\n",
       "    .dataframe thead th {\n",
       "        text-align: right;\n",
       "    }\n",
       "</style>\n",
       "<table border=\"1\" class=\"dataframe\">\n",
       "  <thead>\n",
       "    <tr style=\"text-align: right;\">\n",
       "      <th></th>\n",
       "      <th>AlphanumericQuestion0</th>\n",
       "      <th>AlphanumericQuestion4</th>\n",
       "    </tr>\n",
       "  </thead>\n",
       "  <tbody>\n",
       "    <tr>\n",
       "      <th>0</th>\n",
       "      <td>a</td>\n",
       "      <td>all all</td>\n",
       "    </tr>\n",
       "    <tr>\n",
       "      <th>1</th>\n",
       "      <td>a</td>\n",
       "      <td>ball mall</td>\n",
       "    </tr>\n",
       "    <tr>\n",
       "      <th>2</th>\n",
       "      <td>b</td>\n",
       "      <td>bla bla</td>\n",
       "    </tr>\n",
       "    <tr>\n",
       "      <th>3</th>\n",
       "      <td>b</td>\n",
       "      <td>we are</td>\n",
       "    </tr>\n",
       "    <tr>\n",
       "      <th>4</th>\n",
       "      <td>c</td>\n",
       "      <td>you are</td>\n",
       "    </tr>\n",
       "    <tr>\n",
       "      <th>5</th>\n",
       "      <td>c</td>\n",
       "      <td>we are</td>\n",
       "    </tr>\n",
       "    <tr>\n",
       "      <th>6</th>\n",
       "      <td>c</td>\n",
       "      <td>call all</td>\n",
       "    </tr>\n",
       "    <tr>\n",
       "      <th>7</th>\n",
       "      <td>a</td>\n",
       "      <td>call ball</td>\n",
       "    </tr>\n",
       "    <tr>\n",
       "      <th>8</th>\n",
       "      <td>b</td>\n",
       "      <td>call</td>\n",
       "    </tr>\n",
       "    <tr>\n",
       "      <th>9</th>\n",
       "      <td>a</td>\n",
       "      <td>bla</td>\n",
       "    </tr>\n",
       "  </tbody>\n",
       "</table>\n",
       "</div>"
      ],
      "text/plain": [
       "  AlphanumericQuestion0 AlphanumericQuestion4\n",
       "0                     a               all all\n",
       "1                     a             ball mall\n",
       "2                     b               bla bla\n",
       "3                     b                we are\n",
       "4                     c               you are\n",
       "5                     c                we are\n",
       "6                     c              call all\n",
       "7                     a             call ball\n",
       "8                     b                  call\n",
       "9                     a                   bla"
      ]
     },
     "execution_count": 870,
     "metadata": {},
     "output_type": "execute_result"
    }
   ],
   "source": [
    "# Let's consider only categorical variables\n",
    "categorical_partial_database_A_columns = list(set(\n",
    "                                                partial_database_A.columns.to_list()).difference(\n",
    "                                                    set(numerical_partial_database_A.columns.to_list())))\n",
    "categorical_partial_database_B_columns = list(set(\n",
    "                                                partial_database_B.columns.to_list()).difference(\n",
    "                                                    set(numerical_partial_database_B.columns.to_list())))\n",
    "\n",
    "categorical_partial_database_A = partial_database_A[categorical_partial_database_A_columns]\n",
    "categorical_partial_database_B = partial_database_B[categorical_partial_database_B_columns]\n",
    "categorical_partial_database_A"
   ]
  },
  {
   "cell_type": "code",
   "execution_count": 871,
   "id": "ae6dd895",
   "metadata": {},
   "outputs": [
    {
     "data": {
      "text/html": [
       "<div>\n",
       "<style scoped>\n",
       "    .dataframe tbody tr th:only-of-type {\n",
       "        vertical-align: middle;\n",
       "    }\n",
       "\n",
       "    .dataframe tbody tr th {\n",
       "        vertical-align: top;\n",
       "    }\n",
       "\n",
       "    .dataframe thead th {\n",
       "        text-align: right;\n",
       "    }\n",
       "</style>\n",
       "<table border=\"1\" class=\"dataframe\">\n",
       "  <thead>\n",
       "    <tr style=\"text-align: right;\">\n",
       "      <th></th>\n",
       "      <th>AlphanumericQuestion0</th>\n",
       "      <th>AlphanumericQuestion4</th>\n",
       "    </tr>\n",
       "  </thead>\n",
       "  <tbody>\n",
       "    <tr>\n",
       "      <th>0</th>\n",
       "      <td>a</td>\n",
       "      <td>all all</td>\n",
       "    </tr>\n",
       "    <tr>\n",
       "      <th>1</th>\n",
       "      <td>b</td>\n",
       "      <td>we mall</td>\n",
       "    </tr>\n",
       "    <tr>\n",
       "      <th>2</th>\n",
       "      <td>b</td>\n",
       "      <td>bla bla</td>\n",
       "    </tr>\n",
       "    <tr>\n",
       "      <th>3</th>\n",
       "      <td>b</td>\n",
       "      <td>we are</td>\n",
       "    </tr>\n",
       "    <tr>\n",
       "      <th>4</th>\n",
       "      <td>c</td>\n",
       "      <td>you are</td>\n",
       "    </tr>\n",
       "    <tr>\n",
       "      <th>5</th>\n",
       "      <td>c</td>\n",
       "      <td>we are</td>\n",
       "    </tr>\n",
       "    <tr>\n",
       "      <th>6</th>\n",
       "      <td>c</td>\n",
       "      <td>call all</td>\n",
       "    </tr>\n",
       "    <tr>\n",
       "      <th>7</th>\n",
       "      <td>a</td>\n",
       "      <td>call ball</td>\n",
       "    </tr>\n",
       "    <tr>\n",
       "      <th>8</th>\n",
       "      <td>b</td>\n",
       "      <td>call</td>\n",
       "    </tr>\n",
       "    <tr>\n",
       "      <th>9</th>\n",
       "      <td>a</td>\n",
       "      <td>bla</td>\n",
       "    </tr>\n",
       "  </tbody>\n",
       "</table>\n",
       "</div>"
      ],
      "text/plain": [
       "  AlphanumericQuestion0 AlphanumericQuestion4\n",
       "0                     a               all all\n",
       "1                     b               we mall\n",
       "2                     b               bla bla\n",
       "3                     b                we are\n",
       "4                     c               you are\n",
       "5                     c                we are\n",
       "6                     c              call all\n",
       "7                     a             call ball\n",
       "8                     b                  call\n",
       "9                     a                   bla"
      ]
     },
     "execution_count": 871,
     "metadata": {},
     "output_type": "execute_result"
    }
   ],
   "source": [
    "categorical_partial_database_B"
   ]
  },
  {
   "cell_type": "markdown",
   "id": "bec2b4ca",
   "metadata": {},
   "source": [
    "**Dataset A**"
   ]
  },
  {
   "cell_type": "code",
   "execution_count": 872,
   "id": "4a825a0d",
   "metadata": {},
   "outputs": [
    {
     "data": {
      "image/png": "[encoded data removed]",
      "text/plain": [
       "<Figure size 216x288 with 1 Axes>"
      ]
     },
     "metadata": {
      "needs_background": "light"
     },
     "output_type": "display_data"
    },
    {
     "data": {
      "image/png": "[encoded data removed]",
      "text/plain": [
       "<Figure size 648x144 with 1 Axes>"
      ]
     },
     "metadata": {
      "needs_background": "light"
     },
     "output_type": "display_data"
    }
   ],
   "source": [
    "for column in categorical_partial_database_A.columns.to_list():\n",
    "    frequencies_dataset = categorical_partial_database_A[column].value_counts()\n",
    "    plt.figure(figsize=(frequencies_dataset.count(), frequencies_dataset.max()))   \n",
    "    frequencies_dataset.plot(kind='bar', title=column)"
   ]
  },
  {
   "cell_type": "markdown",
   "id": "b04d6a43",
   "metadata": {},
   "source": [
    "**Dataset B**"
   ]
  },
  {
   "cell_type": "code",
   "execution_count": 873,
   "id": "6a3035ff",
   "metadata": {},
   "outputs": [
    {
     "data": {
      "image/png": "[encoded data removed]",
      "text/plain": [
       "<Figure size 216x288 with 1 Axes>"
      ]
     },
     "metadata": {
      "needs_background": "light"
     },
     "output_type": "display_data"
    },
    {
     "data": {
      "image/png": "[encoded data removed]",
      "text/plain": [
       "<Figure size 648x144 with 1 Axes>"
      ]
     },
     "metadata": {
      "needs_background": "light"
     },
     "output_type": "display_data"
    }
   ],
   "source": [
    "for column in categorical_partial_database_B.columns.to_list():\n",
    "    frequencies_dataset = categorical_partial_database_B[column].value_counts()\n",
    "    plt.figure(figsize=(frequencies_dataset.count(), frequencies_dataset.max()))   \n",
    "    frequencies_dataset.plot(kind='bar', title=column)"
   ]
  },
  {
   "cell_type": "markdown",
   "id": "f73bfb41",
   "metadata": {},
   "source": [
    "If you have frequency target values for one of the categorical variables and would like to know if you have reached that target, the following lines are for you"
   ]
  },
  {
   "cell_type": "code",
   "execution_count": 874,
   "id": "0bbcd31c",
   "metadata": {},
   "outputs": [],
   "source": [
    "target_frequencies = {'a':4, 'b':4, 'c':2, 'd':1}"
   ]
  },
  {
   "cell_type": "code",
   "execution_count": 875,
   "id": "ac7b3598",
   "metadata": {},
   "outputs": [],
   "source": [
    "# Actual frequencies of column 0\n",
    "actual_frequencies = categorical_partial_database_A.iloc[:,0].value_counts()\n",
    "\n",
    "# If you prefer spcify the column with the column name you can use the next commented line:\n",
    "#actual_frequencies = categorical_partial_database_A['AlphanumericQuestion0'].value_counts()\n"
   ]
  },
  {
   "cell_type": "code",
   "execution_count": 876,
   "id": "5f258cdf",
   "metadata": {},
   "outputs": [],
   "source": [
    "labels = list(target_frequencies.keys())\n",
    "\n",
    "percentages = []\n",
    "# search for the values in target frequencies that are in actual frequencies\n",
    "for target in labels:\n",
    "    if target in actual_frequencies:\n",
    "        percentages.append(actual_frequencies.loc[target]/\n",
    "                                         target_frequencies[target] * 100)\n",
    "    else:\n",
    "        percentages.append(0)"
   ]
  },
  {
   "cell_type": "code",
   "execution_count": 877,
   "id": "6264bfb0",
   "metadata": {},
   "outputs": [
    {
     "data": {
      "image/png": "[encoded data removed]",
      "text/plain": [
       "<Figure size 432x288 with 1 Axes>"
      ]
     },
     "metadata": {
      "needs_background": "light"
     },
     "output_type": "display_data"
    }
   ],
   "source": [
    "plt.bar(labels, percentages)\n",
    "plt.title('Percentages of target achievement dataset A')\n",
    "plt.axhline(y = 100, color = 'r', linestyle = '-', linewidth = 3)\n",
    "#Adding percentage labels\n",
    "for ind, perc in enumerate(percentages):\n",
    "    plt.text(ind, perc//2, int(perc), ha = 'center', weight = 'bold')"
   ]
  },
  {
   "cell_type": "code",
   "execution_count": 878,
   "id": "01fd9847",
   "metadata": {},
   "outputs": [
    {
     "data": {
      "image/png": "[encoded data removed]",
      "text/plain": [
       "<Figure size 432x288 with 1 Axes>"
      ]
     },
     "metadata": {
      "needs_background": "light"
     },
     "output_type": "display_data"
    }
   ],
   "source": [
    "actual_frequencies = categorical_partial_database_B.iloc[:,0].value_counts()\n",
    "labels = list(target_frequencies.keys())\n",
    "\n",
    "percentages = []\n",
    "# search for the values in target frequencies that are in actual frequencies\n",
    "for target in labels:\n",
    "    if target in actual_frequencies:\n",
    "        percentages.append(actual_frequencies.loc[target]/\n",
    "                                         target_frequencies[target] * 100)\n",
    "    else:\n",
    "        percentages.append(0)\n",
    "        \n",
    "plt.bar(labels, percentages)\n",
    "plt.title('Percentages of target achievement dataset B')\n",
    "plt.axhline(y = 100, color = 'r', linestyle = '-', linewidth = 3)\n",
    "#Adding percentage labels\n",
    "for ind, perc in enumerate(percentages):\n",
    "    plt.text(ind, perc//2, int(perc), ha = 'center', weight = 'bold')"
   ]
  },
  {
   "cell_type": "markdown",
   "id": "7e0c283a",
   "metadata": {},
   "source": [
    "### Subsetting\n",
    "<a id='subsetting'></a>"
   ]
  },
  {
   "cell_type": "markdown",
   "id": "08dc4d43",
   "metadata": {},
   "source": [
    "Let's suppose that you want to analyze the distribution of values of your numerical variables differentiated for each categorical values of a specific colum"
   ]
  },
  {
   "cell_type": "markdown",
   "id": "b953d25f",
   "metadata": {},
   "source": [
    "**Dataset A**"
   ]
  },
  {
   "cell_type": "code",
   "execution_count": 879,
   "id": "3fe4c099",
   "metadata": {},
   "outputs": [
    {
     "data": {
      "image/png": "[encoded data removed]",
      "text/plain": [
       "<Figure size 720x720 with 3 Axes>"
      ]
     },
     "metadata": {
      "needs_background": "light"
     },
     "output_type": "display_data"
    }
   ],
   "source": [
    "numerical_partial_database_A = extract_numerical_columns(partial_database_A)\n",
    "\n",
    "# We want a plot for each numerical column\n",
    "total_plots = len(list(numerical_partial_database_A.columns))\n",
    "\n",
    "# We need to group data for the category and transpose the descriptive dataframe to proprerly plot it\n",
    "databases = []\n",
    "for column in numerical_partial_database_A.columns.to_list():\n",
    "    databases.append(partial_database_A.groupby(['AlphanumericQuestion0'])\\\n",
    "                     [column].describe().transpose())\n",
    "\n",
    "columns = numerical_partial_database_A.columns\n",
    "    \n",
    "# New Violin plot personalization\n",
    "def personalize_violinplots_subset(dataframes, axes, titles):\n",
    "    \"\"\"\n",
    "    Given a dataframe list and a list of matplotlib axes and titles\n",
    "    creates a violinplot using different colours of each relevant element\n",
    "    \"\"\"\n",
    "    for index, ax in enumerate(axes):\n",
    "        quantiles_matrix = np.array([0.25, 0.50, 0.75])*\\\n",
    "                                        np.ones(\n",
    "                                            (len(dataframes[index].columns.to_list()),\n",
    "                                             3))\n",
    "        violin_parts = ax.violinplot(dataframes[index], \n",
    "                              showmeans=True, showmedians=False, showextrema=True, \n",
    "                              quantiles= quantiles_matrix.tolist())\n",
    "        \n",
    "        plt.setp(violin_parts['cmeans'], edgecolor='red',lw=4)\n",
    "        plt.setp(violin_parts['cquantiles'], edgecolor='blue')\n",
    "        plt.setp(violin_parts['bodies'], facecolor='orange', edgecolor='black')\n",
    "        ax.set_title(titles[index])\n",
    "        # X lables position\n",
    "        ax.set_xticks(range(1,len(dataframes[index].columns.to_list())+1,1))\n",
    "        # X labels values\n",
    "        ax.set_xticklabels(dataframes[index].columns.to_list())\n",
    "\n",
    "        \n",
    "fig, ax1 = plt.subplots(total_plots, 1, figsize=(max(len(\\\n",
    "                                    numerical_partial_database_A.columns.to_list()), max(numerical_partial_database_A.describe().max().max(),\\\n",
    "                                       numerical_partial_database_A.describe().max().max())),\\\n",
    "                                    max(numerical_partial_database_A.describe().max().max(),\\\n",
    "                                       numerical_partial_database_A.describe().max().max())))\n",
    "\n",
    "personalize_violinplots_subset(databases, ax1, columns)\n",
    "\n",
    "custom_legend = [Line2D([0], [0], color='red', lw=4),\n",
    "                Line2D([0], [0], color='blue', lw=2)]\n",
    "fig.legend(custom_legend, ['mean', 'quartiles'], loc='upper center')\n",
    "\n",
    "# Let's save the image\n",
    "plt.savefig('ViolinDatasetAGroupByColumn.png', dpi=150)"
   ]
  },
  {
   "cell_type": "markdown",
   "id": "5eeeb2c0",
   "metadata": {},
   "source": [
    "**Dataset B**"
   ]
  },
  {
   "cell_type": "code",
   "execution_count": 880,
   "id": "8f645440",
   "metadata": {},
   "outputs": [
    {
     "data": {
      "image/png": "[encoded data removed]",
      "text/plain": [
       "<Figure size 720x720 with 3 Axes>"
      ]
     },
     "metadata": {
      "needs_background": "light"
     },
     "output_type": "display_data"
    }
   ],
   "source": [
    "numerical_partial_database_B = extract_numerical_columns(partial_database_B)\n",
    "\n",
    "# We want a plot for each numerical column\n",
    "total_plots = len(list(numerical_partial_database_B.columns))\n",
    "\n",
    "# We need to group data for the category and transpose the descriptive dataframe to proprerly plot it\n",
    "databases = []\n",
    "for column in numerical_partial_database_B.columns.to_list():\n",
    "    databases.append(partial_database_B.groupby(['AlphanumericQuestion0'])\\\n",
    "                     [column].describe().transpose())\n",
    "\n",
    "columns = numerical_partial_database_B.columns\n",
    "    \n",
    "# New Violin plot personalization\n",
    "def personalize_violinplots_subset(dataframes, axes, titles):\n",
    "    \"\"\"\n",
    "    Given a dataframe list and a list of matplotlib axes and titles\n",
    "    creates a violinplot using different colours of each relevant element\n",
    "    \"\"\"\n",
    "    for index, ax in enumerate(axes):\n",
    "        quantiles_matrix = np.array([0.25, 0.50, 0.75])*\\\n",
    "                                        np.ones(\n",
    "                                            (len(dataframes[index].columns.to_list()),\n",
    "                                             3))\n",
    "        violin_parts = ax.violinplot(dataframes[index], \n",
    "                              showmeans=True, showmedians=False, showextrema=True, \n",
    "                              quantiles= quantiles_matrix.tolist())\n",
    "        \n",
    "        plt.setp(violin_parts['cmeans'], edgecolor='red',lw=4)\n",
    "        plt.setp(violin_parts['cquantiles'], edgecolor='blue')\n",
    "        plt.setp(violin_parts['bodies'], facecolor='orange', edgecolor='black')\n",
    "        ax.set_title(titles[index])\n",
    "        # X lables position\n",
    "        ax.set_xticks(range(1,len(dataframes[index].columns.to_list())+1,1))\n",
    "        # X labels values\n",
    "        ax.set_xticklabels(dataframes[index].columns.to_list())\n",
    "\n",
    "        \n",
    "fig, ax1 = plt.subplots(total_plots, 1, figsize=(max(len(\\\n",
    "                                    numerical_partial_database_B.columns.to_list()), max(numerical_partial_database_A.describe().max().max(),\\\n",
    "                                       numerical_partial_database_B.describe().max().max())),\\\n",
    "                                    max(numerical_partial_database_B.describe().max().max(),\\\n",
    "                                       numerical_partial_database_B.describe().max().max())))\n",
    "\n",
    "personalize_violinplots_subset(databases, ax1, columns)\n",
    "\n",
    "custom_legend = [Line2D([0], [0], color='red', lw=4),\n",
    "                Line2D([0], [0], color='blue', lw=2)]\n",
    "fig.legend(custom_legend, ['mean', 'quartiles'], loc='upper center')\n",
    "\n",
    "# Let's save the image\n",
    "plt.savefig('ViolinDatasetBGroupByColumn.png', dpi=150)"
   ]
  },
  {
   "cell_type": "markdown",
   "id": "f126fbe8",
   "metadata": {},
   "source": [
    "## Sentiment analysis\n",
    "<a id='sentiment'></a>"
   ]
  },
  {
   "cell_type": "markdown",
   "id": "0aa72576",
   "metadata": {},
   "source": [
    "As stated in the opening lines, the aim of this template is a simple analysis of a survey dataset.\n",
    "A proper sentiment analysis cannot be considered \"simple\" so it is out of the scope.\n",
    "Maybe in a future i'll put there a link for a template for sentiment analysis, for the moment you should search somewere else.\n",
    "\n",
    "\n",
    "\n",
    "**PLEASE** if you are interested in sentiment analysis search and learn somewere in the web and perform it, but **utntil you do not have proper competence in sentiment analysis avoid to try to think that \"make some random plots is always better than nothing\"**.\n",
    "\n",
    "\n",
    "Puting random plot wich you and your target audience do not understan is not a good idea: in the best case the target audience will ask you for clarification and you won't be able to explain, or in another case the audience will understand that's a nonsense plot and you will never know, but at worst the audience will misunderstand somenthing because of the nonsense plot.\n",
    "\n",
    "\n",
    "If you are not proficient in sentiment analysis and yor boss ask you for something like that, please do not try to make a simple plot of the frequences of all the worlds used just for make some plot, try to convince your boss that you need time to learn. "
   ]
  }
 ],
 "metadata": {
  "kernelspec": {
   "display_name": "mle_p3",
   "language": "python",
   "name": "mle_p3"
  },
  "language_info": {
   "codemirror_mode": {
    "name": "ipython",
    "version": 3
   },
   "file_extension": ".py",
   "mimetype": "text/x-python",
   "name": "python",
   "nbconvert_exporter": "python",
   "pygments_lexer": "ipython3",
   "version": "3.8.10"
  }
 },
 "nbformat": 4,
 "nbformat_minor": 5
}
