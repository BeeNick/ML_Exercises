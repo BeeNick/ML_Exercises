{
 "cells": [
  {
   "cell_type": "markdown",
   "metadata": {},
   "source": [
    "# Exercises - Pollinators datasets exploration"
   ]
  },
  {
   "cell_type": "markdown",
   "metadata": {},
   "source": [
    "Exercises with some pollinators datasets."
   ]
  },
  {
   "cell_type": "markdown",
   "metadata": {},
   "source": [
    "## Packages import"
   ]
  },
  {
   "cell_type": "code",
   "execution_count": 9,
   "metadata": {
    "_cell_guid": "b1076dfc-b9ad-4769-8c92-a6c4dae69d19",
    "_uuid": "8f2839f25d086af736a60e9eeb907d3b93b6e0e5",
    "execution": {
     "iopub.execute_input": "2022-03-03T09:38:07.550649Z",
     "iopub.status.busy": "2022-03-03T09:38:07.550113Z",
     "iopub.status.idle": "2022-03-03T09:38:08.579257Z",
     "shell.execute_reply": "2022-03-03T09:38:08.577322Z",
     "shell.execute_reply.started": "2022-03-03T09:38:07.550550Z"
    }
   },
   "outputs": [],
   "source": [
    "import os # operating system functions\n",
    "import requests # web requests\n",
    "import numpy as np # linear algebra\n",
    "import pandas as pd # data processing, CSV file I/O (e.g. pd.read_csv)\n",
    "import matplotlib as plt # data visualization\n",
    "import seaborn as sb # data visualization\n",
    "import graphviz # grahp visualization\n",
    "from sklearn.model_selection import StratifiedShuffleSplit # dataset subsetting \n",
    "from sklearn.preprocessing import StandardScaler  \n",
    "from sklearn.preprocessing import LabelEncoder # mange categorical data\n",
    "from sklearn import metrics # results evaluation\n"
   ]
  },
  {
   "cell_type": "markdown",
   "metadata": {},
   "source": [
    "We probably will download and save more than 1 datase so let's make a funcition for it"
   ]
  },
  {
   "cell_type": "code",
   "execution_count": 10,
   "metadata": {},
   "outputs": [],
   "source": [
    "def DatasetDownload(dataset_url, dataset_directory_path, dataset_file_name):\n",
    "    print(\"Download started\")\n",
    "    request_dataset = requests.get(dataset_url, allow_redirects=True)\n",
    "    print(\"Download completed\")\n",
    "    if request_dataset.status_code != 200:\n",
    "        print(f\"Request status: {request_dataset.status_code}\")\n",
    "    else:\n",
    "        print(\"Writing started\")\n",
    "        os.makedirs(dataset_directory_path, exist_ok=True)\n",
    "        open( dataset_directory_path + dataset_file_name , 'wb').write(request_dataset.content)\n",
    "        print(\"Writing completed\")\n",
    "    print(\"End\")\n",
    "    return\n",
    "\n"
   ]
  },
  {
   "cell_type": "markdown",
   "metadata": {},
   "source": [
    "## Insect Pollinator Initiative -  Natural History Museum Data Portal \n",
    "\n",
    "\n",
    "\n",
    "\n",
    "Graham N Stone; Alfried Vogler; Adam Vanbergen; Jacqueline Mackenzie-Dodds (2017). Dataset: Insect Pollinators Archive. Resource: Insect Pollinator Initiative. Natural History Museum Data Portal (data.nhm.ac.uk). https://doi.org/10.5519/0062900\n",
    "\n",
    "\n",
    "Retrieved: 16:39 19 Mar 2022 (GMT)"
   ]
  },
  {
   "cell_type": "markdown",
   "metadata": {},
   "source": [
    "### IPI-NHMDP - Data download - (One shoot execution)"
   ]
  },
  {
   "cell_type": "markdown",
   "metadata": {},
   "source": [
    "Let's use the original website.\n",
    "\n",
    "Next steps are \"one shoot execution\", you should execute it only the first time, once did it you can go directly to *Starting points* that youll'find along the code.\n"
   ]
  },
  {
   "cell_type": "code",
   "execution_count": 11,
   "metadata": {
    "scrolled": true
   },
   "outputs": [],
   "source": [
    "# Dataset url\n",
    "NHMDP_PI_dataset_url = 'https://data.nhm.ac.uk/dataset/46e122c6-7acd-44ec-a354-81a412da419a/resource/784d74b6-6b0e-4fd4-b0b5-798ac7b1a11b/download/ipifordataportal.xlsx'\n",
    "\n",
    "# Desired directory\n",
    "NHMDP_PI_dataset_directory = 'Datasets/Pollinators/NHMDP/PollinatorsInitiative'\n",
    "\n",
    "# Desired file name\n",
    "NHMDP_PI_dataset_name = 'PollinatorsInitiative.xlsx'\n"
   ]
  },
  {
   "cell_type": "code",
   "execution_count": 12,
   "metadata": {},
   "outputs": [
    {
     "name": "stdout",
     "output_type": "stream",
     "text": [
      "Download started\n",
      "Download completed\n",
      "Writing started\n",
      "Writing completed\n",
      "End\n"
     ]
    }
   ],
   "source": [
    "# Download and Save\n",
    "DatasetDownload(NHMDP_PI_dataset_url, NHMDP_PI_dataset_directory, NHMDP_PI_dataset_name)\n"
   ]
  },
  {
   "cell_type": "markdown",
   "metadata": {},
   "source": [
    "### IPI-NHMDP - Data import - Starting point"
   ]
  },
  {
   "cell_type": "code",
   "execution_count": 13,
   "metadata": {},
   "outputs": [],
   "source": [
    "IPI_NHMDP_dataset = pd.read_excel(NHMDP_PI_dataset_directory+NHMDP_PI_dataset_name, engine='openpyxl')"
   ]
  },
  {
   "cell_type": "markdown",
   "metadata": {},
   "source": [
    "### IPI-NHMDP - Exploration"
   ]
  },
  {
   "cell_type": "code",
   "execution_count": 14,
   "metadata": {},
   "outputs": [
    {
     "data": {
      "text/html": [
       "<div>\n",
       "<style scoped>\n",
       "    .dataframe tbody tr th:only-of-type {\n",
       "        vertical-align: middle;\n",
       "    }\n",
       "\n",
       "    .dataframe tbody tr th {\n",
       "        vertical-align: top;\n",
       "    }\n",
       "\n",
       "    .dataframe thead th {\n",
       "        text-align: right;\n",
       "    }\n",
       "</style>\n",
       "<table border=\"1\" class=\"dataframe\">\n",
       "  <thead>\n",
       "    <tr style=\"text-align: right;\">\n",
       "      <th></th>\n",
       "      <th>Specimen No/Barcode</th>\n",
       "    </tr>\n",
       "  </thead>\n",
       "  <tbody>\n",
       "    <tr>\n",
       "      <th>count</th>\n",
       "      <td>1.185400e+04</td>\n",
       "    </tr>\n",
       "    <tr>\n",
       "      <th>mean</th>\n",
       "      <td>1.006605e+07</td>\n",
       "    </tr>\n",
       "    <tr>\n",
       "      <th>std</th>\n",
       "      <td>7.403999e+03</td>\n",
       "    </tr>\n",
       "    <tr>\n",
       "      <th>min</th>\n",
       "      <td>1.005246e+07</td>\n",
       "    </tr>\n",
       "    <tr>\n",
       "      <th>25%</th>\n",
       "      <td>1.005963e+07</td>\n",
       "    </tr>\n",
       "    <tr>\n",
       "      <th>50%</th>\n",
       "      <td>1.006886e+07</td>\n",
       "    </tr>\n",
       "    <tr>\n",
       "      <th>75%</th>\n",
       "      <td>1.007182e+07</td>\n",
       "    </tr>\n",
       "    <tr>\n",
       "      <th>max</th>\n",
       "      <td>1.007598e+07</td>\n",
       "    </tr>\n",
       "  </tbody>\n",
       "</table>\n",
       "</div>"
      ],
      "text/plain": [
       "       Specimen No/Barcode\n",
       "count         1.185400e+04\n",
       "mean          1.006605e+07\n",
       "std           7.403999e+03\n",
       "min           1.005246e+07\n",
       "25%           1.005963e+07\n",
       "50%           1.006886e+07\n",
       "75%           1.007182e+07\n",
       "max           1.007598e+07"
      ]
     },
     "execution_count": 14,
     "metadata": {},
     "output_type": "execute_result"
    }
   ],
   "source": [
    "IPI_NHMDP_dataset.describe()"
   ]
  },
  {
   "cell_type": "code",
   "execution_count": 15,
   "metadata": {},
   "outputs": [
    {
     "data": {
      "text/html": [
       "<div>\n",
       "<style scoped>\n",
       "    .dataframe tbody tr th:only-of-type {\n",
       "        vertical-align: middle;\n",
       "    }\n",
       "\n",
       "    .dataframe tbody tr th {\n",
       "        vertical-align: top;\n",
       "    }\n",
       "\n",
       "    .dataframe thead th {\n",
       "        text-align: right;\n",
       "    }\n",
       "</style>\n",
       "<table border=\"1\" class=\"dataframe\">\n",
       "  <thead>\n",
       "    <tr style=\"text-align: right;\">\n",
       "      <th></th>\n",
       "      <th>Project Name</th>\n",
       "      <th>Specimen No Prefix</th>\n",
       "      <th>Specimen No/Barcode</th>\n",
       "      <th>Specimen Code</th>\n",
       "      <th>Country</th>\n",
       "      <th>Province/State/Territory</th>\n",
       "      <th>District/County/Shire</th>\n",
       "      <th>Precise Locality</th>\n",
       "      <th>Coll Date</th>\n",
       "      <th>Method</th>\n",
       "      <th>Collector</th>\n",
       "      <th>Collector 1</th>\n",
       "      <th>Collector 2</th>\n",
       "      <th>Identifier</th>\n",
       "      <th>Determination</th>\n",
       "      <th>SEX</th>\n",
       "      <th>Stage</th>\n",
       "    </tr>\n",
       "  </thead>\n",
       "  <tbody>\n",
       "    <tr>\n",
       "      <th>0</th>\n",
       "      <td>Insect Pollinator Initiative - agriland</td>\n",
       "      <td>NHMUK</td>\n",
       "      <td>10052460</td>\n",
       "      <td>AL_11_01750</td>\n",
       "      <td>United Kingdom</td>\n",
       "      <td>England</td>\n",
       "      <td>West Yorkshire</td>\n",
       "      <td>Harden Moor</td>\n",
       "      <td>2011-06-27</td>\n",
       "      <td>Pan trap</td>\n",
       "      <td>M. McKerchar</td>\n",
       "      <td>M  McKerchar</td>\n",
       "      <td></td>\n",
       "      <td>S P M Roberts</td>\n",
       "      <td>Lasioglossum cupromicans (Pérez, J., 1903)</td>\n",
       "      <td>Female</td>\n",
       "      <td>NaN</td>\n",
       "    </tr>\n",
       "    <tr>\n",
       "      <th>1</th>\n",
       "      <td>Insect Pollinator Initiative - agriland</td>\n",
       "      <td>NHMUK</td>\n",
       "      <td>10052461</td>\n",
       "      <td>AL_11_01751</td>\n",
       "      <td>United Kingdom</td>\n",
       "      <td>England</td>\n",
       "      <td>West Yorkshire</td>\n",
       "      <td>Harden Moor</td>\n",
       "      <td>2011-06-27</td>\n",
       "      <td>Pan trap</td>\n",
       "      <td>M. McKerchar</td>\n",
       "      <td>M  McKerchar</td>\n",
       "      <td>NaN</td>\n",
       "      <td>S P M Roberts</td>\n",
       "      <td>Lasioglossum cupromicans (Pérez, J., 1903)</td>\n",
       "      <td>Female</td>\n",
       "      <td>NaN</td>\n",
       "    </tr>\n",
       "    <tr>\n",
       "      <th>2</th>\n",
       "      <td>Insect Pollinator Initiative - agriland</td>\n",
       "      <td>NHMUK</td>\n",
       "      <td>10052462</td>\n",
       "      <td>AL_11_01753</td>\n",
       "      <td>United Kingdom</td>\n",
       "      <td>England</td>\n",
       "      <td>West Yorkshire</td>\n",
       "      <td>Harden Moor</td>\n",
       "      <td>2011-06-27</td>\n",
       "      <td>Pan trap</td>\n",
       "      <td>M. McKerchar</td>\n",
       "      <td>M  McKerchar</td>\n",
       "      <td>NaN</td>\n",
       "      <td>S P M Roberts</td>\n",
       "      <td>Lasioglossum cupromicans (Pérez, J., 1903)</td>\n",
       "      <td>Female</td>\n",
       "      <td>NaN</td>\n",
       "    </tr>\n",
       "    <tr>\n",
       "      <th>3</th>\n",
       "      <td>Insect Pollinator Initiative - agriland</td>\n",
       "      <td>NHMUK</td>\n",
       "      <td>10052463</td>\n",
       "      <td>AL_11_01754</td>\n",
       "      <td>United Kingdom</td>\n",
       "      <td>England</td>\n",
       "      <td>West Yorkshire</td>\n",
       "      <td>Harden Moor</td>\n",
       "      <td>2011-06-27</td>\n",
       "      <td>Pan trap</td>\n",
       "      <td>M. McKerchar</td>\n",
       "      <td>M  McKerchar</td>\n",
       "      <td>NaN</td>\n",
       "      <td>S P M Roberts</td>\n",
       "      <td>Lasioglossum cupromicans (Pérez, J., 1903)</td>\n",
       "      <td>Female</td>\n",
       "      <td>NaN</td>\n",
       "    </tr>\n",
       "    <tr>\n",
       "      <th>4</th>\n",
       "      <td>Insect Pollinator Initiative - agriland</td>\n",
       "      <td>NHMUK</td>\n",
       "      <td>10052464</td>\n",
       "      <td>AL_11_01755</td>\n",
       "      <td>United Kingdom</td>\n",
       "      <td>England</td>\n",
       "      <td>West Yorkshire</td>\n",
       "      <td>Harden Moor</td>\n",
       "      <td>2011-06-27</td>\n",
       "      <td>Pan trap</td>\n",
       "      <td>M. McKerchar</td>\n",
       "      <td>M  McKerchar</td>\n",
       "      <td>NaN</td>\n",
       "      <td>S P M Roberts</td>\n",
       "      <td>Lasioglossum fratellum (Perez, 1903)</td>\n",
       "      <td>Female</td>\n",
       "      <td>NaN</td>\n",
       "    </tr>\n",
       "  </tbody>\n",
       "</table>\n",
       "</div>"
      ],
      "text/plain": [
       "                              Project Name Specimen No Prefix  \\\n",
       "0  Insect Pollinator Initiative - agriland              NHMUK   \n",
       "1  Insect Pollinator Initiative - agriland              NHMUK   \n",
       "2  Insect Pollinator Initiative - agriland              NHMUK   \n",
       "3  Insect Pollinator Initiative - agriland              NHMUK   \n",
       "4  Insect Pollinator Initiative - agriland              NHMUK   \n",
       "\n",
       "   Specimen No/Barcode Specimen Code         Country Province/State/Territory  \\\n",
       "0             10052460   AL_11_01750  United Kingdom                  England   \n",
       "1             10052461   AL_11_01751  United Kingdom                  England   \n",
       "2             10052462   AL_11_01753  United Kingdom                  England   \n",
       "3             10052463   AL_11_01754  United Kingdom                  England   \n",
       "4             10052464   AL_11_01755  United Kingdom                  England   \n",
       "\n",
       "  District/County/Shire Precise Locality  Coll Date    Method     Collector  \\\n",
       "0        West Yorkshire      Harden Moor 2011-06-27  Pan trap  M. McKerchar   \n",
       "1        West Yorkshire      Harden Moor 2011-06-27  Pan trap  M. McKerchar   \n",
       "2        West Yorkshire      Harden Moor 2011-06-27  Pan trap  M. McKerchar   \n",
       "3        West Yorkshire      Harden Moor 2011-06-27  Pan trap  M. McKerchar   \n",
       "4        West Yorkshire      Harden Moor 2011-06-27  Pan trap  M. McKerchar   \n",
       "\n",
       "    Collector 1 Collector 2     Identifier  \\\n",
       "0  M  McKerchar              S P M Roberts   \n",
       "1  M  McKerchar         NaN  S P M Roberts   \n",
       "2  M  McKerchar         NaN  S P M Roberts   \n",
       "3  M  McKerchar         NaN  S P M Roberts   \n",
       "4  M  McKerchar         NaN  S P M Roberts   \n",
       "\n",
       "                                Determination     SEX Stage  \n",
       "0  Lasioglossum cupromicans (Pérez, J., 1903)  Female   NaN  \n",
       "1  Lasioglossum cupromicans (Pérez, J., 1903)  Female   NaN  \n",
       "2  Lasioglossum cupromicans (Pérez, J., 1903)  Female   NaN  \n",
       "3  Lasioglossum cupromicans (Pérez, J., 1903)  Female   NaN  \n",
       "4        Lasioglossum fratellum (Perez, 1903)  Female   NaN  "
      ]
     },
     "execution_count": 15,
     "metadata": {},
     "output_type": "execute_result"
    }
   ],
   "source": [
    "IPI_NHMDP_dataset.head()"
   ]
  },
  {
   "cell_type": "code",
   "execution_count": 17,
   "metadata": {},
   "outputs": [
    {
     "data": {
      "text/plain": [
       "Index(['Project Name', 'Specimen No Prefix', 'Specimen No/Barcode',\n",
       "       'Specimen Code', 'Country', 'Province/State/Territory',\n",
       "       'District/County/Shire', 'Precise Locality', 'Coll Date', 'Method',\n",
       "       'Collector', 'Collector 1', 'Collector 2', 'Identifier',\n",
       "       'Determination', 'SEX', 'Stage'],\n",
       "      dtype='object')"
      ]
     },
     "execution_count": 17,
     "metadata": {},
     "output_type": "execute_result"
    }
   ],
   "source": [
    "IPI_NHMDP_dataset.columns"
   ]
  }
 ],
 "metadata": {
  "kernelspec": {
   "display_name": "Python 3 (ipykernel)",
   "language": "python",
   "name": "python3"
  },
  "language_info": {
   "codemirror_mode": {
    "name": "ipython",
    "version": 3
   },
   "file_extension": ".py",
   "mimetype": "text/x-python",
   "name": "python",
   "nbconvert_exporter": "python",
   "pygments_lexer": "ipython3",
   "version": "3.8.10"
  }
 },
 "nbformat": 4,
 "nbformat_minor": 4
}
