{
 "cells": [
  {
   "cell_type": "markdown",
   "metadata": {},
   "source": [
    "# Exercises - Pollinators datasets exploration"
   ]
  },
  {
   "cell_type": "markdown",
   "metadata": {},
   "source": [
    "Exercises with some pollinators datasets."
   ]
  },
  {
   "cell_type": "markdown",
   "metadata": {},
   "source": [
    "## Packages import"
   ]
  },
  {
   "cell_type": "code",
   "execution_count": 1,
   "metadata": {
    "_cell_guid": "b1076dfc-b9ad-4769-8c92-a6c4dae69d19",
    "_uuid": "8f2839f25d086af736a60e9eeb907d3b93b6e0e5",
    "execution": {
     "iopub.execute_input": "2022-03-03T09:38:07.550649Z",
     "iopub.status.busy": "2022-03-03T09:38:07.550113Z",
     "iopub.status.idle": "2022-03-03T09:38:08.579257Z",
     "shell.execute_reply": "2022-03-03T09:38:08.577322Z",
     "shell.execute_reply.started": "2022-03-03T09:38:07.550550Z"
    }
   },
   "outputs": [],
   "source": [
    "import os # operating system functions\n",
    "import requests # web requests\n",
    "import numpy as np # linear algebra\n",
    "import pandas as pd # data processing, CSV file I/O (e.g. pd.read_csv)\n",
    "import matplotlib as plt # data visualization\n",
    "import seaborn as sb # data visualization\n",
    "import graphviz # grahp visualization\n",
    "from sklearn.model_selection import StratifiedShuffleSplit # dataset subsetting \n",
    "from sklearn.preprocessing import StandardScaler  \n",
    "from sklearn.preprocessing import LabelEncoder # mange categorical data\n",
    "from sklearn import metrics # results evaluation\n"
   ]
  },
  {
   "cell_type": "markdown",
   "metadata": {},
   "source": [
    "We probably will download and save more than 1 datase so let's make a funcition for it"
   ]
  },
  {
   "cell_type": "code",
   "execution_count": null,
   "metadata": {},
   "outputs": [],
   "source": [
    "def DatasetDownload(dataset_url, dataset_directory_path, dataset_file_name):\n",
    "    print(\"Download started\")\n",
    "    request_dataset = requests.get(dataset_url, allow_redirects=True)\n",
    "    print(\"Download completed\")\n",
    "    if request_dataset.status_code != 200:\n",
    "        print(f\"Request status: {request_dataset.status_code}\")\n",
    "    else:\n",
    "        print(\"Writing started\")\n",
    "        os.makedirs(dataset_directory_path, exist_ok=True)\n",
    "        open( dataset_directory_path + dataset_file_name , 'wb').write(request_dataset.content)\n",
    "        print(\"Writing completed\")\n",
    "    print(\"End\")\n",
    "    return\n",
    "\n"
   ]
  },
  {
   "cell_type": "markdown",
   "metadata": {},
   "source": [
    "## Insect Pollinator Initiative -  Natural History Museum Data Portal \n",
    "\n",
    "\n",
    "\n",
    "\n",
    "Graham N Stone; Alfried Vogler; Adam Vanbergen; Jacqueline Mackenzie-Dodds (2017). Dataset: Insect Pollinators Archive. Resource: Insect Pollinator Initiative. Natural History Museum Data Portal (data.nhm.ac.uk). https://doi.org/10.5519/0062900\n",
    "\n",
    "\n",
    "Retrieved: 16:39 19 Mar 2022 (GMT)"
   ]
  },
  {
   "cell_type": "markdown",
   "metadata": {},
   "source": [
    "## Data import - (One shoot execution)"
   ]
  },
  {
   "cell_type": "markdown",
   "metadata": {},
   "source": [
    "Let's use the original website.\n",
    "\n",
    "Next steps are \"one shoot execution\", you should execute it only the first time, once did it you can go directly to *Starting points* that youll'find along the code.\n"
   ]
  },
  {
   "cell_type": "code",
   "execution_count": 5,
   "metadata": {
    "scrolled": true
   },
   "outputs": [],
   "source": [
    "# Dataset url\n",
    "NHMDP_PI_dataset_url = 'https://data.nhm.ac.uk/dataset/46e122c6-7acd-44ec-a354-81a412da419a/resource/784d74b6-6b0e-4fd4-b0b5-798ac7b1a11b/package?id=insect-pollinators-initiative&package_type=dataset&destination=https%3A%2F%2Fdata.nhm.ac.uk%2Fdataset%2Finsect-pollinators-initiative%2Fresource%2F784d74b6-6b0e-4fd4-b0b5-798ac7b1a11b'\n",
    "\n",
    "# Desired directory\n",
    "NHMDP_PI_dataset_directory = 'Datasets/Pollinators/NHMDP/PollinatorsInitiative'\n",
    "\n",
    "# Desired file name\n",
    "NHMDP_PI_dataset_name = 'PollinatorsInitiative.xlsx'\n"
   ]
  },
  {
   "cell_type": "code",
   "execution_count": null,
   "metadata": {},
   "outputs": [],
   "source": [
    "# Download and Save\n",
    "DatasetDownload(NHMDP_PI_dataset_url, NHMDP_PI_dataset_directory, NHMDP_PI_dataset_name)\n"
   ]
  }
 ],
 "metadata": {
  "kernelspec": {
   "display_name": "Python 3 (ipykernel)",
   "language": "python",
   "name": "python3"
  },
  "language_info": {
   "codemirror_mode": {
    "name": "ipython",
    "version": 3
   },
   "file_extension": ".py",
   "mimetype": "text/x-python",
   "name": "python",
   "nbconvert_exporter": "python",
   "pygments_lexer": "ipython3",
   "version": "3.8.10"
  }
 },
 "nbformat": 4,
 "nbformat_minor": 4
}
