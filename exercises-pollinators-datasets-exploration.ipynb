{
 "cells": [
  {
   "cell_type": "markdown",
   "metadata": {},
   "source": [
    "# Exercises - Pollinators datasets exploration"
   ]
  },
  {
   "cell_type": "markdown",
   "metadata": {},
   "source": [
    "Exercises with some pollinators datasets."
   ]
  },
  {
   "cell_type": "markdown",
   "metadata": {},
   "source": [
    "## Packages import"
   ]
  },
  {
   "cell_type": "code",
   "execution_count": 56,
   "metadata": {
    "_cell_guid": "b1076dfc-b9ad-4769-8c92-a6c4dae69d19",
    "_uuid": "8f2839f25d086af736a60e9eeb907d3b93b6e0e5",
    "execution": {
     "iopub.execute_input": "2022-03-03T09:38:07.550649Z",
     "iopub.status.busy": "2022-03-03T09:38:07.550113Z",
     "iopub.status.idle": "2022-03-03T09:38:08.579257Z",
     "shell.execute_reply": "2022-03-03T09:38:08.577322Z",
     "shell.execute_reply.started": "2022-03-03T09:38:07.550550Z"
    }
   },
   "outputs": [],
   "source": [
    "import os # operating system functions\n",
    "import chardet # Universal Character Encoding Detector\n",
    "import requests # web requests\n",
    "import numpy as np # linear algebra\n",
    "import pandas as pd # data processing, CSV file I/O (e.g. pd.read_csv)\n",
    "import matplotlib as plt # data visualization\n",
    "import seaborn as sb # data visualization\n",
    "import graphviz # grahp visualization\n",
    "from sklearn.model_selection import StratifiedShuffleSplit # dataset subsetting \n",
    "from sklearn.preprocessing import StandardScaler  \n",
    "from sklearn.preprocessing import LabelEncoder # mange categorical data\n",
    "from sklearn import metrics # results evaluation\n",
    "from sklearn.impute import SimpleImputer # tool for dealing with missing values\n",
    "import association_metrics as am # implementation of Cramer's V correlation\n"
   ]
  },
  {
   "cell_type": "markdown",
   "metadata": {},
   "source": [
    "We probably will download and save more than 1 datase so let's make a funcition for it"
   ]
  },
  {
   "cell_type": "code",
   "execution_count": 20,
   "metadata": {},
   "outputs": [],
   "source": [
    "def DatasetDownload(dataset_url, dataset_directory_path, dataset_file_name):\n",
    "    print(\"Download started\")\n",
    "    request_dataset = requests.get(dataset_url, allow_redirects=True)\n",
    "    print(\"Download completed\")\n",
    "    if request_dataset.status_code != 200:\n",
    "        print(f\"Request status: {request_dataset.status_code}\")\n",
    "    else:\n",
    "        print(\"Writing started\")\n",
    "        os.makedirs(dataset_directory_path, exist_ok=True)\n",
    "        open( dataset_directory_path + dataset_file_name , 'wb').write(request_dataset.content)\n",
    "        print(\"Writing completed\")\n",
    "    print(\"End\")\n",
    "    return\n",
    "\n"
   ]
  },
  {
   "cell_type": "markdown",
   "metadata": {},
   "source": [
    "## Insect Pollinator Initiative -  Natural History Museum Data Portal \n",
    "\n",
    "\n",
    "\n",
    "\n",
    "Graham N Stone; Alfried Vogler; Adam Vanbergen; Jacqueline Mackenzie-Dodds (2017). Dataset: Insect Pollinators Archive. Resource: Insect Pollinator Initiative. Natural History Museum Data Portal (data.nhm.ac.uk). https://doi.org/10.5519/0062900\n",
    "\n",
    "\n",
    "Retrieved: 16:39 19 Mar 2022 (GMT)"
   ]
  },
  {
   "cell_type": "markdown",
   "metadata": {},
   "source": [
    "### IPI-NHMDP - Data download - (One shoot execution)"
   ]
  },
  {
   "cell_type": "markdown",
   "metadata": {},
   "source": [
    "Let's use the original website.\n",
    "\n",
    "Next steps are \"one shoot execution\", you should execute it only the first time, once did it you can go directly to *Starting points* that youll'find along the code.\n"
   ]
  },
  {
   "cell_type": "code",
   "execution_count": 4,
   "metadata": {
    "scrolled": true
   },
   "outputs": [],
   "source": [
    "# Dataset url\n",
    "NHMDP_PI_dataset_url = 'https://data.nhm.ac.uk/dataset/46e122c6-7acd-44ec-a354-81a412da419a/resource/784d74b6-6b0e-4fd4-b0b5-798ac7b1a11b/download/ipifordataportal.xlsx'\n",
    "\n",
    "# Desired directory\n",
    "NHMDP_PI_dataset_directory = 'Datasets/Pollinators/NHMDP/PollinatorsInitiative'\n",
    "\n",
    "# Desired file name\n",
    "NHMDP_PI_dataset_name = 'PollinatorsInitiative.xlsx'\n"
   ]
  },
  {
   "cell_type": "code",
   "execution_count": 12,
   "metadata": {},
   "outputs": [
    {
     "name": "stdout",
     "output_type": "stream",
     "text": [
      "Download started\n",
      "Download completed\n",
      "Writing started\n",
      "Writing completed\n",
      "End\n"
     ]
    }
   ],
   "source": [
    "# Download and Save\n",
    "DatasetDownload(NHMDP_PI_dataset_url, NHMDP_PI_dataset_directory, NHMDP_PI_dataset_name)\n"
   ]
  },
  {
   "cell_type": "markdown",
   "metadata": {},
   "source": [
    "### IPI-NHMDP - Data import - Starting point"
   ]
  },
  {
   "cell_type": "code",
   "execution_count": 5,
   "metadata": {},
   "outputs": [],
   "source": [
    "IPI_NHMDP_dataset = pd.read_excel(NHMDP_PI_dataset_directory+NHMDP_PI_dataset_name, engine='openpyxl')"
   ]
  },
  {
   "cell_type": "markdown",
   "metadata": {},
   "source": [
    "### IPI-NHMDP - Exploration"
   ]
  },
  {
   "cell_type": "code",
   "execution_count": 14,
   "metadata": {},
   "outputs": [
    {
     "data": {
      "text/html": [
       "<div>\n",
       "<style scoped>\n",
       "    .dataframe tbody tr th:only-of-type {\n",
       "        vertical-align: middle;\n",
       "    }\n",
       "\n",
       "    .dataframe tbody tr th {\n",
       "        vertical-align: top;\n",
       "    }\n",
       "\n",
       "    .dataframe thead th {\n",
       "        text-align: right;\n",
       "    }\n",
       "</style>\n",
       "<table border=\"1\" class=\"dataframe\">\n",
       "  <thead>\n",
       "    <tr style=\"text-align: right;\">\n",
       "      <th></th>\n",
       "      <th>Specimen No/Barcode</th>\n",
       "    </tr>\n",
       "  </thead>\n",
       "  <tbody>\n",
       "    <tr>\n",
       "      <th>count</th>\n",
       "      <td>1.185400e+04</td>\n",
       "    </tr>\n",
       "    <tr>\n",
       "      <th>mean</th>\n",
       "      <td>1.006605e+07</td>\n",
       "    </tr>\n",
       "    <tr>\n",
       "      <th>std</th>\n",
       "      <td>7.403999e+03</td>\n",
       "    </tr>\n",
       "    <tr>\n",
       "      <th>min</th>\n",
       "      <td>1.005246e+07</td>\n",
       "    </tr>\n",
       "    <tr>\n",
       "      <th>25%</th>\n",
       "      <td>1.005963e+07</td>\n",
       "    </tr>\n",
       "    <tr>\n",
       "      <th>50%</th>\n",
       "      <td>1.006886e+07</td>\n",
       "    </tr>\n",
       "    <tr>\n",
       "      <th>75%</th>\n",
       "      <td>1.007182e+07</td>\n",
       "    </tr>\n",
       "    <tr>\n",
       "      <th>max</th>\n",
       "      <td>1.007598e+07</td>\n",
       "    </tr>\n",
       "  </tbody>\n",
       "</table>\n",
       "</div>"
      ],
      "text/plain": [
       "       Specimen No/Barcode\n",
       "count         1.185400e+04\n",
       "mean          1.006605e+07\n",
       "std           7.403999e+03\n",
       "min           1.005246e+07\n",
       "25%           1.005963e+07\n",
       "50%           1.006886e+07\n",
       "75%           1.007182e+07\n",
       "max           1.007598e+07"
      ]
     },
     "execution_count": 14,
     "metadata": {},
     "output_type": "execute_result"
    }
   ],
   "source": [
    "IPI_NHMDP_dataset.describe()"
   ]
  },
  {
   "cell_type": "code",
   "execution_count": 5,
   "metadata": {},
   "outputs": [
    {
     "data": {
      "text/html": [
       "<div>\n",
       "<style scoped>\n",
       "    .dataframe tbody tr th:only-of-type {\n",
       "        vertical-align: middle;\n",
       "    }\n",
       "\n",
       "    .dataframe tbody tr th {\n",
       "        vertical-align: top;\n",
       "    }\n",
       "\n",
       "    .dataframe thead th {\n",
       "        text-align: right;\n",
       "    }\n",
       "</style>\n",
       "<table border=\"1\" class=\"dataframe\">\n",
       "  <thead>\n",
       "    <tr style=\"text-align: right;\">\n",
       "      <th></th>\n",
       "      <th>Project Name</th>\n",
       "      <th>Specimen No Prefix</th>\n",
       "      <th>Specimen No/Barcode</th>\n",
       "      <th>Specimen Code</th>\n",
       "      <th>Country</th>\n",
       "      <th>Province/State/Territory</th>\n",
       "      <th>District/County/Shire</th>\n",
       "      <th>Precise Locality</th>\n",
       "      <th>Coll Date</th>\n",
       "      <th>Method</th>\n",
       "      <th>Collector</th>\n",
       "      <th>Collector 1</th>\n",
       "      <th>Collector 2</th>\n",
       "      <th>Identifier</th>\n",
       "      <th>Determination</th>\n",
       "      <th>SEX</th>\n",
       "      <th>Stage</th>\n",
       "    </tr>\n",
       "  </thead>\n",
       "  <tbody>\n",
       "    <tr>\n",
       "      <th>0</th>\n",
       "      <td>Insect Pollinator Initiative - agriland</td>\n",
       "      <td>NHMUK</td>\n",
       "      <td>10052460</td>\n",
       "      <td>AL_11_01750</td>\n",
       "      <td>United Kingdom</td>\n",
       "      <td>England</td>\n",
       "      <td>West Yorkshire</td>\n",
       "      <td>Harden Moor</td>\n",
       "      <td>2011-06-27</td>\n",
       "      <td>Pan trap</td>\n",
       "      <td>M. McKerchar</td>\n",
       "      <td>M  McKerchar</td>\n",
       "      <td></td>\n",
       "      <td>S P M Roberts</td>\n",
       "      <td>Lasioglossum cupromicans (Pérez, J., 1903)</td>\n",
       "      <td>Female</td>\n",
       "      <td>NaN</td>\n",
       "    </tr>\n",
       "    <tr>\n",
       "      <th>1</th>\n",
       "      <td>Insect Pollinator Initiative - agriland</td>\n",
       "      <td>NHMUK</td>\n",
       "      <td>10052461</td>\n",
       "      <td>AL_11_01751</td>\n",
       "      <td>United Kingdom</td>\n",
       "      <td>England</td>\n",
       "      <td>West Yorkshire</td>\n",
       "      <td>Harden Moor</td>\n",
       "      <td>2011-06-27</td>\n",
       "      <td>Pan trap</td>\n",
       "      <td>M. McKerchar</td>\n",
       "      <td>M  McKerchar</td>\n",
       "      <td>NaN</td>\n",
       "      <td>S P M Roberts</td>\n",
       "      <td>Lasioglossum cupromicans (Pérez, J., 1903)</td>\n",
       "      <td>Female</td>\n",
       "      <td>NaN</td>\n",
       "    </tr>\n",
       "    <tr>\n",
       "      <th>2</th>\n",
       "      <td>Insect Pollinator Initiative - agriland</td>\n",
       "      <td>NHMUK</td>\n",
       "      <td>10052462</td>\n",
       "      <td>AL_11_01753</td>\n",
       "      <td>United Kingdom</td>\n",
       "      <td>England</td>\n",
       "      <td>West Yorkshire</td>\n",
       "      <td>Harden Moor</td>\n",
       "      <td>2011-06-27</td>\n",
       "      <td>Pan trap</td>\n",
       "      <td>M. McKerchar</td>\n",
       "      <td>M  McKerchar</td>\n",
       "      <td>NaN</td>\n",
       "      <td>S P M Roberts</td>\n",
       "      <td>Lasioglossum cupromicans (Pérez, J., 1903)</td>\n",
       "      <td>Female</td>\n",
       "      <td>NaN</td>\n",
       "    </tr>\n",
       "    <tr>\n",
       "      <th>3</th>\n",
       "      <td>Insect Pollinator Initiative - agriland</td>\n",
       "      <td>NHMUK</td>\n",
       "      <td>10052463</td>\n",
       "      <td>AL_11_01754</td>\n",
       "      <td>United Kingdom</td>\n",
       "      <td>England</td>\n",
       "      <td>West Yorkshire</td>\n",
       "      <td>Harden Moor</td>\n",
       "      <td>2011-06-27</td>\n",
       "      <td>Pan trap</td>\n",
       "      <td>M. McKerchar</td>\n",
       "      <td>M  McKerchar</td>\n",
       "      <td>NaN</td>\n",
       "      <td>S P M Roberts</td>\n",
       "      <td>Lasioglossum cupromicans (Pérez, J., 1903)</td>\n",
       "      <td>Female</td>\n",
       "      <td>NaN</td>\n",
       "    </tr>\n",
       "    <tr>\n",
       "      <th>4</th>\n",
       "      <td>Insect Pollinator Initiative - agriland</td>\n",
       "      <td>NHMUK</td>\n",
       "      <td>10052464</td>\n",
       "      <td>AL_11_01755</td>\n",
       "      <td>United Kingdom</td>\n",
       "      <td>England</td>\n",
       "      <td>West Yorkshire</td>\n",
       "      <td>Harden Moor</td>\n",
       "      <td>2011-06-27</td>\n",
       "      <td>Pan trap</td>\n",
       "      <td>M. McKerchar</td>\n",
       "      <td>M  McKerchar</td>\n",
       "      <td>NaN</td>\n",
       "      <td>S P M Roberts</td>\n",
       "      <td>Lasioglossum fratellum (Perez, 1903)</td>\n",
       "      <td>Female</td>\n",
       "      <td>NaN</td>\n",
       "    </tr>\n",
       "  </tbody>\n",
       "</table>\n",
       "</div>"
      ],
      "text/plain": [
       "                              Project Name Specimen No Prefix  \\\n",
       "0  Insect Pollinator Initiative - agriland              NHMUK   \n",
       "1  Insect Pollinator Initiative - agriland              NHMUK   \n",
       "2  Insect Pollinator Initiative - agriland              NHMUK   \n",
       "3  Insect Pollinator Initiative - agriland              NHMUK   \n",
       "4  Insect Pollinator Initiative - agriland              NHMUK   \n",
       "\n",
       "   Specimen No/Barcode Specimen Code         Country Province/State/Territory  \\\n",
       "0             10052460   AL_11_01750  United Kingdom                  England   \n",
       "1             10052461   AL_11_01751  United Kingdom                  England   \n",
       "2             10052462   AL_11_01753  United Kingdom                  England   \n",
       "3             10052463   AL_11_01754  United Kingdom                  England   \n",
       "4             10052464   AL_11_01755  United Kingdom                  England   \n",
       "\n",
       "  District/County/Shire Precise Locality  Coll Date    Method     Collector  \\\n",
       "0        West Yorkshire      Harden Moor 2011-06-27  Pan trap  M. McKerchar   \n",
       "1        West Yorkshire      Harden Moor 2011-06-27  Pan trap  M. McKerchar   \n",
       "2        West Yorkshire      Harden Moor 2011-06-27  Pan trap  M. McKerchar   \n",
       "3        West Yorkshire      Harden Moor 2011-06-27  Pan trap  M. McKerchar   \n",
       "4        West Yorkshire      Harden Moor 2011-06-27  Pan trap  M. McKerchar   \n",
       "\n",
       "    Collector 1 Collector 2     Identifier  \\\n",
       "0  M  McKerchar              S P M Roberts   \n",
       "1  M  McKerchar         NaN  S P M Roberts   \n",
       "2  M  McKerchar         NaN  S P M Roberts   \n",
       "3  M  McKerchar         NaN  S P M Roberts   \n",
       "4  M  McKerchar         NaN  S P M Roberts   \n",
       "\n",
       "                                Determination     SEX Stage  \n",
       "0  Lasioglossum cupromicans (Pérez, J., 1903)  Female   NaN  \n",
       "1  Lasioglossum cupromicans (Pérez, J., 1903)  Female   NaN  \n",
       "2  Lasioglossum cupromicans (Pérez, J., 1903)  Female   NaN  \n",
       "3  Lasioglossum cupromicans (Pérez, J., 1903)  Female   NaN  \n",
       "4        Lasioglossum fratellum (Perez, 1903)  Female   NaN  "
      ]
     },
     "execution_count": 5,
     "metadata": {},
     "output_type": "execute_result"
    }
   ],
   "source": [
    "IPI_NHMDP_dataset.head()"
   ]
  },
  {
   "cell_type": "code",
   "execution_count": 6,
   "metadata": {},
   "outputs": [
    {
     "data": {
      "text/plain": [
       "Index(['Project Name', 'Specimen No Prefix', 'Specimen No/Barcode',\n",
       "       'Specimen Code', 'Country', 'Province/State/Territory',\n",
       "       'District/County/Shire', 'Precise Locality', 'Coll Date', 'Method',\n",
       "       'Collector', 'Collector 1', 'Collector 2', 'Identifier',\n",
       "       'Determination', 'SEX', 'Stage'],\n",
       "      dtype='object')"
      ]
     },
     "execution_count": 6,
     "metadata": {},
     "output_type": "execute_result"
    }
   ],
   "source": [
    "IPI_NHMDP_dataset.columns"
   ]
  },
  {
   "cell_type": "markdown",
   "metadata": {},
   "source": [
    "Mmm I don't see particularly interesting information.\n",
    "\n",
    "Let's check how many per state differnt specimes have been collected\n"
   ]
  },
  {
   "cell_type": "code",
   "execution_count": 14,
   "metadata": {},
   "outputs": [
    {
     "data": {
      "text/html": [
       "<div>\n",
       "<style scoped>\n",
       "    .dataframe tbody tr th:only-of-type {\n",
       "        vertical-align: middle;\n",
       "    }\n",
       "\n",
       "    .dataframe tbody tr th {\n",
       "        vertical-align: top;\n",
       "    }\n",
       "\n",
       "    .dataframe thead tr th {\n",
       "        text-align: left;\n",
       "    }\n",
       "\n",
       "    .dataframe thead tr:last-of-type th {\n",
       "        text-align: right;\n",
       "    }\n",
       "</style>\n",
       "<table border=\"1\" class=\"dataframe\">\n",
       "  <thead>\n",
       "    <tr>\n",
       "      <th></th>\n",
       "      <th colspan=\"4\" halign=\"left\">Specimen Code</th>\n",
       "    </tr>\n",
       "    <tr>\n",
       "      <th></th>\n",
       "      <th>count</th>\n",
       "      <th>unique</th>\n",
       "      <th>top</th>\n",
       "      <th>freq</th>\n",
       "    </tr>\n",
       "    <tr>\n",
       "      <th>Country</th>\n",
       "      <th></th>\n",
       "      <th></th>\n",
       "      <th></th>\n",
       "      <th></th>\n",
       "    </tr>\n",
       "  </thead>\n",
       "  <tbody>\n",
       "    <tr>\n",
       "      <th>United Kingdom</th>\n",
       "      <td>11852</td>\n",
       "      <td>11807</td>\n",
       "      <td>Wi-01-3.13-P10003</td>\n",
       "      <td>2</td>\n",
       "    </tr>\n",
       "  </tbody>\n",
       "</table>\n",
       "</div>"
      ],
      "text/plain": [
       "               Specimen Code                               \n",
       "                       count unique                top freq\n",
       "Country                                                    \n",
       "United Kingdom         11852  11807  Wi-01-3.13-P10003    2"
      ]
     },
     "execution_count": 14,
     "metadata": {},
     "output_type": "execute_result"
    }
   ],
   "source": [
    "IPI_NHMDP_dataset[[\"Country\",\"Specimen Code\"]].groupby(\"Country\").describe()"
   ]
  },
  {
   "cell_type": "code",
   "execution_count": 15,
   "metadata": {},
   "outputs": [
    {
     "data": {
      "text/html": [
       "<div>\n",
       "<style scoped>\n",
       "    .dataframe tbody tr th:only-of-type {\n",
       "        vertical-align: middle;\n",
       "    }\n",
       "\n",
       "    .dataframe tbody tr th {\n",
       "        vertical-align: top;\n",
       "    }\n",
       "\n",
       "    .dataframe thead tr th {\n",
       "        text-align: left;\n",
       "    }\n",
       "\n",
       "    .dataframe thead tr:last-of-type th {\n",
       "        text-align: right;\n",
       "    }\n",
       "</style>\n",
       "<table border=\"1\" class=\"dataframe\">\n",
       "  <thead>\n",
       "    <tr>\n",
       "      <th></th>\n",
       "      <th colspan=\"4\" halign=\"left\">Specimen Code</th>\n",
       "    </tr>\n",
       "    <tr>\n",
       "      <th></th>\n",
       "      <th>count</th>\n",
       "      <th>unique</th>\n",
       "      <th>top</th>\n",
       "      <th>freq</th>\n",
       "    </tr>\n",
       "    <tr>\n",
       "      <th>Province/State/Territory</th>\n",
       "      <th></th>\n",
       "      <th></th>\n",
       "      <th></th>\n",
       "      <th></th>\n",
       "    </tr>\n",
       "  </thead>\n",
       "  <tbody>\n",
       "    <tr>\n",
       "      <th>England</th>\n",
       "      <td>10028</td>\n",
       "      <td>9996</td>\n",
       "      <td>Ca-05-1.12-P30003</td>\n",
       "      <td>2</td>\n",
       "    </tr>\n",
       "    <tr>\n",
       "      <th>Scotland</th>\n",
       "      <td>1824</td>\n",
       "      <td>1811</td>\n",
       "      <td>Ay-15-3.12-P50013</td>\n",
       "      <td>2</td>\n",
       "    </tr>\n",
       "  </tbody>\n",
       "</table>\n",
       "</div>"
      ],
      "text/plain": [
       "                         Specimen Code                               \n",
       "                                 count unique                top freq\n",
       "Province/State/Territory                                             \n",
       "England                          10028   9996  Ca-05-1.12-P30003    2\n",
       "Scotland                          1824   1811  Ay-15-3.12-P50013    2"
      ]
     },
     "execution_count": 15,
     "metadata": {},
     "output_type": "execute_result"
    }
   ],
   "source": [
    "IPI_NHMDP_dataset[[\"Province/State/Territory\",\"Specimen Code\"]].groupby(\"Province/State/Territory\").describe()"
   ]
  },
  {
   "cell_type": "code",
   "execution_count": 16,
   "metadata": {},
   "outputs": [
    {
     "data": {
      "text/html": [
       "<div>\n",
       "<style scoped>\n",
       "    .dataframe tbody tr th:only-of-type {\n",
       "        vertical-align: middle;\n",
       "    }\n",
       "\n",
       "    .dataframe tbody tr th {\n",
       "        vertical-align: top;\n",
       "    }\n",
       "\n",
       "    .dataframe thead tr th {\n",
       "        text-align: left;\n",
       "    }\n",
       "\n",
       "    .dataframe thead tr:last-of-type th {\n",
       "        text-align: right;\n",
       "    }\n",
       "</style>\n",
       "<table border=\"1\" class=\"dataframe\">\n",
       "  <thead>\n",
       "    <tr>\n",
       "      <th></th>\n",
       "      <th colspan=\"4\" halign=\"left\">Province/State/Territory</th>\n",
       "      <th colspan=\"4\" halign=\"left\">Specimen Code</th>\n",
       "    </tr>\n",
       "    <tr>\n",
       "      <th></th>\n",
       "      <th>count</th>\n",
       "      <th>unique</th>\n",
       "      <th>top</th>\n",
       "      <th>freq</th>\n",
       "      <th>count</th>\n",
       "      <th>unique</th>\n",
       "      <th>top</th>\n",
       "      <th>freq</th>\n",
       "    </tr>\n",
       "    <tr>\n",
       "      <th>District/County/Shire</th>\n",
       "      <th></th>\n",
       "      <th></th>\n",
       "      <th></th>\n",
       "      <th></th>\n",
       "      <th></th>\n",
       "      <th></th>\n",
       "      <th></th>\n",
       "      <th></th>\n",
       "    </tr>\n",
       "  </thead>\n",
       "  <tbody>\n",
       "    <tr>\n",
       "      <th>Bedfordshire</th>\n",
       "      <td>1053</td>\n",
       "      <td>1</td>\n",
       "      <td>England</td>\n",
       "      <td>1053</td>\n",
       "      <td>1053</td>\n",
       "      <td>1052</td>\n",
       "      <td>AL_11_03988</td>\n",
       "      <td>2</td>\n",
       "    </tr>\n",
       "    <tr>\n",
       "      <th>Cambridgeshire</th>\n",
       "      <td>2356</td>\n",
       "      <td>1</td>\n",
       "      <td>England</td>\n",
       "      <td>2356</td>\n",
       "      <td>2356</td>\n",
       "      <td>2340</td>\n",
       "      <td>Ca-01-1.13-P40002</td>\n",
       "      <td>2</td>\n",
       "    </tr>\n",
       "    <tr>\n",
       "      <th>Cumbria</th>\n",
       "      <td>113</td>\n",
       "      <td>1</td>\n",
       "      <td>England</td>\n",
       "      <td>113</td>\n",
       "      <td>113</td>\n",
       "      <td>113</td>\n",
       "      <td>Yo-08-1.12-P30003</td>\n",
       "      <td>1</td>\n",
       "    </tr>\n",
       "    <tr>\n",
       "      <th>Dorset</th>\n",
       "      <td>492</td>\n",
       "      <td>1</td>\n",
       "      <td>England</td>\n",
       "      <td>492</td>\n",
       "      <td>492</td>\n",
       "      <td>492</td>\n",
       "      <td>AL_12_07052</td>\n",
       "      <td>1</td>\n",
       "    </tr>\n",
       "    <tr>\n",
       "      <th>Dumfries and Galloway</th>\n",
       "      <td>137</td>\n",
       "      <td>1</td>\n",
       "      <td>Scotland</td>\n",
       "      <td>137</td>\n",
       "      <td>137</td>\n",
       "      <td>137</td>\n",
       "      <td>Ay-08-3.12-P10001</td>\n",
       "      <td>1</td>\n",
       "    </tr>\n",
       "    <tr>\n",
       "      <th>East Ayrshire</th>\n",
       "      <td>523</td>\n",
       "      <td>1</td>\n",
       "      <td>Scotland</td>\n",
       "      <td>523</td>\n",
       "      <td>523</td>\n",
       "      <td>523</td>\n",
       "      <td>Ay-01-3.12-P20001</td>\n",
       "      <td>1</td>\n",
       "    </tr>\n",
       "    <tr>\n",
       "      <th>East Renfrewshire</th>\n",
       "      <td>29</td>\n",
       "      <td>1</td>\n",
       "      <td>Scotland</td>\n",
       "      <td>29</td>\n",
       "      <td>29</td>\n",
       "      <td>29</td>\n",
       "      <td>Ay-12-3.12-P10001</td>\n",
       "      <td>1</td>\n",
       "    </tr>\n",
       "    <tr>\n",
       "      <th>East Riding of Yorkshire</th>\n",
       "      <td>1471</td>\n",
       "      <td>1</td>\n",
       "      <td>England</td>\n",
       "      <td>1471</td>\n",
       "      <td>1471</td>\n",
       "      <td>1467</td>\n",
       "      <td>AL_11_02429</td>\n",
       "      <td>2</td>\n",
       "    </tr>\n",
       "    <tr>\n",
       "      <th>Highland</th>\n",
       "      <td>651</td>\n",
       "      <td>1</td>\n",
       "      <td>Scotland</td>\n",
       "      <td>651</td>\n",
       "      <td>651</td>\n",
       "      <td>643</td>\n",
       "      <td>In-04-1.12-P50001</td>\n",
       "      <td>2</td>\n",
       "    </tr>\n",
       "    <tr>\n",
       "      <th>Kent</th>\n",
       "      <td>173</td>\n",
       "      <td>1</td>\n",
       "      <td>England</td>\n",
       "      <td>173</td>\n",
       "      <td>173</td>\n",
       "      <td>173</td>\n",
       "      <td>AL_12_06790</td>\n",
       "      <td>1</td>\n",
       "    </tr>\n",
       "    <tr>\n",
       "      <th>Lancashire</th>\n",
       "      <td>219</td>\n",
       "      <td>1</td>\n",
       "      <td>England</td>\n",
       "      <td>219</td>\n",
       "      <td>219</td>\n",
       "      <td>219</td>\n",
       "      <td>AL_11_02651</td>\n",
       "      <td>1</td>\n",
       "    </tr>\n",
       "    <tr>\n",
       "      <th>North Lanarkshire</th>\n",
       "      <td>167</td>\n",
       "      <td>1</td>\n",
       "      <td>Scotland</td>\n",
       "      <td>167</td>\n",
       "      <td>167</td>\n",
       "      <td>162</td>\n",
       "      <td>Ay-15-3.12-P50009</td>\n",
       "      <td>2</td>\n",
       "    </tr>\n",
       "    <tr>\n",
       "      <th>North Yorkshire</th>\n",
       "      <td>254</td>\n",
       "      <td>1</td>\n",
       "      <td>England</td>\n",
       "      <td>254</td>\n",
       "      <td>254</td>\n",
       "      <td>253</td>\n",
       "      <td>AL_11_06052</td>\n",
       "      <td>2</td>\n",
       "    </tr>\n",
       "    <tr>\n",
       "      <th>Renfrewshire</th>\n",
       "      <td>14</td>\n",
       "      <td>1</td>\n",
       "      <td>Scotland</td>\n",
       "      <td>14</td>\n",
       "      <td>14</td>\n",
       "      <td>14</td>\n",
       "      <td>Ay-09-3.12-P30001</td>\n",
       "      <td>1</td>\n",
       "    </tr>\n",
       "    <tr>\n",
       "      <th>South Lanarkshire</th>\n",
       "      <td>303</td>\n",
       "      <td>1</td>\n",
       "      <td>Scotland</td>\n",
       "      <td>303</td>\n",
       "      <td>303</td>\n",
       "      <td>303</td>\n",
       "      <td>Ay-04-3.12-P10009</td>\n",
       "      <td>1</td>\n",
       "    </tr>\n",
       "    <tr>\n",
       "      <th>Staffordshire</th>\n",
       "      <td>1359</td>\n",
       "      <td>1</td>\n",
       "      <td>England</td>\n",
       "      <td>1359</td>\n",
       "      <td>1359</td>\n",
       "      <td>1359</td>\n",
       "      <td>St-02-3.12-P10001</td>\n",
       "      <td>1</td>\n",
       "    </tr>\n",
       "    <tr>\n",
       "      <th>West Yorkshire</th>\n",
       "      <td>895</td>\n",
       "      <td>1</td>\n",
       "      <td>England</td>\n",
       "      <td>895</td>\n",
       "      <td>895</td>\n",
       "      <td>894</td>\n",
       "      <td>AL_11_02507</td>\n",
       "      <td>2</td>\n",
       "    </tr>\n",
       "    <tr>\n",
       "      <th>Wiltshire</th>\n",
       "      <td>1643</td>\n",
       "      <td>1</td>\n",
       "      <td>England</td>\n",
       "      <td>1643</td>\n",
       "      <td>1643</td>\n",
       "      <td>1634</td>\n",
       "      <td>Wi-01-3.13-P40001</td>\n",
       "      <td>2</td>\n",
       "    </tr>\n",
       "  </tbody>\n",
       "</table>\n",
       "</div>"
      ],
      "text/plain": [
       "                         Province/State/Territory                         \\\n",
       "                                            count unique       top  freq   \n",
       "District/County/Shire                                                      \n",
       "Bedfordshire                                 1053      1   England  1053   \n",
       "Cambridgeshire                               2356      1   England  2356   \n",
       "Cumbria                                       113      1   England   113   \n",
       "Dorset                                        492      1   England   492   \n",
       "Dumfries and Galloway                         137      1  Scotland   137   \n",
       "East Ayrshire                                 523      1  Scotland   523   \n",
       "East Renfrewshire                              29      1  Scotland    29   \n",
       "East Riding of Yorkshire                     1471      1   England  1471   \n",
       "Highland                                      651      1  Scotland   651   \n",
       "Kent                                          173      1   England   173   \n",
       "Lancashire                                    219      1   England   219   \n",
       "North Lanarkshire                             167      1  Scotland   167   \n",
       "North Yorkshire                               254      1   England   254   \n",
       "Renfrewshire                                   14      1  Scotland    14   \n",
       "South Lanarkshire                             303      1  Scotland   303   \n",
       "Staffordshire                                1359      1   England  1359   \n",
       "West Yorkshire                                895      1   England   895   \n",
       "Wiltshire                                    1643      1   England  1643   \n",
       "\n",
       "                         Specimen Code                                 \n",
       "                                 count unique                top freq  \n",
       "District/County/Shire                                                  \n",
       "Bedfordshire                      1053   1052        AL_11_03988    2  \n",
       "Cambridgeshire                    2356   2340  Ca-01-1.13-P40002    2  \n",
       "Cumbria                            113    113  Yo-08-1.12-P30003    1  \n",
       "Dorset                             492    492        AL_12_07052    1  \n",
       "Dumfries and Galloway              137    137  Ay-08-3.12-P10001    1  \n",
       "East Ayrshire                      523    523  Ay-01-3.12-P20001    1  \n",
       "East Renfrewshire                   29     29  Ay-12-3.12-P10001    1  \n",
       "East Riding of Yorkshire          1471   1467        AL_11_02429    2  \n",
       "Highland                           651    643  In-04-1.12-P50001    2  \n",
       "Kent                               173    173        AL_12_06790    1  \n",
       "Lancashire                         219    219        AL_11_02651    1  \n",
       "North Lanarkshire                  167    162  Ay-15-3.12-P50009    2  \n",
       "North Yorkshire                    254    253        AL_11_06052    2  \n",
       "Renfrewshire                        14     14  Ay-09-3.12-P30001    1  \n",
       "South Lanarkshire                  303    303  Ay-04-3.12-P10009    1  \n",
       "Staffordshire                     1359   1359  St-02-3.12-P10001    1  \n",
       "West Yorkshire                     895    894        AL_11_02507    2  \n",
       "Wiltshire                         1643   1634  Wi-01-3.13-P40001    2  "
      ]
     },
     "execution_count": 16,
     "metadata": {},
     "output_type": "execute_result"
    }
   ],
   "source": [
    "IPI_NHMDP_dataset[[\"Province/State/Territory\",\"District/County/Shire\",\"Specimen Code\"]].groupby(\"District/County/Shire\").describe()"
   ]
  },
  {
   "cell_type": "markdown",
   "metadata": {},
   "source": [
    "Could be nice try to represent these data on a geographical map... but it's a bit out of the exercise scope"
   ]
  },
  {
   "cell_type": "markdown",
   "metadata": {},
   "source": [
    "## Global pollinator database - Boreux & Klein - Figshare Dataset\n",
    "\n",
    "Boreux, Virginie; Klein, Alexandra-Maria (2019): Global pollinator database. figshare. Dataset. https://doi.org/10.6084/m9.figshare.9980471.v1 \n"
   ]
  },
  {
   "cell_type": "markdown",
   "metadata": {},
   "source": [
    "### GPD-F - Data download - (One shoot execution)"
   ]
  },
  {
   "cell_type": "code",
   "execution_count": 6,
   "metadata": {},
   "outputs": [],
   "source": [
    "# Dataset url\n",
    "GPD_F_dataset_url = 'https://figshare.com/ndownloader/files/18003863'\n",
    "\n",
    "# Desired directory\n",
    "GPD_F_dataset_directory = 'Datasets/Pollinators/Figshare/GlobalPollinatorDatabase'\n",
    "\n",
    "# Desired file name\n",
    "GPD_F_dataset_name = 'GlobalPollinatorDatabase.csv'\n",
    "\n",
    "\n",
    "# Description dataset url\n",
    "GPD_F_description_dataset_url = 'https://figshare.com/ndownloader/files/18003860'\n",
    "\n",
    "# Desired file name\n",
    "GPD_F_description_dataset_name = 'GlobalPollinatorDatabaseDescription.csv'\n"
   ]
  },
  {
   "cell_type": "code",
   "execution_count": 21,
   "metadata": {},
   "outputs": [
    {
     "name": "stdout",
     "output_type": "stream",
     "text": [
      "Download started\n",
      "Download completed\n",
      "Writing started\n",
      "Writing completed\n",
      "End\n"
     ]
    }
   ],
   "source": [
    "# Download and Save\n",
    "DatasetDownload(GPD_F_dataset_url, GPD_F_dataset_directory, GPD_F_dataset_name)\n"
   ]
  },
  {
   "cell_type": "code",
   "execution_count": 22,
   "metadata": {},
   "outputs": [
    {
     "name": "stdout",
     "output_type": "stream",
     "text": [
      "Download started\n",
      "Download completed\n",
      "Writing started\n",
      "Writing completed\n",
      "End\n"
     ]
    }
   ],
   "source": [
    "# Download and Save description\n",
    "DatasetDownload(GPD_F_description_dataset_url, GPD_F_dataset_directory, GPD_F_description_dataset_name)\n"
   ]
  },
  {
   "cell_type": "markdown",
   "metadata": {},
   "source": [
    "### GPD - Data import - Starting point"
   ]
  },
  {
   "cell_type": "code",
   "execution_count": 7,
   "metadata": {},
   "outputs": [],
   "source": [
    "GPD_dataset = pd.read_csv(GPD_F_dataset_directory+GPD_F_dataset_name)\n"
   ]
  },
  {
   "cell_type": "markdown",
   "metadata": {},
   "source": [
    "read_csv on dtaset description rise an error of text decoding: *UnicodeDecodeError: 'utf-8' codec can't decode byte 0x96 in position 292: invalid start byte*\n",
    "\n",
    "Let's check the encoding"
   ]
  },
  {
   "cell_type": "code",
   "execution_count": 27,
   "metadata": {},
   "outputs": [
    {
     "name": "stdout",
     "output_type": "stream",
     "text": [
      "{'encoding': 'Windows-1252', 'confidence': 0.73, 'language': ''}\n"
     ]
    }
   ],
   "source": [
    "with open(GPD_F_dataset_directory+GPD_F_description_dataset_name, 'rb') as file:\n",
    "    print(chardet.detect(file.read()))"
   ]
  },
  {
   "cell_type": "code",
   "execution_count": 28,
   "metadata": {},
   "outputs": [
    {
     "name": "stdout",
     "output_type": "stream",
     "text": [
      "{'encoding': 'ascii', 'confidence': 1.0, 'language': ''}\n"
     ]
    }
   ],
   "source": [
    "with open(GPD_F_dataset_directory+GPD_F_dataset_name, 'rb') as file:\n",
    "    print(chardet.detect(file.read()))"
   ]
  },
  {
   "cell_type": "code",
   "execution_count": 29,
   "metadata": {},
   "outputs": [],
   "source": [
    "GPD_dataset_description = pd.read_csv(GPD_F_dataset_directory+GPD_F_description_dataset_name, encoding='Windows-1252')"
   ]
  },
  {
   "cell_type": "markdown",
   "metadata": {},
   "source": [
    "### GPD-F - Exploration"
   ]
  },
  {
   "cell_type": "code",
   "execution_count": 31,
   "metadata": {},
   "outputs": [
    {
     "data": {
      "text/html": [
       "<div>\n",
       "<style scoped>\n",
       "    .dataframe tbody tr th:only-of-type {\n",
       "        vertical-align: middle;\n",
       "    }\n",
       "\n",
       "    .dataframe tbody tr th {\n",
       "        vertical-align: top;\n",
       "    }\n",
       "\n",
       "    .dataframe thead th {\n",
       "        text-align: right;\n",
       "    }\n",
       "</style>\n",
       "<table border=\"1\" class=\"dataframe\">\n",
       "  <thead>\n",
       "    <tr style=\"text-align: right;\">\n",
       "      <th></th>\n",
       "      <th>Unnamed: 0</th>\n",
       "      <th>diameter</th>\n",
       "      <th>tongue</th>\n",
       "      <th>body</th>\n",
       "    </tr>\n",
       "  </thead>\n",
       "  <tbody>\n",
       "    <tr>\n",
       "      <th>count</th>\n",
       "      <td>796.000000</td>\n",
       "      <td>474.000000</td>\n",
       "      <td>293.000000</td>\n",
       "      <td>633.000000</td>\n",
       "    </tr>\n",
       "    <tr>\n",
       "      <th>mean</th>\n",
       "      <td>398.500000</td>\n",
       "      <td>27.781814</td>\n",
       "      <td>7.291297</td>\n",
       "      <td>11.592891</td>\n",
       "    </tr>\n",
       "    <tr>\n",
       "      <th>std</th>\n",
       "      <td>229.929699</td>\n",
       "      <td>31.164702</td>\n",
       "      <td>4.009739</td>\n",
       "      <td>3.862993</td>\n",
       "    </tr>\n",
       "    <tr>\n",
       "      <th>min</th>\n",
       "      <td>1.000000</td>\n",
       "      <td>2.000000</td>\n",
       "      <td>2.000000</td>\n",
       "      <td>2.000000</td>\n",
       "    </tr>\n",
       "    <tr>\n",
       "      <th>25%</th>\n",
       "      <td>199.750000</td>\n",
       "      <td>12.200000</td>\n",
       "      <td>5.000000</td>\n",
       "      <td>9.000000</td>\n",
       "    </tr>\n",
       "    <tr>\n",
       "      <th>50%</th>\n",
       "      <td>398.500000</td>\n",
       "      <td>25.000000</td>\n",
       "      <td>5.500000</td>\n",
       "      <td>11.500000</td>\n",
       "    </tr>\n",
       "    <tr>\n",
       "      <th>75%</th>\n",
       "      <td>597.250000</td>\n",
       "      <td>25.000000</td>\n",
       "      <td>9.000000</td>\n",
       "      <td>13.500000</td>\n",
       "    </tr>\n",
       "    <tr>\n",
       "      <th>max</th>\n",
       "      <td>796.000000</td>\n",
       "      <td>150.000000</td>\n",
       "      <td>26.400000</td>\n",
       "      <td>25.000000</td>\n",
       "    </tr>\n",
       "  </tbody>\n",
       "</table>\n",
       "</div>"
      ],
      "text/plain": [
       "       Unnamed: 0    diameter      tongue        body\n",
       "count  796.000000  474.000000  293.000000  633.000000\n",
       "mean   398.500000   27.781814    7.291297   11.592891\n",
       "std    229.929699   31.164702    4.009739    3.862993\n",
       "min      1.000000    2.000000    2.000000    2.000000\n",
       "25%    199.750000   12.200000    5.000000    9.000000\n",
       "50%    398.500000   25.000000    5.500000   11.500000\n",
       "75%    597.250000   25.000000    9.000000   13.500000\n",
       "max    796.000000  150.000000   26.400000   25.000000"
      ]
     },
     "execution_count": 31,
     "metadata": {},
     "output_type": "execute_result"
    }
   ],
   "source": [
    "GPD_dataset.describe()"
   ]
  },
  {
   "cell_type": "markdown",
   "metadata": {},
   "source": [
    "So... seems we have to deal with a lot of missing values... yeah! XD"
   ]
  },
  {
   "cell_type": "code",
   "execution_count": 33,
   "metadata": {},
   "outputs": [
    {
     "data": {
      "text/plain": [
       "Index(['Unnamed: 0', 'crop', 'type', 'season', 'diameter', 'corolla', 'colour',\n",
       "       'nectar', 'b.system', 's.pollination', 'inflorescence', 'composite',\n",
       "       'visitor', 'guild', 'tongue', 'body', 'sociality', 'feeding'],\n",
       "      dtype='object')"
      ]
     },
     "execution_count": 33,
     "metadata": {},
     "output_type": "execute_result"
    }
   ],
   "source": [
    "GPD_dataset.columns"
   ]
  },
  {
   "cell_type": "code",
   "execution_count": 34,
   "metadata": {},
   "outputs": [
    {
     "data": {
      "text/html": [
       "<div>\n",
       "<style scoped>\n",
       "    .dataframe tbody tr th:only-of-type {\n",
       "        vertical-align: middle;\n",
       "    }\n",
       "\n",
       "    .dataframe tbody tr th {\n",
       "        vertical-align: top;\n",
       "    }\n",
       "\n",
       "    .dataframe thead th {\n",
       "        text-align: right;\n",
       "    }\n",
       "</style>\n",
       "<table border=\"1\" class=\"dataframe\">\n",
       "  <thead>\n",
       "    <tr style=\"text-align: right;\">\n",
       "      <th></th>\n",
       "      <th>Unnamed: 0</th>\n",
       "    </tr>\n",
       "  </thead>\n",
       "  <tbody>\n",
       "    <tr>\n",
       "      <th>count</th>\n",
       "      <td>15.000000</td>\n",
       "    </tr>\n",
       "    <tr>\n",
       "      <th>mean</th>\n",
       "      <td>8.000000</td>\n",
       "    </tr>\n",
       "    <tr>\n",
       "      <th>std</th>\n",
       "      <td>4.472136</td>\n",
       "    </tr>\n",
       "    <tr>\n",
       "      <th>min</th>\n",
       "      <td>1.000000</td>\n",
       "    </tr>\n",
       "    <tr>\n",
       "      <th>25%</th>\n",
       "      <td>4.500000</td>\n",
       "    </tr>\n",
       "    <tr>\n",
       "      <th>50%</th>\n",
       "      <td>8.000000</td>\n",
       "    </tr>\n",
       "    <tr>\n",
       "      <th>75%</th>\n",
       "      <td>11.500000</td>\n",
       "    </tr>\n",
       "    <tr>\n",
       "      <th>max</th>\n",
       "      <td>15.000000</td>\n",
       "    </tr>\n",
       "  </tbody>\n",
       "</table>\n",
       "</div>"
      ],
      "text/plain": [
       "       Unnamed: 0\n",
       "count   15.000000\n",
       "mean     8.000000\n",
       "std      4.472136\n",
       "min      1.000000\n",
       "25%      4.500000\n",
       "50%      8.000000\n",
       "75%     11.500000\n",
       "max     15.000000"
      ]
     },
     "execution_count": 34,
     "metadata": {},
     "output_type": "execute_result"
    }
   ],
   "source": [
    "GPD_dataset_description.describe()"
   ]
  },
  {
   "cell_type": "code",
   "execution_count": 36,
   "metadata": {},
   "outputs": [
    {
     "data": {
      "text/html": [
       "<div>\n",
       "<style scoped>\n",
       "    .dataframe tbody tr th:only-of-type {\n",
       "        vertical-align: middle;\n",
       "    }\n",
       "\n",
       "    .dataframe tbody tr th {\n",
       "        vertical-align: top;\n",
       "    }\n",
       "\n",
       "    .dataframe thead th {\n",
       "        text-align: right;\n",
       "    }\n",
       "</style>\n",
       "<table border=\"1\" class=\"dataframe\">\n",
       "  <thead>\n",
       "    <tr style=\"text-align: right;\">\n",
       "      <th></th>\n",
       "      <th>Unnamed: 0</th>\n",
       "      <th>Name</th>\n",
       "      <th>Group</th>\n",
       "      <th>Type</th>\n",
       "      <th>Unit</th>\n",
       "      <th>Description</th>\n",
       "      <th>Levels</th>\n",
       "    </tr>\n",
       "  </thead>\n",
       "  <tbody>\n",
       "    <tr>\n",
       "      <th>0</th>\n",
       "      <td>1</td>\n",
       "      <td>type</td>\n",
       "      <td>Plant</td>\n",
       "      <td>discrete</td>\n",
       "      <td>levels</td>\n",
       "      <td>arboreous or herbaceous plant</td>\n",
       "      <td>arboreous, herbaceous</td>\n",
       "    </tr>\n",
       "    <tr>\n",
       "      <th>1</th>\n",
       "      <td>2</td>\n",
       "      <td>season</td>\n",
       "      <td>Plant</td>\n",
       "      <td>discrete</td>\n",
       "      <td>levels</td>\n",
       "      <td>Flower season: Describes the seasonal range. F...</td>\n",
       "      <td>sprisum, summer, spriaut, spring, autspri, sum...</td>\n",
       "    </tr>\n",
       "    <tr>\n",
       "      <th>2</th>\n",
       "      <td>3</td>\n",
       "      <td>diameter</td>\n",
       "      <td>Plant</td>\n",
       "      <td>continuous</td>\n",
       "      <td>mm</td>\n",
       "      <td>Flower diameter</td>\n",
       "      <td>NaN</td>\n",
       "    </tr>\n",
       "    <tr>\n",
       "      <th>3</th>\n",
       "      <td>4</td>\n",
       "      <td>corolla</td>\n",
       "      <td>Plant</td>\n",
       "      <td>discrete</td>\n",
       "      <td>levels</td>\n",
       "      <td>Flower corolla type</td>\n",
       "      <td>campanulate open, tubular</td>\n",
       "    </tr>\n",
       "    <tr>\n",
       "      <th>4</th>\n",
       "      <td>5</td>\n",
       "      <td>colour</td>\n",
       "      <td>Plant</td>\n",
       "      <td>discrete</td>\n",
       "      <td>levels</td>\n",
       "      <td>Flower colour</td>\n",
       "      <td>white, yellow, purple, pink, green, blue, red</td>\n",
       "    </tr>\n",
       "    <tr>\n",
       "      <th>5</th>\n",
       "      <td>6</td>\n",
       "      <td>nectar</td>\n",
       "      <td>Plant</td>\n",
       "      <td>discrete</td>\n",
       "      <td>levels</td>\n",
       "      <td>Whether flower contains nectar</td>\n",
       "      <td>yes, no</td>\n",
       "    </tr>\n",
       "    <tr>\n",
       "      <th>6</th>\n",
       "      <td>7</td>\n",
       "      <td>b.system</td>\n",
       "      <td>Plant</td>\n",
       "      <td>discrete</td>\n",
       "      <td>levels</td>\n",
       "      <td>Type of bloom system</td>\n",
       "      <td>insects, insects/bats, insects/bats, insects/b...</td>\n",
       "    </tr>\n",
       "    <tr>\n",
       "      <th>7</th>\n",
       "      <td>8</td>\n",
       "      <td>s.pollination</td>\n",
       "      <td>Plant</td>\n",
       "      <td>discrete</td>\n",
       "      <td>levels</td>\n",
       "      <td>Self pollination</td>\n",
       "      <td>yes, no</td>\n",
       "    </tr>\n",
       "    <tr>\n",
       "      <th>8</th>\n",
       "      <td>9</td>\n",
       "      <td>inflorescence</td>\n",
       "      <td>Plant</td>\n",
       "      <td>discrete</td>\n",
       "      <td>levels</td>\n",
       "      <td>Type of inflorescence</td>\n",
       "      <td>solitary, solitary/clusters, solitary/pairs, yes</td>\n",
       "    </tr>\n",
       "    <tr>\n",
       "      <th>9</th>\n",
       "      <td>10</td>\n",
       "      <td>composite</td>\n",
       "      <td>Plant</td>\n",
       "      <td>discrete</td>\n",
       "      <td>levels</td>\n",
       "      <td>Whether flower is composite or not</td>\n",
       "      <td>yes, no</td>\n",
       "    </tr>\n",
       "    <tr>\n",
       "      <th>10</th>\n",
       "      <td>11</td>\n",
       "      <td>guild</td>\n",
       "      <td>Pollinator</td>\n",
       "      <td>discrete</td>\n",
       "      <td>levels</td>\n",
       "      <td>Pollinator guild</td>\n",
       "      <td>andrenidae, bumblebees, butterflies, coleopter...</td>\n",
       "    </tr>\n",
       "    <tr>\n",
       "      <th>11</th>\n",
       "      <td>12</td>\n",
       "      <td>tongue</td>\n",
       "      <td>Pollinator</td>\n",
       "      <td>continuous</td>\n",
       "      <td>mm</td>\n",
       "      <td>Pollinator tongue length</td>\n",
       "      <td>NaN</td>\n",
       "    </tr>\n",
       "    <tr>\n",
       "      <th>12</th>\n",
       "      <td>13</td>\n",
       "      <td>body</td>\n",
       "      <td>Pollinator</td>\n",
       "      <td>continuous</td>\n",
       "      <td>mm</td>\n",
       "      <td>Pollinator body length</td>\n",
       "      <td>NaN</td>\n",
       "    </tr>\n",
       "    <tr>\n",
       "      <th>13</th>\n",
       "      <td>14</td>\n",
       "      <td>sociality</td>\n",
       "      <td>Pollinator</td>\n",
       "      <td>discrete</td>\n",
       "      <td>levels</td>\n",
       "      <td>Whether pollinator is sociality or not</td>\n",
       "      <td>yes, no</td>\n",
       "    </tr>\n",
       "    <tr>\n",
       "      <th>14</th>\n",
       "      <td>15</td>\n",
       "      <td>feeding</td>\n",
       "      <td>Pollinator</td>\n",
       "      <td>discrete</td>\n",
       "      <td>levels</td>\n",
       "      <td>Feeding behaviour</td>\n",
       "      <td>oligolectic, parasitic, polylectic</td>\n",
       "    </tr>\n",
       "  </tbody>\n",
       "</table>\n",
       "</div>"
      ],
      "text/plain": [
       "    Unnamed: 0           Name       Group        Type    Unit  \\\n",
       "0            1           type       Plant    discrete  levels   \n",
       "1            2         season       Plant    discrete  levels   \n",
       "2            3       diameter       Plant  continuous      mm   \n",
       "3            4        corolla       Plant    discrete  levels   \n",
       "4            5         colour       Plant    discrete  levels   \n",
       "5            6         nectar       Plant    discrete  levels   \n",
       "6            7       b.system       Plant    discrete  levels   \n",
       "7            8  s.pollination       Plant    discrete  levels   \n",
       "8            9  inflorescence       Plant    discrete  levels   \n",
       "9           10      composite       Plant    discrete  levels   \n",
       "10          11          guild  Pollinator    discrete  levels   \n",
       "11          12         tongue  Pollinator  continuous      mm   \n",
       "12          13           body  Pollinator  continuous      mm   \n",
       "13          14      sociality  Pollinator    discrete  levels   \n",
       "14          15        feeding  Pollinator    discrete  levels   \n",
       "\n",
       "                                          Description  \\\n",
       "0                       arboreous or herbaceous plant   \n",
       "1   Flower season: Describes the seasonal range. F...   \n",
       "2                                     Flower diameter   \n",
       "3                                 Flower corolla type   \n",
       "4                                       Flower colour   \n",
       "5                      Whether flower contains nectar   \n",
       "6                                Type of bloom system   \n",
       "7                                    Self pollination   \n",
       "8                               Type of inflorescence   \n",
       "9                  Whether flower is composite or not   \n",
       "10                                   Pollinator guild   \n",
       "11                           Pollinator tongue length   \n",
       "12                             Pollinator body length   \n",
       "13             Whether pollinator is sociality or not   \n",
       "14                                  Feeding behaviour   \n",
       "\n",
       "                                               Levels  \n",
       "0                               arboreous, herbaceous  \n",
       "1   sprisum, summer, spriaut, spring, autspri, sum...  \n",
       "2                                                 NaN  \n",
       "3                           campanulate open, tubular  \n",
       "4       white, yellow, purple, pink, green, blue, red  \n",
       "5                                             yes, no  \n",
       "6   insects, insects/bats, insects/bats, insects/b...  \n",
       "7                                             yes, no  \n",
       "8    solitary, solitary/clusters, solitary/pairs, yes  \n",
       "9                                             yes, no  \n",
       "10  andrenidae, bumblebees, butterflies, coleopter...  \n",
       "11                                                NaN  \n",
       "12                                                NaN  \n",
       "13                                            yes, no  \n",
       "14                 oligolectic, parasitic, polylectic  "
      ]
     },
     "execution_count": 36,
     "metadata": {},
     "output_type": "execute_result"
    }
   ],
   "source": [
    "GPD_dataset_description"
   ]
  },
  {
   "cell_type": "code",
   "execution_count": 37,
   "metadata": {},
   "outputs": [
    {
     "data": {
      "text/html": [
       "<div>\n",
       "<style scoped>\n",
       "    .dataframe tbody tr th:only-of-type {\n",
       "        vertical-align: middle;\n",
       "    }\n",
       "\n",
       "    .dataframe tbody tr th {\n",
       "        vertical-align: top;\n",
       "    }\n",
       "\n",
       "    .dataframe thead th {\n",
       "        text-align: right;\n",
       "    }\n",
       "</style>\n",
       "<table border=\"1\" class=\"dataframe\">\n",
       "  <thead>\n",
       "    <tr style=\"text-align: right;\">\n",
       "      <th></th>\n",
       "      <th>Unnamed: 0</th>\n",
       "      <th>crop</th>\n",
       "      <th>type</th>\n",
       "      <th>season</th>\n",
       "      <th>diameter</th>\n",
       "      <th>corolla</th>\n",
       "      <th>colour</th>\n",
       "      <th>nectar</th>\n",
       "      <th>b.system</th>\n",
       "      <th>s.pollination</th>\n",
       "      <th>inflorescence</th>\n",
       "      <th>composite</th>\n",
       "      <th>visitor</th>\n",
       "      <th>guild</th>\n",
       "      <th>tongue</th>\n",
       "      <th>body</th>\n",
       "      <th>sociality</th>\n",
       "      <th>feeding</th>\n",
       "    </tr>\n",
       "  </thead>\n",
       "  <tbody>\n",
       "    <tr>\n",
       "      <th>0</th>\n",
       "      <td>1</td>\n",
       "      <td>Vaccinium_corymbosum</td>\n",
       "      <td>arboreous</td>\n",
       "      <td>sprisum</td>\n",
       "      <td>NaN</td>\n",
       "      <td>CAMPANULATE</td>\n",
       "      <td>white</td>\n",
       "      <td>yes</td>\n",
       "      <td>insects</td>\n",
       "      <td>no</td>\n",
       "      <td>yes</td>\n",
       "      <td>no</td>\n",
       "      <td>Andrena_wilkella</td>\n",
       "      <td>ANDRENIDAE</td>\n",
       "      <td>NaN</td>\n",
       "      <td>10.5</td>\n",
       "      <td>no</td>\n",
       "      <td>oligolectic</td>\n",
       "    </tr>\n",
       "    <tr>\n",
       "      <th>1</th>\n",
       "      <td>2</td>\n",
       "      <td>Vaccinium_corymbosum</td>\n",
       "      <td>arboreous</td>\n",
       "      <td>sprisum</td>\n",
       "      <td>NaN</td>\n",
       "      <td>CAMPANULATE</td>\n",
       "      <td>white</td>\n",
       "      <td>yes</td>\n",
       "      <td>insects</td>\n",
       "      <td>no</td>\n",
       "      <td>yes</td>\n",
       "      <td>no</td>\n",
       "      <td>Andrena_barbilabris</td>\n",
       "      <td>ANDRENIDAE</td>\n",
       "      <td>NaN</td>\n",
       "      <td>10.5</td>\n",
       "      <td>no</td>\n",
       "      <td>polylectic</td>\n",
       "    </tr>\n",
       "    <tr>\n",
       "      <th>2</th>\n",
       "      <td>3</td>\n",
       "      <td>Brassica_napus</td>\n",
       "      <td>herbaceous</td>\n",
       "      <td>summer</td>\n",
       "      <td>12.5</td>\n",
       "      <td>OPEN</td>\n",
       "      <td>yellow</td>\n",
       "      <td>yes</td>\n",
       "      <td>wind/insects</td>\n",
       "      <td>no</td>\n",
       "      <td>yes</td>\n",
       "      <td>no</td>\n",
       "      <td>Andrena_cineraria</td>\n",
       "      <td>ANDRENIDAE</td>\n",
       "      <td>NaN</td>\n",
       "      <td>12.0</td>\n",
       "      <td>no</td>\n",
       "      <td>polylectic</td>\n",
       "    </tr>\n",
       "    <tr>\n",
       "      <th>3</th>\n",
       "      <td>4</td>\n",
       "      <td>Brassica_napus</td>\n",
       "      <td>herbaceous</td>\n",
       "      <td>summer</td>\n",
       "      <td>12.5</td>\n",
       "      <td>OPEN</td>\n",
       "      <td>yellow</td>\n",
       "      <td>yes</td>\n",
       "      <td>wind/insects</td>\n",
       "      <td>no</td>\n",
       "      <td>yes</td>\n",
       "      <td>no</td>\n",
       "      <td>Andrena_flavipes</td>\n",
       "      <td>ANDRENIDAE</td>\n",
       "      <td>NaN</td>\n",
       "      <td>11.0</td>\n",
       "      <td>no</td>\n",
       "      <td>polylectic</td>\n",
       "    </tr>\n",
       "    <tr>\n",
       "      <th>4</th>\n",
       "      <td>5</td>\n",
       "      <td>Brassica_napus</td>\n",
       "      <td>herbaceous</td>\n",
       "      <td>summer</td>\n",
       "      <td>12.5</td>\n",
       "      <td>OPEN</td>\n",
       "      <td>yellow</td>\n",
       "      <td>yes</td>\n",
       "      <td>wind/insects</td>\n",
       "      <td>no</td>\n",
       "      <td>yes</td>\n",
       "      <td>no</td>\n",
       "      <td>Andrena_gravida</td>\n",
       "      <td>ANDRENIDAE</td>\n",
       "      <td>NaN</td>\n",
       "      <td>13.0</td>\n",
       "      <td>no</td>\n",
       "      <td>polylectic</td>\n",
       "    </tr>\n",
       "  </tbody>\n",
       "</table>\n",
       "</div>"
      ],
      "text/plain": [
       "   Unnamed: 0                  crop        type   season  diameter  \\\n",
       "0           1  Vaccinium_corymbosum   arboreous  sprisum       NaN   \n",
       "1           2  Vaccinium_corymbosum   arboreous  sprisum       NaN   \n",
       "2           3        Brassica_napus  herbaceous   summer      12.5   \n",
       "3           4        Brassica_napus  herbaceous   summer      12.5   \n",
       "4           5        Brassica_napus  herbaceous   summer      12.5   \n",
       "\n",
       "       corolla  colour nectar      b.system s.pollination inflorescence  \\\n",
       "0  CAMPANULATE   white    yes       insects            no           yes   \n",
       "1  CAMPANULATE   white    yes       insects            no           yes   \n",
       "2         OPEN  yellow    yes  wind/insects            no           yes   \n",
       "3         OPEN  yellow    yes  wind/insects            no           yes   \n",
       "4         OPEN  yellow    yes  wind/insects            no           yes   \n",
       "\n",
       "  composite              visitor       guild  tongue  body sociality  \\\n",
       "0        no     Andrena_wilkella  ANDRENIDAE     NaN  10.5        no   \n",
       "1        no  Andrena_barbilabris  ANDRENIDAE     NaN  10.5        no   \n",
       "2        no    Andrena_cineraria  ANDRENIDAE     NaN  12.0        no   \n",
       "3        no     Andrena_flavipes  ANDRENIDAE     NaN  11.0        no   \n",
       "4        no      Andrena_gravida  ANDRENIDAE     NaN  13.0        no   \n",
       "\n",
       "       feeding  \n",
       "0  oligolectic  \n",
       "1   polylectic  \n",
       "2   polylectic  \n",
       "3   polylectic  \n",
       "4   polylectic  "
      ]
     },
     "execution_count": 37,
     "metadata": {},
     "output_type": "execute_result"
    }
   ],
   "source": [
    "GPD_dataset.head()"
   ]
  },
  {
   "cell_type": "markdown",
   "metadata": {},
   "source": [
    "Maybe we can try some clusterng tecnique on this dataset to find out some interesting relationship"
   ]
  },
  {
   "cell_type": "markdown",
   "metadata": {},
   "source": [
    "#### Missing values"
   ]
  },
  {
   "cell_type": "markdown",
   "metadata": {},
   "source": [
    "Let's check how many missing values we have and somehow how are distributed"
   ]
  },
  {
   "cell_type": "code",
   "execution_count": 38,
   "metadata": {},
   "outputs": [
    {
     "data": {
      "text/plain": [
       "Unnamed: 0         0\n",
       "crop               0\n",
       "type               0\n",
       "season            30\n",
       "diameter         322\n",
       "corolla            3\n",
       "colour             5\n",
       "nectar            29\n",
       "b.system           0\n",
       "s.pollination      0\n",
       "inflorescence      0\n",
       "composite          0\n",
       "visitor            0\n",
       "guild              0\n",
       "tongue           503\n",
       "body             163\n",
       "sociality         32\n",
       "feeding           51\n",
       "dtype: int64"
      ]
     },
     "execution_count": 38,
     "metadata": {},
     "output_type": "execute_result"
    }
   ],
   "source": [
    "# Number of missing values per column\n",
    "GPD_dataset.isnull().sum()"
   ]
  },
  {
   "cell_type": "code",
   "execution_count": 39,
   "metadata": {},
   "outputs": [
    {
     "data": {
      "text/plain": [
       "Unnamed: 0        0.000000\n",
       "crop              0.000000\n",
       "type              0.000000\n",
       "season            3.768844\n",
       "diameter         40.452261\n",
       "corolla           0.376884\n",
       "colour            0.628141\n",
       "nectar            3.643216\n",
       "b.system          0.000000\n",
       "s.pollination     0.000000\n",
       "inflorescence     0.000000\n",
       "composite         0.000000\n",
       "visitor           0.000000\n",
       "guild             0.000000\n",
       "tongue           63.190955\n",
       "body             20.477387\n",
       "sociality         4.020101\n",
       "feeding           6.407035\n",
       "dtype: float64"
      ]
     },
     "execution_count": 39,
     "metadata": {},
     "output_type": "execute_result"
    }
   ],
   "source": [
    "# Percentage of missing values per column\n",
    "GPD_dataset.isnull().sum()/len(GPD_dataset)*100"
   ]
  },
  {
   "cell_type": "code",
   "execution_count": 64,
   "metadata": {},
   "outputs": [
    {
     "data": {
      "text/plain": [
       "662"
      ]
     },
     "execution_count": 64,
     "metadata": {},
     "output_type": "execute_result"
    }
   ],
   "source": [
    "# Let's check rows\n",
    "# Let's try to select only rows with some missing values\n",
    "# Note that GPD_dataset.isnull().sum() is a pandas Series\n",
    "len(GPD_dataset.isnull().sum(axis=1)[~GPD_dataset.isnull().sum(axis=1).isin([0])])\n"
   ]
  },
  {
   "cell_type": "code",
   "execution_count": 9,
   "metadata": {},
   "outputs": [
    {
     "data": {
      "text/plain": [
       "132"
      ]
     },
     "execution_count": 9,
     "metadata": {},
     "output_type": "execute_result"
    }
   ],
   "source": [
    "# Clearly a lot of rows since only for toungue column we have 60% of missing.\n",
    "# Lets' check rows excluding the columns with a consistent number of missing (toungue, diametere, body) \n",
    "# To make the code more readable let's make two steps\n",
    "GPD_dataset_subset = GPD_dataset.loc[:, ~GPD_dataset.columns.isin([\"tongue\",\"diameter\",\"body\"])]\n",
    "\n",
    "len(GPD_dataset_subset.isnull().sum(axis=1)[~GPD_dataset_subset.isnull().sum(axis=1).isin([0])])\n"
   ]
  },
  {
   "cell_type": "code",
   "execution_count": 61,
   "metadata": {},
   "outputs": [
    {
     "data": {
      "text/plain": [
       "17"
      ]
     },
     "execution_count": 61,
     "metadata": {},
     "output_type": "execute_result"
    }
   ],
   "source": [
    "# Let's chek how many have more than 1 missing \n",
    "len(GPD_dataset_subset.isnull().sum(axis=1)[~GPD_dataset_subset.isnull().sum(axis=1).isin([0,1])])\n"
   ]
  },
  {
   "cell_type": "markdown",
   "metadata": {},
   "source": [
    "So maybe we can try to make a first clusterization excluding this 17 rows and the 3 problematic columns."
   ]
  },
  {
   "cell_type": "code",
   "execution_count": 10,
   "metadata": {},
   "outputs": [],
   "source": [
    "GPD_dataset_subset = GPD_dataset_subset.drop(GPD_dataset_subset.isnull().sum(axis=1)[~GPD_dataset_subset.isnull().sum(axis=1).isin([0,1])].index)"
   ]
  },
  {
   "cell_type": "code",
   "execution_count": 70,
   "metadata": {},
   "outputs": [
    {
     "data": {
      "text/html": [
       "<div>\n",
       "<style scoped>\n",
       "    .dataframe tbody tr th:only-of-type {\n",
       "        vertical-align: middle;\n",
       "    }\n",
       "\n",
       "    .dataframe tbody tr th {\n",
       "        vertical-align: top;\n",
       "    }\n",
       "\n",
       "    .dataframe thead th {\n",
       "        text-align: right;\n",
       "    }\n",
       "</style>\n",
       "<table border=\"1\" class=\"dataframe\">\n",
       "  <thead>\n",
       "    <tr style=\"text-align: right;\">\n",
       "      <th></th>\n",
       "      <th>Unnamed: 0</th>\n",
       "    </tr>\n",
       "  </thead>\n",
       "  <tbody>\n",
       "    <tr>\n",
       "      <th>count</th>\n",
       "      <td>779.000000</td>\n",
       "    </tr>\n",
       "    <tr>\n",
       "      <th>mean</th>\n",
       "      <td>395.503209</td>\n",
       "    </tr>\n",
       "    <tr>\n",
       "      <th>std</th>\n",
       "      <td>230.662477</td>\n",
       "    </tr>\n",
       "    <tr>\n",
       "      <th>min</th>\n",
       "      <td>1.000000</td>\n",
       "    </tr>\n",
       "    <tr>\n",
       "      <th>25%</th>\n",
       "      <td>195.500000</td>\n",
       "    </tr>\n",
       "    <tr>\n",
       "      <th>50%</th>\n",
       "      <td>392.000000</td>\n",
       "    </tr>\n",
       "    <tr>\n",
       "      <th>75%</th>\n",
       "      <td>594.500000</td>\n",
       "    </tr>\n",
       "    <tr>\n",
       "      <th>max</th>\n",
       "      <td>796.000000</td>\n",
       "    </tr>\n",
       "  </tbody>\n",
       "</table>\n",
       "</div>"
      ],
      "text/plain": [
       "       Unnamed: 0\n",
       "count  779.000000\n",
       "mean   395.503209\n",
       "std    230.662477\n",
       "min      1.000000\n",
       "25%    195.500000\n",
       "50%    392.000000\n",
       "75%    594.500000\n",
       "max    796.000000"
      ]
     },
     "execution_count": 70,
     "metadata": {},
     "output_type": "execute_result"
    }
   ],
   "source": [
    "GPD_dataset_subset.describe()"
   ]
  },
  {
   "cell_type": "code",
   "execution_count": 71,
   "metadata": {},
   "outputs": [
    {
     "data": {
      "text/plain": [
       "<bound method NDFrame.describe of      Unnamed: 0                  crop        type   season      corolla  \\\n",
       "0             1  Vaccinium_corymbosum   arboreous  sprisum  CAMPANULATE   \n",
       "1             2  Vaccinium_corymbosum   arboreous  sprisum  CAMPANULATE   \n",
       "2             3        Brassica_napus  herbaceous   summer         OPEN   \n",
       "3             4        Brassica_napus  herbaceous   summer         OPEN   \n",
       "4             5        Brassica_napus  herbaceous   summer         OPEN   \n",
       "..          ...                   ...         ...      ...          ...   \n",
       "791         792      Allium_oleraceum  herbaceous   summer  CAMPANULATE   \n",
       "792         793       Jatropha_curcas   arboreous  spriaut         OPEN   \n",
       "793         794       Malus_domestica   arboreous   spring         OPEN   \n",
       "794         795   Phaseolus_coccineus  herbaceous   summer         OPEN   \n",
       "795         796      Capparis_spinosa   arboreous   summer         OPEN   \n",
       "\n",
       "     colour nectar      b.system s.pollination inflorescence composite  \\\n",
       "0     white    yes       insects            no           yes        no   \n",
       "1     white    yes       insects            no           yes        no   \n",
       "2    yellow    yes  wind/insects            no           yes        no   \n",
       "3    yellow    yes  wind/insects            no           yes        no   \n",
       "4    yellow    yes  wind/insects            no           yes        no   \n",
       "..      ...    ...           ...           ...           ...       ...   \n",
       "791  purple    yes       insects            no           yes        no   \n",
       "792   green    yes       insects            no           yes        no   \n",
       "793   white    yes       insects            no           yes        no   \n",
       "794   white    yes       insects            no           yes        no   \n",
       "795   white    yes       insects            no      solitary        no   \n",
       "\n",
       "                     visitor       guild sociality      feeding  \n",
       "0           Andrena_wilkella  ANDRENIDAE        no  oligolectic  \n",
       "1        Andrena_barbilabris  ANDRENIDAE        no   polylectic  \n",
       "2          Andrena_cineraria  ANDRENIDAE        no   polylectic  \n",
       "3           Andrena_flavipes  ANDRENIDAE        no   polylectic  \n",
       "4            Andrena_gravida  ANDRENIDAE        no   polylectic  \n",
       "..                       ...         ...       ...          ...  \n",
       "791  Dolichovespula_saxonica       WASPS       yes   polylectic  \n",
       "792       Bembecinus_tridens       WASPS        no          NaN  \n",
       "793         Vespula_vulgaris       WASPS       yes   polylectic  \n",
       "794    Philanthus_triangulum       WASPS        no   polylectic  \n",
       "795       Bembecinus_tridens       WASPS        no          NaN  \n",
       "\n",
       "[779 rows x 15 columns]>"
      ]
     },
     "execution_count": 71,
     "metadata": {},
     "output_type": "execute_result"
    }
   ],
   "source": [
    "GPD_dataset_subset.describe"
   ]
  },
  {
   "cell_type": "code",
   "execution_count": 72,
   "metadata": {},
   "outputs": [
    {
     "data": {
      "text/plain": [
       "Unnamed: 0       0.000000\n",
       "crop             0.000000\n",
       "type             0.000000\n",
       "season           2.952503\n",
       "corolla          0.000000\n",
       "colour           0.641849\n",
       "nectar           2.824134\n",
       "b.system         0.000000\n",
       "s.pollination    0.000000\n",
       "inflorescence    0.000000\n",
       "composite        0.000000\n",
       "visitor          0.000000\n",
       "guild            0.000000\n",
       "sociality        3.209243\n",
       "feeding          5.134788\n",
       "dtype: float64"
      ]
     },
     "execution_count": 72,
     "metadata": {},
     "output_type": "execute_result"
    }
   ],
   "source": [
    "# Percentage of missing values per column\n",
    "GPD_dataset_subset.isnull().sum()/len(GPD_dataset_subset)*100"
   ]
  },
  {
   "cell_type": "markdown",
   "metadata": {},
   "source": [
    "We have no way to infer the values of blooming season, flowers colour, nectar presence, sociality or feeding (I mean no way before the analysis of the dataset and the application of ML algorithms). So for the moment let's add a fixed value \"undefined\" for the missing."
   ]
  },
  {
   "cell_type": "code",
   "execution_count": 11,
   "metadata": {},
   "outputs": [],
   "source": [
    "imput_undefinded = SimpleImputer(strategy = 'constant', fill_value = 'undefined')\n",
    "GPD_dataset_subset_0missing_array = imput_undefinded.fit_transform(GPD_dataset_subset)\n",
    "# Note that SimpleImputer returns a numpy array"
   ]
  },
  {
   "cell_type": "code",
   "execution_count": 12,
   "metadata": {},
   "outputs": [],
   "source": [
    "GPD_dataset_subset_0NaN = pd.DataFrame(GPD_dataset_subset_0missing_array, columns = GPD_dataset_subset.columns) "
   ]
  },
  {
   "cell_type": "code",
   "execution_count": 13,
   "metadata": {},
   "outputs": [
    {
     "data": {
      "text/plain": [
       "Unnamed: 0       0\n",
       "crop             0\n",
       "type             0\n",
       "season           0\n",
       "corolla          0\n",
       "colour           0\n",
       "nectar           0\n",
       "b.system         0\n",
       "s.pollination    0\n",
       "inflorescence    0\n",
       "composite        0\n",
       "visitor          0\n",
       "guild            0\n",
       "sociality        0\n",
       "feeding          0\n",
       "dtype: int64"
      ]
     },
     "execution_count": 13,
     "metadata": {},
     "output_type": "execute_result"
    }
   ],
   "source": [
    "GPD_dataset_subset_0NaN.isnull().sum()"
   ]
  },
  {
   "cell_type": "markdown",
   "metadata": {},
   "source": [
    "Let's save the new dataset "
   ]
  },
  {
   "cell_type": "code",
   "execution_count": 14,
   "metadata": {},
   "outputs": [],
   "source": [
    "GPD_dataset_subset_0NaN.to_pickle(GPD_F_dataset_directory+\"GPD_F_subset_0NaN.pkl\")"
   ]
  },
  {
   "cell_type": "markdown",
   "metadata": {},
   "source": [
    "## GPD-F - Post missing cleaning - Starting point"
   ]
  },
  {
   "cell_type": "code",
   "execution_count": 15,
   "metadata": {},
   "outputs": [],
   "source": [
    "GPD_dataset_subset_0NaN = pd.read_pickle(GPD_F_dataset_directory+\"GPD_F_subset_0NaN.pkl\")"
   ]
  },
  {
   "cell_type": "code",
   "execution_count": 16,
   "metadata": {},
   "outputs": [
    {
     "data": {
      "text/plain": [
       "<bound method NDFrame.describe of     Unnamed: 0                  crop        type   season      corolla  \\\n",
       "0            1  Vaccinium_corymbosum   arboreous  sprisum  CAMPANULATE   \n",
       "1            2  Vaccinium_corymbosum   arboreous  sprisum  CAMPANULATE   \n",
       "2            3        Brassica_napus  herbaceous   summer         OPEN   \n",
       "3            4        Brassica_napus  herbaceous   summer         OPEN   \n",
       "4            5        Brassica_napus  herbaceous   summer         OPEN   \n",
       "..         ...                   ...         ...      ...          ...   \n",
       "774        792      Allium_oleraceum  herbaceous   summer  CAMPANULATE   \n",
       "775        793       Jatropha_curcas   arboreous  spriaut         OPEN   \n",
       "776        794       Malus_domestica   arboreous   spring         OPEN   \n",
       "777        795   Phaseolus_coccineus  herbaceous   summer         OPEN   \n",
       "778        796      Capparis_spinosa   arboreous   summer         OPEN   \n",
       "\n",
       "     colour nectar      b.system s.pollination inflorescence composite  \\\n",
       "0     white    yes       insects            no           yes        no   \n",
       "1     white    yes       insects            no           yes        no   \n",
       "2    yellow    yes  wind/insects            no           yes        no   \n",
       "3    yellow    yes  wind/insects            no           yes        no   \n",
       "4    yellow    yes  wind/insects            no           yes        no   \n",
       "..      ...    ...           ...           ...           ...       ...   \n",
       "774  purple    yes       insects            no           yes        no   \n",
       "775   green    yes       insects            no           yes        no   \n",
       "776   white    yes       insects            no           yes        no   \n",
       "777   white    yes       insects            no           yes        no   \n",
       "778   white    yes       insects            no      solitary        no   \n",
       "\n",
       "                     visitor       guild sociality      feeding  \n",
       "0           Andrena_wilkella  ANDRENIDAE        no  oligolectic  \n",
       "1        Andrena_barbilabris  ANDRENIDAE        no   polylectic  \n",
       "2          Andrena_cineraria  ANDRENIDAE        no   polylectic  \n",
       "3           Andrena_flavipes  ANDRENIDAE        no   polylectic  \n",
       "4            Andrena_gravida  ANDRENIDAE        no   polylectic  \n",
       "..                       ...         ...       ...          ...  \n",
       "774  Dolichovespula_saxonica       WASPS       yes   polylectic  \n",
       "775       Bembecinus_tridens       WASPS        no    undefined  \n",
       "776         Vespula_vulgaris       WASPS       yes   polylectic  \n",
       "777    Philanthus_triangulum       WASPS        no   polylectic  \n",
       "778       Bembecinus_tridens       WASPS        no    undefined  \n",
       "\n",
       "[779 rows x 15 columns]>"
      ]
     },
     "execution_count": 16,
     "metadata": {},
     "output_type": "execute_result"
    }
   ],
   "source": [
    "GPD_dataset_subset_0NaN.describe"
   ]
  },
  {
   "cell_type": "code",
   "execution_count": 17,
   "metadata": {},
   "outputs": [
    {
     "data": {
      "text/plain": [
       "Unnamed: 0       0\n",
       "crop             0\n",
       "type             0\n",
       "season           0\n",
       "corolla          0\n",
       "colour           0\n",
       "nectar           0\n",
       "b.system         0\n",
       "s.pollination    0\n",
       "inflorescence    0\n",
       "composite        0\n",
       "visitor          0\n",
       "guild            0\n",
       "sociality        0\n",
       "feeding          0\n",
       "dtype: int64"
      ]
     },
     "execution_count": 17,
     "metadata": {},
     "output_type": "execute_result"
    }
   ],
   "source": [
    "GPD_dataset_subset_0NaN.isnull().sum()"
   ]
  },
  {
   "cell_type": "markdown",
   "metadata": {},
   "source": [
    "Most of the columns are categorical, let's check if we have also some numerical data"
   ]
  },
  {
   "cell_type": "code",
   "execution_count": 44,
   "metadata": {},
   "outputs": [],
   "source": [
    "for index, column in enumerate(GPD_dataset_subset_0NaN.columns.tolist()[1:]):\n",
    "    if str(GPD_dataset_subset_0NaN.iloc[1,index+1]).isnumeric():\n",
    "        print(column)\n",
    "        "
   ]
  },
  {
   "cell_type": "markdown",
   "metadata": {},
   "source": [
    "So we have only categorical data.\n"
   ]
  },
  {
   "cell_type": "code",
   "execution_count": 61,
   "metadata": {},
   "outputs": [
    {
     "data": {
      "text/plain": [
       "Unnamed: 0       object\n",
       "crop             object\n",
       "type             object\n",
       "season           object\n",
       "corolla          object\n",
       "colour           object\n",
       "nectar           object\n",
       "b.system         object\n",
       "s.pollination    object\n",
       "inflorescence    object\n",
       "composite        object\n",
       "visitor          object\n",
       "guild            object\n",
       "sociality        object\n",
       "feeding          object\n",
       "dtype: object"
      ]
     },
     "execution_count": 61,
     "metadata": {},
     "output_type": "execute_result"
    }
   ],
   "source": [
    "GPD_dataset_subset_0NaN.dtypes"
   ]
  },
  {
   "cell_type": "markdown",
   "metadata": {},
   "source": [
    "But actually are stored as mixed columns values, so let's remove first column wich we are not interested in and convert all the others column in categorical pandas's data type"
   ]
  },
  {
   "cell_type": "code",
   "execution_count": 62,
   "metadata": {},
   "outputs": [],
   "source": [
    "GPD_dataset_subset2_0NaN = GPD_dataset_subset_0NaN.iloc[:,1:]"
   ]
  },
  {
   "cell_type": "code",
   "execution_count": 65,
   "metadata": {},
   "outputs": [
    {
     "ename": "SyntaxError",
     "evalue": "invalid syntax (3284353285.py, line 2)",
     "output_type": "error",
     "traceback": [
      "\u001b[0;36m  Input \u001b[0;32mIn [65]\u001b[0;36m\u001b[0m\n\u001b[0;31m    GPD_dataset_subset2_0NaN.loc[,column] = GPD_dataset_subset2_0NaN.loc[,column].astype('category')\u001b[0m\n\u001b[0m                                 ^\u001b[0m\n\u001b[0;31mSyntaxError\u001b[0m\u001b[0;31m:\u001b[0m invalid syntax\n"
     ]
    }
   ],
   "source": [
    "for column in GPD_dataset_subset2_0NaN.columns.tolist():\n",
    "    GPD_dataset_subset2_0NaN[column] = GPD_dataset_subset2_0NaN.loc[column].astype('category')"
   ]
  },
  {
   "cell_type": "code",
   "execution_count": 67,
   "metadata": {},
   "outputs": [
    {
     "data": {
      "text/plain": [
       "crop             category\n",
       "type             category\n",
       "season           category\n",
       "corolla          category\n",
       "colour           category\n",
       "nectar           category\n",
       "b.system         category\n",
       "s.pollination    category\n",
       "inflorescence    category\n",
       "composite        category\n",
       "visitor          category\n",
       "guild            category\n",
       "sociality        category\n",
       "feeding          category\n",
       "dtype: object"
      ]
     },
     "execution_count": 67,
     "metadata": {},
     "output_type": "execute_result"
    }
   ],
   "source": [
    "GPD_dataset_subset2_0NaN.dtypes"
   ]
  },
  {
   "cell_type": "code",
   "execution_count": 66,
   "metadata": {},
   "outputs": [
    {
     "data": {
      "text/plain": [
       "<bound method NDFrame.describe of                      crop        type   season      corolla  colour nectar  \\\n",
       "0    Vaccinium_corymbosum   arboreous  sprisum  CAMPANULATE   white    yes   \n",
       "1    Vaccinium_corymbosum   arboreous  sprisum  CAMPANULATE   white    yes   \n",
       "2          Brassica_napus  herbaceous   summer         OPEN  yellow    yes   \n",
       "3          Brassica_napus  herbaceous   summer         OPEN  yellow    yes   \n",
       "4          Brassica_napus  herbaceous   summer         OPEN  yellow    yes   \n",
       "..                    ...         ...      ...          ...     ...    ...   \n",
       "774      Allium_oleraceum  herbaceous   summer  CAMPANULATE  purple    yes   \n",
       "775       Jatropha_curcas   arboreous  spriaut         OPEN   green    yes   \n",
       "776       Malus_domestica   arboreous   spring         OPEN   white    yes   \n",
       "777   Phaseolus_coccineus  herbaceous   summer         OPEN   white    yes   \n",
       "778      Capparis_spinosa   arboreous   summer         OPEN   white    yes   \n",
       "\n",
       "         b.system s.pollination inflorescence composite  \\\n",
       "0         insects            no           yes        no   \n",
       "1         insects            no           yes        no   \n",
       "2    wind/insects            no           yes        no   \n",
       "3    wind/insects            no           yes        no   \n",
       "4    wind/insects            no           yes        no   \n",
       "..            ...           ...           ...       ...   \n",
       "774       insects            no           yes        no   \n",
       "775       insects            no           yes        no   \n",
       "776       insects            no           yes        no   \n",
       "777       insects            no           yes        no   \n",
       "778       insects            no      solitary        no   \n",
       "\n",
       "                     visitor       guild sociality      feeding  \n",
       "0           Andrena_wilkella  ANDRENIDAE        no  oligolectic  \n",
       "1        Andrena_barbilabris  ANDRENIDAE        no   polylectic  \n",
       "2          Andrena_cineraria  ANDRENIDAE        no   polylectic  \n",
       "3           Andrena_flavipes  ANDRENIDAE        no   polylectic  \n",
       "4            Andrena_gravida  ANDRENIDAE        no   polylectic  \n",
       "..                       ...         ...       ...          ...  \n",
       "774  Dolichovespula_saxonica       WASPS       yes   polylectic  \n",
       "775       Bembecinus_tridens       WASPS        no    undefined  \n",
       "776         Vespula_vulgaris       WASPS       yes   polylectic  \n",
       "777    Philanthus_triangulum       WASPS        no   polylectic  \n",
       "778       Bembecinus_tridens       WASPS        no    undefined  \n",
       "\n",
       "[779 rows x 14 columns]>"
      ]
     },
     "execution_count": 66,
     "metadata": {},
     "output_type": "execute_result"
    }
   ],
   "source": [
    "GPD_dataset_subset2_0NaN.describe"
   ]
  },
  {
   "cell_type": "code",
   "execution_count": 68,
   "metadata": {},
   "outputs": [
    {
     "data": {
      "image/png": "[encoded data removed]",
      "text/plain": [
       "<Figure size 432x288 with 1 Axes>"
      ]
     },
     "metadata": {
      "needs_background": "light"
     },
     "output_type": "display_data"
    },
    {
     "data": {
      "image/png": "[encoded data removed]",
      "text/plain": [
       "<Figure size 432x288 with 1 Axes>"
      ]
     },
     "metadata": {
      "needs_background": "light"
     },
     "output_type": "display_data"
    },
    {
     "data": {
      "image/png": "[encoded data removed]",
      "text/plain": [
       "<Figure size 432x288 with 1 Axes>"
      ]
     },
     "metadata": {
      "needs_background": "light"
     },
     "output_type": "display_data"
    },
    {
     "data": {
      "image/png": "[encoded data removed]",
      "text/plain": [
       "<Figure size 432x288 with 1 Axes>"
      ]
     },
     "metadata": {
      "needs_background": "light"
     },
     "output_type": "display_data"
    },
    {
     "data": {
      "image/png": "[encoded data removed]",
      "text/plain": [
       "<Figure size 432x288 with 1 Axes>"
      ]
     },
     "metadata": {
      "needs_background": "light"
     },
     "output_type": "display_data"
    },
    {
     "data": {
      "image/png": "[encoded data removed]",
      "text/plain": [
       "<Figure size 432x288 with 1 Axes>"
      ]
     },
     "metadata": {
      "needs_background": "light"
     },
     "output_type": "display_data"
    },
    {
     "data": {
      "image/png": "[encoded data removed]",
      "text/plain": [
       "<Figure size 432x288 with 1 Axes>"
      ]
     },
     "metadata": {
      "needs_background": "light"
     },
     "output_type": "display_data"
    },
    {
     "data": {
      "image/png": "[encoded data removed]",
      "text/plain": [
       "<Figure size 432x288 with 1 Axes>"
      ]
     },
     "metadata": {
      "needs_background": "light"
     },
     "output_type": "display_data"
    },
    {
     "data": {
      "image/png": "[encoded data removed]",
      "text/plain": [
       "<Figure size 432x288 with 1 Axes>"
      ]
     },
     "metadata": {
      "needs_background": "light"
     },
     "output_type": "display_data"
    },
    {
     "data": {
      "image/png": "[encoded data removed]",
      "text/plain": [
       "<Figure size 432x288 with 1 Axes>"
      ]
     },
     "metadata": {
      "needs_background": "light"
     },
     "output_type": "display_data"
    },
    {
     "data": {
      "image/png": "[encoded data removed]",
      "text/plain": [
       "<Figure size 432x288 with 1 Axes>"
      ]
     },
     "metadata": {
      "needs_background": "light"
     },
     "output_type": "display_data"
    },
    {
     "data": {
      "image/png": "[encoded data removed]",
      "text/plain": [
       "<Figure size 432x288 with 1 Axes>"
      ]
     },
     "metadata": {
      "needs_background": "light"
     },
     "output_type": "display_data"
    },
    {
     "data": {
      "image/png": "[encoded data removed]",
      "text/plain": [
       "<Figure size 432x288 with 1 Axes>"
      ]
     },
     "metadata": {
      "needs_background": "light"
     },
     "output_type": "display_data"
    },
    {
     "data": {
      "image/png": "[encoded data removed]",
      "text/plain": [
       "<Figure size 432x288 with 1 Axes>"
      ]
     },
     "metadata": {
      "needs_background": "light"
     },
     "output_type": "display_data"
    }
   ],
   "source": [
    "for column in GPD_dataset_subset2_0NaN.columns.tolist():\n",
    "    plt.pyplot.figure()\n",
    "    plt.pyplot.title(column)\n",
    "    GPD_dataset_subset2_0NaN[column].value_counts().plot(kind = 'bar')\n"
   ]
  },
  {
   "cell_type": "markdown",
   "metadata": {},
   "source": [
    "We can use Cramer's V correlation value to present a heatmap of correlation between these categorical variables. \n",
    "\n",
    "Unfortunately this metric seems a bit biased for \"large\" number of variables ( [Bergsma, Wicher. (2013). A bias-correction for Cramér's V and Tschuprow's T. Journal of the Korean Statistical Society. 42. 10.1016/j.jkss.2012.10.002.'](http://dx.doi.org/10.1016/j.jkss.2012.10.002]) ). \n",
    "\n",
    "For the moment let's apply Cramer's V in a future we will improve the implementation with the bias correction."
   ]
  },
  {
   "cell_type": "code",
   "execution_count": 69,
   "metadata": {},
   "outputs": [],
   "source": [
    "CramersV_GPD_subset_object = am.CramersV(GPD_dataset_subset2_0NaN)"
   ]
  },
  {
   "cell_type": "code",
   "execution_count": 70,
   "metadata": {},
   "outputs": [],
   "source": [
    "CramersV_GPD_subset_matrix = CramersV_GPD_subset_object.fit()"
   ]
  },
  {
   "cell_type": "code",
   "execution_count": 71,
   "metadata": {},
   "outputs": [
    {
     "data": {
      "text/plain": [
       "<AxesSubplot:>"
      ]
     },
     "execution_count": 71,
     "metadata": {},
     "output_type": "execute_result"
    },
    {
     "data": {
      "image/png": "[encoded data removed]",
      "text/plain": [
       "<Figure size 432x288 with 2 Axes>"
      ]
     },
     "metadata": {
      "needs_background": "light"
     },
     "output_type": "display_data"
    }
   ],
   "source": [
    "sb.heatmap(CramersV_GPD_subset_matrix)"
   ]
  },
  {
   "cell_type": "markdown",
   "metadata": {},
   "source": [
    "As we could expect whe have an evident separation of correlation between plants and bees where the crop is higly coreelated with the information about the plants charateristics; the guild is higly related with the pollintators charateristics and the \"visitor\" variable is the link between the two groups."
   ]
  },
  {
   "cell_type": "markdown",
   "metadata": {},
   "source": [
    "Let's focus on the two groups"
   ]
  },
  {
   "cell_type": "code",
   "execution_count": 89,
   "metadata": {},
   "outputs": [
    {
     "data": {
      "text/plain": [
       "<AxesSubplot:>"
      ]
     },
     "execution_count": 89,
     "metadata": {},
     "output_type": "execute_result"
    },
    {
     "data": {
      "image/png": "[encoded data removed]",
      "text/plain": [
       "<Figure size 432x288 with 2 Axes>"
      ]
     },
     "metadata": {
      "needs_background": "light"
     },
     "output_type": "display_data"
    }
   ],
   "source": [
    "sb.heatmap(CramersV_GPD_subset_matrix.iloc[:11,:11]*10, annot=True)\n",
    "# since we know that values are betwee 0 and 1 we multply for 10 to avoid most of unusefull \"0.\" "
   ]
  },
  {
   "cell_type": "markdown",
   "metadata": {},
   "source": [
    "We can see that type (arboreous or heraceous) seems higly related to the flower colour and also quite related with the season.\n",
    "\n",
    "The bloom system (bytheway from the values seems more a \"pollination type\") seems higly related with the flower season. Despite that, the bloom system seems not related with the flower colour and the plant type.\n"
   ]
  },
  {
   "cell_type": "code",
   "execution_count": 92,
   "metadata": {},
   "outputs": [
    {
     "data": {
      "text/plain": [
       "<AxesSubplot:>"
      ]
     },
     "execution_count": 92,
     "metadata": {},
     "output_type": "execute_result"
    },
    {
     "data": {
      "image/png": "[encoded data removed]",
      "text/plain": [
       "<Figure size 432x288 with 2 Axes>"
      ]
     },
     "metadata": {
      "needs_background": "light"
     },
     "output_type": "display_data"
    }
   ],
   "source": [
    "sb.heatmap(CramersV_GPD_subset_matrix.iloc[10:,10:]*10, annot=True)\n"
   ]
  },
  {
   "cell_type": "markdown",
   "metadata": {},
   "source": [
    "Quite self-explanatory"
   ]
  }
 ],
 "metadata": {
  "kernelspec": {
   "display_name": "Python 3 (ipykernel)",
   "language": "python",
   "name": "python3"
  },
  "language_info": {
   "codemirror_mode": {
    "name": "ipython",
    "version": 3
   },
   "file_extension": ".py",
   "mimetype": "text/x-python",
   "name": "python",
   "nbconvert_exporter": "python",
   "pygments_lexer": "ipython3",
   "version": "3.8.10"
  }
 },
 "nbformat": 4,
 "nbformat_minor": 4
}
