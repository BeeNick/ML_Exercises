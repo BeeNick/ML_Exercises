{
 "cells": [
  {
   "cell_type": "markdown",
   "metadata": {},
   "source": [
    "# Exercises - UCI Iris Dataset - Classification"
   ]
  },
  {
   "cell_type": "markdown",
   "metadata": {},
   "source": [
    "Exercises with UCI Iris Dataset.\n",
    "\n",
    "Original page [https://archive.ics.uci.edu/ml/datasets/iris](https://archive.ics.uci.edu/ml/datasets/iris)\n",
    "\n",
    "New beta version UCI website [https://archive-beta.ics.uci.edu/ml/datasets/iris](https://archive-beta.ics.uci.edu/ml/datasets/iris)"
   ]
  },
  {
   "cell_type": "markdown",
   "metadata": {},
   "source": [
    "## Packages import"
   ]
  },
  {
   "cell_type": "code",
   "execution_count": 5,
   "metadata": {
    "_cell_guid": "b1076dfc-b9ad-4769-8c92-a6c4dae69d19",
    "_uuid": "8f2839f25d086af736a60e9eeb907d3b93b6e0e5",
    "execution": {
     "iopub.execute_input": "2022-03-03T09:38:07.550649Z",
     "iopub.status.busy": "2022-03-03T09:38:07.550113Z",
     "iopub.status.idle": "2022-03-03T09:38:08.579257Z",
     "shell.execute_reply": "2022-03-03T09:38:08.577322Z",
     "shell.execute_reply.started": "2022-03-03T09:38:07.550550Z"
    }
   },
   "outputs": [],
   "source": [
    "import requests # web requests\n",
    "import numpy as np # linear algebra\n",
    "import pandas as pd # data processing, CSV file I/O (e.g. pd.read_csv)\n",
    "import matplotlib as plt # data visualization\n",
    "import seaborn as sb # data visualization\n",
    "from sklearn.model_selection import StratifiedShuffleSplit # dataset subsetting \n",
    "from sklearn.preprocessing import StandardScaler  \n",
    "from sklearn.preprocessing import LabelEncoder # mange categorical data\n",
    "from sklearn.linear_model import LogisticRegression\n",
    "from sklearn import metrics # results evaluation\n"
   ]
  },
  {
   "cell_type": "markdown",
   "metadata": {},
   "source": [
    "# Data preprocessing and exploration"
   ]
  },
  {
   "cell_type": "markdown",
   "metadata": {},
   "source": [
    "## Data import - (One shoot execution)"
   ]
  },
  {
   "cell_type": "markdown",
   "metadata": {},
   "source": [
    "Let's use the original website.\n",
    "\n",
    "Next steps are \"one shoot execution\", you should execute it only the first time, once did it you can go directly to *Starting points* that youll'find along the code.\n",
    "\n",
    "First we want to make a web request to download the dataset description and save it locally."
   ]
  },
  {
   "cell_type": "code",
   "execution_count": 5,
   "metadata": {
    "scrolled": true
   },
   "outputs": [],
   "source": [
    "# Dataset description url\n",
    "description_url = 'https://archive.ics.uci.edu/ml/machine-learning-databases/iris/iris.names'\n",
    "\n",
    "requestDatasetDescription = requests.get(description_url, allow_redirects=True)\n",
    "if requestDescriptionRequest.status_code != 200:\n",
    "    print(f\"Request status: {requestDatasetDescription.status_code}\")\n",
    "else:\n",
    "    open('Datasets/Iris/Py_IrisDatasetDescription.txt', 'wb').write(requestDatasetDescription.content)\n"
   ]
  },
  {
   "cell_type": "code",
   "execution_count": 6,
   "metadata": {},
   "outputs": [],
   "source": [
    "# Read the dataset description\n",
    "DatasetDescription = open('Datasets/Iris/Py_IrisDatasetDescription.txt', 'r') "
   ]
  },
  {
   "cell_type": "code",
   "execution_count": 7,
   "metadata": {},
   "outputs": [
    {
     "name": "stdout",
     "output_type": "stream",
     "text": [
      "1. Title: Iris Plants Database\n",
      "\tUpdated Sept 21 by C.Blake - Added discrepency information\n",
      "\n",
      "2. Sources:\n",
      "     (a) Creator: R.A. Fisher\n",
      "     (b) Donor: Michael Marshall (MARSHALL%PLU@io.arc.nasa.gov)\n",
      "     (c) Date: July, 1988\n",
      "\n",
      "3. Past Usage:\n",
      "   - Publications: too many to mention!!!  Here are a few.\n",
      "   1. Fisher,R.A. \"The use of multiple measurements in taxonomic problems\"\n",
      "      Annual Eugenics, 7, Part II, 179-188 (1936); also in \"Contributions\n",
      "      to Mathematical Statistics\" (John Wiley, NY, 1950).\n",
      "   2. Duda,R.O., & Hart,P.E. (1973) Pattern Classification and Scene Analysis.\n",
      "      (Q327.D83) John Wiley & Sons.  ISBN 0-471-22361-1.  See page 218.\n",
      "   3. Dasarathy, B.V. (1980) \"Nosing Around the Neighborhood: A New System\n",
      "      Structure and Classification Rule for Recognition in Partially Exposed\n",
      "      Environments\".  IEEE Transactions on Pattern Analysis and Machine\n",
      "      Intelligence, Vol. PAMI-2, No. 1, 67-71.\n",
      "      -- Results:\n",
      "         -- very low misclassification rates (0% for the setosa class)\n",
      "   4. Gates, G.W. (1972) \"The Reduced Nearest Neighbor Rule\".  IEEE \n",
      "      Transactions on Information Theory, May 1972, 431-433.\n",
      "      -- Results:\n",
      "         -- very low misclassification rates again\n",
      "   5. See also: 1988 MLC Proceedings, 54-64.  Cheeseman et al's AUTOCLASS II\n",
      "      conceptual clustering system finds 3 classes in the data.\n",
      "\n",
      "4. Relevant Information:\n",
      "   --- This is perhaps the best known database to be found in the pattern\n",
      "       recognition literature.  Fisher's paper is a classic in the field\n",
      "       and is referenced frequently to this day.  (See Duda & Hart, for\n",
      "       example.)  The data set contains 3 classes of 50 instances each,\n",
      "       where each class refers to a type of iris plant.  One class is\n",
      "       linearly separable from the other 2; the latter are NOT linearly\n",
      "       separable from each other.\n",
      "   --- Predicted attribute: class of iris plant.\n",
      "   --- This is an exceedingly simple domain.\n",
      "   --- This data differs from the data presented in Fishers article\n",
      "\t(identified by Steve Chadwick,  spchadwick@espeedaz.net )\n",
      "\tThe 35th sample should be: 4.9,3.1,1.5,0.2,\"Iris-setosa\"\n",
      "\twhere the error is in the fourth feature.\n",
      "\tThe 38th sample: 4.9,3.6,1.4,0.1,\"Iris-setosa\"\n",
      "\twhere the errors are in the second and third features.  \n",
      "\n",
      "5. Number of Instances: 150 (50 in each of three classes)\n",
      "\n",
      "6. Number of Attributes: 4 numeric, predictive attributes and the class\n",
      "\n",
      "7. Attribute Information:\n",
      "   1. sepal length in cm\n",
      "   2. sepal width in cm\n",
      "   3. petal length in cm\n",
      "   4. petal width in cm\n",
      "   5. class: \n",
      "      -- Iris Setosa\n",
      "      -- Iris Versicolour\n",
      "      -- Iris Virginica\n",
      "\n",
      "8. Missing Attribute Values: None\n",
      "\n",
      "Summary Statistics:\n",
      "\t         Min  Max   Mean    SD   Class Correlation\n",
      "   sepal length: 4.3  7.9   5.84  0.83    0.7826   \n",
      "    sepal width: 2.0  4.4   3.05  0.43   -0.4194\n",
      "   petal length: 1.0  6.9   3.76  1.76    0.9490  (high!)\n",
      "    petal width: 0.1  2.5   1.20  0.76    0.9565  (high!)\n",
      "\n",
      "9. Class Distribution: 33.3% for each of 3 classes.\n",
      "\n"
     ]
    }
   ],
   "source": [
    "print(DatasetDescription.read())"
   ]
  },
  {
   "cell_type": "markdown",
   "metadata": {},
   "source": [
    "Let's import the dataset directly with *pandas* and save it in a comfortable python format"
   ]
  },
  {
   "cell_type": "code",
   "execution_count": 9,
   "metadata": {},
   "outputs": [],
   "source": [
    "IrisDF = pd.read_csv('https://archive.ics.uci.edu/ml/machine-learning-databases/iris/iris.data', header=None)\n",
    "\n",
    "IrisDF.to_pickle(\"Datasets/Iris/IrisDF.pkl\")"
   ]
  },
  {
   "cell_type": "markdown",
   "metadata": {},
   "source": [
    "## Starting point - read data\n",
    "\n",
    "Once downloaded the dataset the first time, you can restart from here reading the saved pandas DF object"
   ]
  },
  {
   "cell_type": "code",
   "execution_count": 2,
   "metadata": {
    "execution": {
     "iopub.execute_input": "2022-03-03T09:38:08.581427Z",
     "iopub.status.busy": "2022-03-03T09:38:08.581195Z",
     "iopub.status.idle": "2022-03-03T09:38:08.602012Z",
     "shell.execute_reply": "2022-03-03T09:38:08.601392Z",
     "shell.execute_reply.started": "2022-03-03T09:38:08.581399Z"
    }
   },
   "outputs": [
    {
     "data": {
      "text/plain": [
       "pandas.core.frame.DataFrame"
      ]
     },
     "execution_count": 2,
     "metadata": {},
     "output_type": "execute_result"
    }
   ],
   "source": [
    "IrisDF = pd.read_pickle(\"Datasets/Iris/IrisDF.pkl\") \n",
    "type(IrisDF)"
   ]
  },
  {
   "cell_type": "markdown",
   "metadata": {},
   "source": [
    "## Data exploration"
   ]
  },
  {
   "cell_type": "code",
   "execution_count": 3,
   "metadata": {
    "execution": {
     "iopub.execute_input": "2022-03-03T09:38:08.603868Z",
     "iopub.status.busy": "2022-03-03T09:38:08.603055Z",
     "iopub.status.idle": "2022-03-03T09:38:08.627129Z",
     "shell.execute_reply": "2022-03-03T09:38:08.626125Z",
     "shell.execute_reply.started": "2022-03-03T09:38:08.603826Z"
    }
   },
   "outputs": [
    {
     "name": "stdout",
     "output_type": "stream",
     "text": [
      "(150, 5)\n"
     ]
    },
    {
     "data": {
      "text/html": [
       "<div>\n",
       "<style scoped>\n",
       "    .dataframe tbody tr th:only-of-type {\n",
       "        vertical-align: middle;\n",
       "    }\n",
       "\n",
       "    .dataframe tbody tr th {\n",
       "        vertical-align: top;\n",
       "    }\n",
       "\n",
       "    .dataframe thead th {\n",
       "        text-align: right;\n",
       "    }\n",
       "</style>\n",
       "<table border=\"1\" class=\"dataframe\">\n",
       "  <thead>\n",
       "    <tr style=\"text-align: right;\">\n",
       "      <th></th>\n",
       "      <th>0</th>\n",
       "      <th>1</th>\n",
       "      <th>2</th>\n",
       "      <th>3</th>\n",
       "      <th>4</th>\n",
       "    </tr>\n",
       "  </thead>\n",
       "  <tbody>\n",
       "    <tr>\n",
       "      <th>0</th>\n",
       "      <td>5.1</td>\n",
       "      <td>3.5</td>\n",
       "      <td>1.4</td>\n",
       "      <td>0.2</td>\n",
       "      <td>Iris-setosa</td>\n",
       "    </tr>\n",
       "    <tr>\n",
       "      <th>1</th>\n",
       "      <td>4.9</td>\n",
       "      <td>3.0</td>\n",
       "      <td>1.4</td>\n",
       "      <td>0.2</td>\n",
       "      <td>Iris-setosa</td>\n",
       "    </tr>\n",
       "    <tr>\n",
       "      <th>2</th>\n",
       "      <td>4.7</td>\n",
       "      <td>3.2</td>\n",
       "      <td>1.3</td>\n",
       "      <td>0.2</td>\n",
       "      <td>Iris-setosa</td>\n",
       "    </tr>\n",
       "    <tr>\n",
       "      <th>3</th>\n",
       "      <td>4.6</td>\n",
       "      <td>3.1</td>\n",
       "      <td>1.5</td>\n",
       "      <td>0.2</td>\n",
       "      <td>Iris-setosa</td>\n",
       "    </tr>\n",
       "    <tr>\n",
       "      <th>4</th>\n",
       "      <td>5.0</td>\n",
       "      <td>3.6</td>\n",
       "      <td>1.4</td>\n",
       "      <td>0.2</td>\n",
       "      <td>Iris-setosa</td>\n",
       "    </tr>\n",
       "  </tbody>\n",
       "</table>\n",
       "</div>"
      ],
      "text/plain": [
       "     0    1    2    3            4\n",
       "0  5.1  3.5  1.4  0.2  Iris-setosa\n",
       "1  4.9  3.0  1.4  0.2  Iris-setosa\n",
       "2  4.7  3.2  1.3  0.2  Iris-setosa\n",
       "3  4.6  3.1  1.5  0.2  Iris-setosa\n",
       "4  5.0  3.6  1.4  0.2  Iris-setosa"
      ]
     },
     "execution_count": 3,
     "metadata": {},
     "output_type": "execute_result"
    }
   ],
   "source": [
    "print(IrisDF.shape)\n",
    "IrisDF.head()"
   ]
  },
  {
   "cell_type": "code",
   "execution_count": 5,
   "metadata": {
    "execution": {
     "iopub.execute_input": "2022-03-03T09:38:08.630448Z",
     "iopub.status.busy": "2022-03-03T09:38:08.629474Z",
     "iopub.status.idle": "2022-03-03T09:38:08.661594Z",
     "shell.execute_reply": "2022-03-03T09:38:08.660841Z",
     "shell.execute_reply.started": "2022-03-03T09:38:08.630395Z"
    }
   },
   "outputs": [
    {
     "name": "stdout",
     "output_type": "stream",
     "text": [
      "                0           1           2           3\n",
      "count  150.000000  150.000000  150.000000  150.000000\n",
      "mean     5.843333    3.054000    3.758667    1.198667\n",
      "std      0.828066    0.433594    1.764420    0.763161\n",
      "min      4.300000    2.000000    1.000000    0.100000\n",
      "25%      5.100000    2.800000    1.600000    0.300000\n",
      "50%      5.800000    3.000000    4.350000    1.300000\n",
      "75%      6.400000    3.300000    5.100000    1.800000\n",
      "max      7.900000    4.400000    6.900000    2.500000\n"
     ]
    }
   ],
   "source": [
    "print(IrisDF.describe())"
   ]
  },
  {
   "cell_type": "markdown",
   "metadata": {},
   "source": [
    "Let's add colunmns description"
   ]
  },
  {
   "cell_type": "code",
   "execution_count": 4,
   "metadata": {},
   "outputs": [
    {
     "name": "stdout",
     "output_type": "stream",
     "text": [
      "       Sepal_Length  Sepal_Width  Petal_Length  Petal_Width\n",
      "count    150.000000   150.000000    150.000000   150.000000\n",
      "mean       5.843333     3.054000      3.758667     1.198667\n",
      "std        0.828066     0.433594      1.764420     0.763161\n",
      "min        4.300000     2.000000      1.000000     0.100000\n",
      "25%        5.100000     2.800000      1.600000     0.300000\n",
      "50%        5.800000     3.000000      4.350000     1.300000\n",
      "75%        6.400000     3.300000      5.100000     1.800000\n",
      "max        7.900000     4.400000      6.900000     2.500000\n"
     ]
    }
   ],
   "source": [
    "IrisDF.columns = ['Sepal_Length', 'Sepal_Width','Petal_Length', 'Petal_Width', 'Species' ]\n",
    "print(IrisDF.describe())"
   ]
  },
  {
   "cell_type": "markdown",
   "metadata": {},
   "source": [
    "categorical data exploration"
   ]
  },
  {
   "cell_type": "code",
   "execution_count": 7,
   "metadata": {
    "execution": {
     "iopub.execute_input": "2022-03-03T09:38:08.663088Z",
     "iopub.status.busy": "2022-03-03T09:38:08.662688Z",
     "iopub.status.idle": "2022-03-03T09:38:08.671230Z",
     "shell.execute_reply": "2022-03-03T09:38:08.670328Z",
     "shell.execute_reply.started": "2022-03-03T09:38:08.663055Z"
    }
   },
   "outputs": [
    {
     "name": "stdout",
     "output_type": "stream",
     "text": [
      "Species\n",
      "Iris-setosa        50\n",
      "Iris-versicolor    50\n",
      "Iris-virginica     50\n",
      "dtype: int64\n"
     ]
    }
   ],
   "source": [
    "print(IrisDF.groupby('Species').size())"
   ]
  },
  {
   "cell_type": "markdown",
   "metadata": {},
   "source": [
    "Let's have a graphical global exploration"
   ]
  },
  {
   "cell_type": "code",
   "execution_count": 8,
   "metadata": {
    "execution": {
     "iopub.execute_input": "2022-03-03T09:38:08.672899Z",
     "iopub.status.busy": "2022-03-03T09:38:08.672323Z",
     "iopub.status.idle": "2022-03-03T09:38:08.681397Z",
     "shell.execute_reply": "2022-03-03T09:38:08.680244Z",
     "shell.execute_reply.started": "2022-03-03T09:38:08.672853Z"
    }
   },
   "outputs": [],
   "source": [
    "colors_palette = {'Iris-setosa': '#377eb8', \\\n",
    "                  'Iris-versicolor': '#4eae4b',\\\n",
    "                  'Iris-virginica': '#e41a1c'}\n",
    "\n",
    "colors = [colors_palette[c] for c in IrisDF.loc[ : , 'Species']]\n",
    "\n"
   ]
  },
  {
   "cell_type": "code",
   "execution_count": 9,
   "metadata": {
    "execution": {
     "iopub.execute_input": "2022-03-03T09:38:08.682917Z",
     "iopub.status.busy": "2022-03-03T09:38:08.682653Z",
     "iopub.status.idle": "2022-03-03T09:38:09.994727Z",
     "shell.execute_reply": "2022-03-03T09:38:09.994006Z",
     "shell.execute_reply.started": "2022-03-03T09:38:08.682886Z"
    }
   },
   "outputs": [
    {
     "data": {
      "text/plain": [
       "array([[<AxesSubplot:xlabel='Sepal_Width', ylabel='Sepal_Width'>,\n",
       "        <AxesSubplot:xlabel='Petal_Length', ylabel='Sepal_Width'>,\n",
       "        <AxesSubplot:xlabel='Petal_Width', ylabel='Sepal_Width'>],\n",
       "       [<AxesSubplot:xlabel='Sepal_Width', ylabel='Petal_Length'>,\n",
       "        <AxesSubplot:xlabel='Petal_Length', ylabel='Petal_Length'>,\n",
       "        <AxesSubplot:xlabel='Petal_Width', ylabel='Petal_Length'>],\n",
       "       [<AxesSubplot:xlabel='Sepal_Width', ylabel='Petal_Width'>,\n",
       "        <AxesSubplot:xlabel='Petal_Length', ylabel='Petal_Width'>,\n",
       "        <AxesSubplot:xlabel='Petal_Width', ylabel='Petal_Width'>]],\n",
       "      dtype=object)"
      ]
     },
     "execution_count": 9,
     "metadata": {},
     "output_type": "execute_result"
    },
    {
     "data": {
      "image/png": "[encoded data removed]",
      "text/plain": [
       "<Figure size 720x720 with 9 Axes>"
      ]
     },
     "metadata": {
      "needs_background": "light"
     },
     "output_type": "display_data"
    }
   ],
   "source": [
    "pd.plotting.scatter_matrix(IrisDF.iloc[: , 1: ], color=colors, figsize=(10,10))\n",
    "\n"
   ]
  },
  {
   "cell_type": "markdown",
   "metadata": {},
   "source": [
    "Let's try using seaborn"
   ]
  },
  {
   "cell_type": "code",
   "execution_count": 10,
   "metadata": {
    "execution": {
     "iopub.execute_input": "2022-03-03T09:38:09.996741Z",
     "iopub.status.busy": "2022-03-03T09:38:09.996216Z",
     "iopub.status.idle": "2022-03-03T09:38:15.068295Z",
     "shell.execute_reply": "2022-03-03T09:38:15.067437Z",
     "shell.execute_reply.started": "2022-03-03T09:38:09.996707Z"
    }
   },
   "outputs": [
    {
     "data": {
      "text/plain": [
       "<seaborn.axisgrid.PairGrid at 0x7f7dbf9eb5b0>"
      ]
     },
     "execution_count": 10,
     "metadata": {},
     "output_type": "execute_result"
    },
    {
     "data": {
      "image/png": "[encoded data removed]",
      "text/plain": [
       "<Figure size 643.25x540 with 12 Axes>"
      ]
     },
     "metadata": {
      "needs_background": "light"
     },
     "output_type": "display_data"
    }
   ],
   "source": [
    "sb.pairplot(IrisDF.iloc[: , 1: ], hue=\"Species\" )\n"
   ]
  },
  {
   "cell_type": "markdown",
   "metadata": {
    "execution": {
     "iopub.execute_input": "2022-02-27T10:22:21.272919Z",
     "iopub.status.busy": "2022-02-27T10:22:21.272361Z",
     "iopub.status.idle": "2022-02-27T10:22:22.443421Z",
     "shell.execute_reply": "2022-02-27T10:22:22.441985Z",
     "shell.execute_reply.started": "2022-02-27T10:22:21.272882Z"
    }
   },
   "source": [
    "## Training and Test subsetting"
   ]
  },
  {
   "cell_type": "markdown",
   "metadata": {},
   "source": [
    "Let's create traing and test subset with variable Species propotrional to the original dataset"
   ]
  },
  {
   "cell_type": "code",
   "execution_count": 6,
   "metadata": {
    "execution": {
     "iopub.execute_input": "2022-03-03T09:38:15.069819Z",
     "iopub.status.busy": "2022-03-03T09:38:15.069570Z",
     "iopub.status.idle": "2022-03-03T09:38:15.255140Z",
     "shell.execute_reply": "2022-03-03T09:38:15.254177Z",
     "shell.execute_reply.started": "2022-03-03T09:38:15.069786Z"
    }
   },
   "outputs": [],
   "source": [
    "split_3_7 = StratifiedShuffleSplit(n_splits=1, test_size=0.7, random_state=22)\n",
    "\n",
    "for train_index, test_index in split_3_7.split(IrisDF, IrisDF['Species']):\n",
    "    proportional_train = IrisDF.loc[train_index]\n",
    "    proportional_test = IrisDF.loc[test_index]"
   ]
  },
  {
   "cell_type": "code",
   "execution_count": 7,
   "metadata": {
    "execution": {
     "iopub.execute_input": "2022-03-03T09:38:15.260324Z",
     "iopub.status.busy": "2022-03-03T09:38:15.258126Z",
     "iopub.status.idle": "2022-03-03T09:38:15.269358Z",
     "shell.execute_reply": "2022-03-03T09:38:15.268345Z",
     "shell.execute_reply.started": "2022-03-03T09:38:15.260281Z"
    }
   },
   "outputs": [
    {
     "data": {
      "text/plain": [
       "Iris-virginica     0.333333\n",
       "Iris-versicolor    0.333333\n",
       "Iris-setosa        0.333333\n",
       "Name: Species, dtype: float64"
      ]
     },
     "execution_count": 7,
     "metadata": {},
     "output_type": "execute_result"
    }
   ],
   "source": [
    "proportional_train['Species'].value_counts()/len(proportional_train)"
   ]
  },
  {
   "cell_type": "code",
   "execution_count": 8,
   "metadata": {
    "execution": {
     "iopub.execute_input": "2022-03-03T09:38:15.270869Z",
     "iopub.status.busy": "2022-03-03T09:38:15.270601Z",
     "iopub.status.idle": "2022-03-03T09:38:15.286070Z",
     "shell.execute_reply": "2022-03-03T09:38:15.285313Z",
     "shell.execute_reply.started": "2022-03-03T09:38:15.270838Z"
    }
   },
   "outputs": [
    {
     "data": {
      "text/plain": [
       "Iris-virginica     0.333333\n",
       "Iris-setosa        0.333333\n",
       "Iris-versicolor    0.333333\n",
       "Name: Species, dtype: float64"
      ]
     },
     "execution_count": 8,
     "metadata": {},
     "output_type": "execute_result"
    }
   ],
   "source": [
    "proportional_test['Species'].value_counts()/len(proportional_test)"
   ]
  },
  {
   "cell_type": "code",
   "execution_count": 9,
   "metadata": {
    "execution": {
     "iopub.execute_input": "2022-03-03T09:38:15.288087Z",
     "iopub.status.busy": "2022-03-03T09:38:15.287258Z",
     "iopub.status.idle": "2022-03-03T09:38:15.312409Z",
     "shell.execute_reply": "2022-03-03T09:38:15.311834Z",
     "shell.execute_reply.started": "2022-03-03T09:38:15.287999Z"
    }
   },
   "outputs": [
    {
     "data": {
      "text/html": [
       "<div>\n",
       "<style scoped>\n",
       "    .dataframe tbody tr th:only-of-type {\n",
       "        vertical-align: middle;\n",
       "    }\n",
       "\n",
       "    .dataframe tbody tr th {\n",
       "        vertical-align: top;\n",
       "    }\n",
       "\n",
       "    .dataframe thead th {\n",
       "        text-align: right;\n",
       "    }\n",
       "</style>\n",
       "<table border=\"1\" class=\"dataframe\">\n",
       "  <thead>\n",
       "    <tr style=\"text-align: right;\">\n",
       "      <th></th>\n",
       "      <th>Sepal_Length</th>\n",
       "      <th>Sepal_Width</th>\n",
       "      <th>Petal_Length</th>\n",
       "      <th>Petal_Width</th>\n",
       "    </tr>\n",
       "  </thead>\n",
       "  <tbody>\n",
       "    <tr>\n",
       "      <th>count</th>\n",
       "      <td>45.000000</td>\n",
       "      <td>45.000000</td>\n",
       "      <td>45.000000</td>\n",
       "      <td>45.000000</td>\n",
       "    </tr>\n",
       "    <tr>\n",
       "      <th>mean</th>\n",
       "      <td>5.877778</td>\n",
       "      <td>2.991111</td>\n",
       "      <td>3.820000</td>\n",
       "      <td>1.182222</td>\n",
       "    </tr>\n",
       "    <tr>\n",
       "      <th>std</th>\n",
       "      <td>0.931980</td>\n",
       "      <td>0.456181</td>\n",
       "      <td>1.869565</td>\n",
       "      <td>0.772331</td>\n",
       "    </tr>\n",
       "    <tr>\n",
       "      <th>min</th>\n",
       "      <td>4.300000</td>\n",
       "      <td>2.200000</td>\n",
       "      <td>1.000000</td>\n",
       "      <td>0.100000</td>\n",
       "    </tr>\n",
       "    <tr>\n",
       "      <th>25%</th>\n",
       "      <td>5.000000</td>\n",
       "      <td>2.700000</td>\n",
       "      <td>1.500000</td>\n",
       "      <td>0.200000</td>\n",
       "    </tr>\n",
       "    <tr>\n",
       "      <th>50%</th>\n",
       "      <td>5.800000</td>\n",
       "      <td>3.000000</td>\n",
       "      <td>4.500000</td>\n",
       "      <td>1.300000</td>\n",
       "    </tr>\n",
       "    <tr>\n",
       "      <th>75%</th>\n",
       "      <td>6.500000</td>\n",
       "      <td>3.200000</td>\n",
       "      <td>5.100000</td>\n",
       "      <td>1.800000</td>\n",
       "    </tr>\n",
       "    <tr>\n",
       "      <th>max</th>\n",
       "      <td>7.700000</td>\n",
       "      <td>4.200000</td>\n",
       "      <td>6.900000</td>\n",
       "      <td>2.500000</td>\n",
       "    </tr>\n",
       "  </tbody>\n",
       "</table>\n",
       "</div>"
      ],
      "text/plain": [
       "       Sepal_Length  Sepal_Width  Petal_Length  Petal_Width\n",
       "count     45.000000    45.000000     45.000000    45.000000\n",
       "mean       5.877778     2.991111      3.820000     1.182222\n",
       "std        0.931980     0.456181      1.869565     0.772331\n",
       "min        4.300000     2.200000      1.000000     0.100000\n",
       "25%        5.000000     2.700000      1.500000     0.200000\n",
       "50%        5.800000     3.000000      4.500000     1.300000\n",
       "75%        6.500000     3.200000      5.100000     1.800000\n",
       "max        7.700000     4.200000      6.900000     2.500000"
      ]
     },
     "execution_count": 9,
     "metadata": {},
     "output_type": "execute_result"
    }
   ],
   "source": [
    "proportional_train.describe()"
   ]
  },
  {
   "cell_type": "code",
   "execution_count": 11,
   "metadata": {
    "execution": {
     "iopub.execute_input": "2022-03-03T09:38:15.313991Z",
     "iopub.status.busy": "2022-03-03T09:38:15.313581Z",
     "iopub.status.idle": "2022-03-03T09:38:15.336964Z",
     "shell.execute_reply": "2022-03-03T09:38:15.336161Z",
     "shell.execute_reply.started": "2022-03-03T09:38:15.313961Z"
    }
   },
   "outputs": [
    {
     "data": {
      "text/html": [
       "<div>\n",
       "<style scoped>\n",
       "    .dataframe tbody tr th:only-of-type {\n",
       "        vertical-align: middle;\n",
       "    }\n",
       "\n",
       "    .dataframe tbody tr th {\n",
       "        vertical-align: top;\n",
       "    }\n",
       "\n",
       "    .dataframe thead th {\n",
       "        text-align: right;\n",
       "    }\n",
       "</style>\n",
       "<table border=\"1\" class=\"dataframe\">\n",
       "  <thead>\n",
       "    <tr style=\"text-align: right;\">\n",
       "      <th></th>\n",
       "      <th>Sepal_Length</th>\n",
       "      <th>Sepal_Width</th>\n",
       "      <th>Petal_Length</th>\n",
       "      <th>Petal_Width</th>\n",
       "    </tr>\n",
       "  </thead>\n",
       "  <tbody>\n",
       "    <tr>\n",
       "      <th>count</th>\n",
       "      <td>105.000000</td>\n",
       "      <td>105.000000</td>\n",
       "      <td>105.000000</td>\n",
       "      <td>105.000000</td>\n",
       "    </tr>\n",
       "    <tr>\n",
       "      <th>mean</th>\n",
       "      <td>5.828571</td>\n",
       "      <td>3.080952</td>\n",
       "      <td>3.732381</td>\n",
       "      <td>1.205714</td>\n",
       "    </tr>\n",
       "    <tr>\n",
       "      <th>std</th>\n",
       "      <td>0.783694</td>\n",
       "      <td>0.422924</td>\n",
       "      <td>1.726017</td>\n",
       "      <td>0.762817</td>\n",
       "    </tr>\n",
       "    <tr>\n",
       "      <th>min</th>\n",
       "      <td>4.400000</td>\n",
       "      <td>2.000000</td>\n",
       "      <td>1.200000</td>\n",
       "      <td>0.100000</td>\n",
       "    </tr>\n",
       "    <tr>\n",
       "      <th>25%</th>\n",
       "      <td>5.100000</td>\n",
       "      <td>2.800000</td>\n",
       "      <td>1.600000</td>\n",
       "      <td>0.300000</td>\n",
       "    </tr>\n",
       "    <tr>\n",
       "      <th>50%</th>\n",
       "      <td>5.800000</td>\n",
       "      <td>3.000000</td>\n",
       "      <td>4.300000</td>\n",
       "      <td>1.300000</td>\n",
       "    </tr>\n",
       "    <tr>\n",
       "      <th>75%</th>\n",
       "      <td>6.400000</td>\n",
       "      <td>3.400000</td>\n",
       "      <td>5.100000</td>\n",
       "      <td>1.800000</td>\n",
       "    </tr>\n",
       "    <tr>\n",
       "      <th>max</th>\n",
       "      <td>7.900000</td>\n",
       "      <td>4.400000</td>\n",
       "      <td>6.700000</td>\n",
       "      <td>2.500000</td>\n",
       "    </tr>\n",
       "  </tbody>\n",
       "</table>\n",
       "</div>"
      ],
      "text/plain": [
       "       Sepal_Length  Sepal_Width  Petal_Length  Petal_Width\n",
       "count    105.000000   105.000000    105.000000   105.000000\n",
       "mean       5.828571     3.080952      3.732381     1.205714\n",
       "std        0.783694     0.422924      1.726017     0.762817\n",
       "min        4.400000     2.000000      1.200000     0.100000\n",
       "25%        5.100000     2.800000      1.600000     0.300000\n",
       "50%        5.800000     3.000000      4.300000     1.300000\n",
       "75%        6.400000     3.400000      5.100000     1.800000\n",
       "max        7.900000     4.400000      6.700000     2.500000"
      ]
     },
     "execution_count": 11,
     "metadata": {},
     "output_type": "execute_result"
    }
   ],
   "source": [
    "proportional_test.describe()"
   ]
  },
  {
   "cell_type": "markdown",
   "metadata": {},
   "source": [
    "# Models application"
   ]
  },
  {
   "cell_type": "markdown",
   "metadata": {},
   "source": [
    "## Preprocessing - Standardization"
   ]
  },
  {
   "cell_type": "markdown",
   "metadata": {},
   "source": [
    "A lot of ML models suppose that the data are distributed as a Gaussian with zero mean and unit variance. So we need to standardize the data to achive better results.\n",
    "\n",
    "*StandardScaler* *Scikit Learn* package makes a simple naive rescaling that could be a good choice in this case. It simply remove the mean and divide for the standard deviation each feature"
   ]
  },
  {
   "cell_type": "markdown",
   "metadata": {},
   "source": [
    "### Digression on standardization"
   ]
  },
  {
   "cell_type": "markdown",
   "metadata": {},
   "source": [
    "There are different opinions on when and how apply standardization. We can find 3 main opinions:\n",
    "\n",
    "\n",
    "- Standardize the entire dataset before splitting\n",
    "- Standardize the dataset after splitting using the mean ad standard deviation of the training subset also for the test subset\n",
    "- Standardize the dataset after splitting using the mean ad standard deviation of the training subset only for the training subset and the mean ad standard deviation of the test subset only for the test subset\n",
    "\n",
    "\n",
    "I've an unpopular opinon: there are no a priori a real good or bad choice, except for some particular situations.\n",
    "\n",
    "Anyway I have a preference for the third choice.\n",
    "\n",
    "So let's try to explain the reasons for the third choice wich probably most of the people consider a bad choice.\n",
    "\n",
    "In most of the cases the statistic behind the model is demostrated supposing tha the data are distributed as a Gaussian with zero mean and unit variance, so make the conditions for this supposition both in the training and in the testing of the model shouldn't be considered a bad idea. We are testing the model in the conditions on wich the teorical bases have been constructed. \n",
    "\n",
    "Clearly we must not forget that the \"real world dataset\" will tend to be a Gaussian with zero mean and unit variance but our dataset will ever bee to small to be exactly that.\n",
    "Aniway we have no reasons to consider the addition of a non random noise (firsth and second options) a better choice. \n",
    "\n",
    "I'm planning to make some empirical test in future to have a feedback on my opinion, for the moment let's apply also the second choice wich is the most common."
   ]
  },
  {
   "cell_type": "code",
   "execution_count": 12,
   "metadata": {},
   "outputs": [],
   "source": [
    "scaled_prop_train = proportional_train\n",
    "scaled_prop_test_T = proportional_test\n",
    "scaled_prop_test_FT = proportional_test\n",
    "\n",
    "scaler1 = StandardScaler()\n",
    "scaler2 = StandardScaler()\n",
    "\n",
    "\n",
    "scaled_prop_train.iloc[:, 0:4] = scaler1.fit_transform(scaled_prop_train.iloc[:, 0:4])\n",
    "scaled_prop_test_T.iloc[:, 0:4] = scaler1.transform(scaled_prop_test_T.iloc[:, 0:4])\n",
    "scaled_prop_test_FT.iloc[:, 0:4] = scaler2.fit_transform(scaled_prop_test_FT.iloc[:, 0:4])\n"
   ]
  },
  {
   "cell_type": "code",
   "execution_count": 13,
   "metadata": {},
   "outputs": [
    {
     "data": {
      "text/html": [
       "<div>\n",
       "<style scoped>\n",
       "    .dataframe tbody tr th:only-of-type {\n",
       "        vertical-align: middle;\n",
       "    }\n",
       "\n",
       "    .dataframe tbody tr th {\n",
       "        vertical-align: top;\n",
       "    }\n",
       "\n",
       "    .dataframe thead th {\n",
       "        text-align: right;\n",
       "    }\n",
       "</style>\n",
       "<table border=\"1\" class=\"dataframe\">\n",
       "  <thead>\n",
       "    <tr style=\"text-align: right;\">\n",
       "      <th></th>\n",
       "      <th>Sepal_Length</th>\n",
       "      <th>Sepal_Width</th>\n",
       "      <th>Petal_Length</th>\n",
       "      <th>Petal_Width</th>\n",
       "    </tr>\n",
       "  </thead>\n",
       "  <tbody>\n",
       "    <tr>\n",
       "      <th>count</th>\n",
       "      <td>1.050000e+02</td>\n",
       "      <td>1.050000e+02</td>\n",
       "      <td>1.050000e+02</td>\n",
       "      <td>1.050000e+02</td>\n",
       "    </tr>\n",
       "    <tr>\n",
       "      <th>mean</th>\n",
       "      <td>3.595008e-17</td>\n",
       "      <td>3.172066e-18</td>\n",
       "      <td>4.229421e-18</td>\n",
       "      <td>-3.595008e-17</td>\n",
       "    </tr>\n",
       "    <tr>\n",
       "      <th>std</th>\n",
       "      <td>1.004796e+00</td>\n",
       "      <td>1.004796e+00</td>\n",
       "      <td>1.004796e+00</td>\n",
       "      <td>1.004796e+00</td>\n",
       "    </tr>\n",
       "    <tr>\n",
       "      <th>min</th>\n",
       "      <td>-1.831612e+00</td>\n",
       "      <td>-2.568163e+00</td>\n",
       "      <td>-1.474219e+00</td>\n",
       "      <td>-1.456466e+00</td>\n",
       "    </tr>\n",
       "    <tr>\n",
       "      <th>25%</th>\n",
       "      <td>-9.341223e-01</td>\n",
       "      <td>-6.674960e-01</td>\n",
       "      <td>-1.241360e+00</td>\n",
       "      <td>-1.193023e+00</td>\n",
       "    </tr>\n",
       "    <tr>\n",
       "      <th>50%</th>\n",
       "      <td>-3.663225e-02</td>\n",
       "      <td>-1.923294e-01</td>\n",
       "      <td>3.304380e-01</td>\n",
       "      <td>1.241948e-01</td>\n",
       "    </tr>\n",
       "    <tr>\n",
       "      <th>75%</th>\n",
       "      <td>7.326450e-01</td>\n",
       "      <td>7.580039e-01</td>\n",
       "      <td>7.961559e-01</td>\n",
       "      <td>7.828035e-01</td>\n",
       "    </tr>\n",
       "    <tr>\n",
       "      <th>max</th>\n",
       "      <td>2.655838e+00</td>\n",
       "      <td>3.133837e+00</td>\n",
       "      <td>1.727592e+00</td>\n",
       "      <td>1.704856e+00</td>\n",
       "    </tr>\n",
       "  </tbody>\n",
       "</table>\n",
       "</div>"
      ],
      "text/plain": [
       "       Sepal_Length   Sepal_Width  Petal_Length   Petal_Width\n",
       "count  1.050000e+02  1.050000e+02  1.050000e+02  1.050000e+02\n",
       "mean   3.595008e-17  3.172066e-18  4.229421e-18 -3.595008e-17\n",
       "std    1.004796e+00  1.004796e+00  1.004796e+00  1.004796e+00\n",
       "min   -1.831612e+00 -2.568163e+00 -1.474219e+00 -1.456466e+00\n",
       "25%   -9.341223e-01 -6.674960e-01 -1.241360e+00 -1.193023e+00\n",
       "50%   -3.663225e-02 -1.923294e-01  3.304380e-01  1.241948e-01\n",
       "75%    7.326450e-01  7.580039e-01  7.961559e-01  7.828035e-01\n",
       "max    2.655838e+00  3.133837e+00  1.727592e+00  1.704856e+00"
      ]
     },
     "execution_count": 13,
     "metadata": {},
     "output_type": "execute_result"
    }
   ],
   "source": [
    "scaled_prop_test_T.describe()"
   ]
  },
  {
   "cell_type": "code",
   "execution_count": 14,
   "metadata": {},
   "outputs": [
    {
     "data": {
      "text/html": [
       "<div>\n",
       "<style scoped>\n",
       "    .dataframe tbody tr th:only-of-type {\n",
       "        vertical-align: middle;\n",
       "    }\n",
       "\n",
       "    .dataframe tbody tr th {\n",
       "        vertical-align: top;\n",
       "    }\n",
       "\n",
       "    .dataframe thead th {\n",
       "        text-align: right;\n",
       "    }\n",
       "</style>\n",
       "<table border=\"1\" class=\"dataframe\">\n",
       "  <thead>\n",
       "    <tr style=\"text-align: right;\">\n",
       "      <th></th>\n",
       "      <th>Sepal_Length</th>\n",
       "      <th>Sepal_Width</th>\n",
       "      <th>Petal_Length</th>\n",
       "      <th>Petal_Width</th>\n",
       "    </tr>\n",
       "  </thead>\n",
       "  <tbody>\n",
       "    <tr>\n",
       "      <th>count</th>\n",
       "      <td>1.050000e+02</td>\n",
       "      <td>1.050000e+02</td>\n",
       "      <td>1.050000e+02</td>\n",
       "      <td>1.050000e+02</td>\n",
       "    </tr>\n",
       "    <tr>\n",
       "      <th>mean</th>\n",
       "      <td>3.595008e-17</td>\n",
       "      <td>3.172066e-18</td>\n",
       "      <td>4.229421e-18</td>\n",
       "      <td>-3.595008e-17</td>\n",
       "    </tr>\n",
       "    <tr>\n",
       "      <th>std</th>\n",
       "      <td>1.004796e+00</td>\n",
       "      <td>1.004796e+00</td>\n",
       "      <td>1.004796e+00</td>\n",
       "      <td>1.004796e+00</td>\n",
       "    </tr>\n",
       "    <tr>\n",
       "      <th>min</th>\n",
       "      <td>-1.831612e+00</td>\n",
       "      <td>-2.568163e+00</td>\n",
       "      <td>-1.474219e+00</td>\n",
       "      <td>-1.456466e+00</td>\n",
       "    </tr>\n",
       "    <tr>\n",
       "      <th>25%</th>\n",
       "      <td>-9.341223e-01</td>\n",
       "      <td>-6.674960e-01</td>\n",
       "      <td>-1.241360e+00</td>\n",
       "      <td>-1.193023e+00</td>\n",
       "    </tr>\n",
       "    <tr>\n",
       "      <th>50%</th>\n",
       "      <td>-3.663225e-02</td>\n",
       "      <td>-1.923294e-01</td>\n",
       "      <td>3.304380e-01</td>\n",
       "      <td>1.241948e-01</td>\n",
       "    </tr>\n",
       "    <tr>\n",
       "      <th>75%</th>\n",
       "      <td>7.326450e-01</td>\n",
       "      <td>7.580039e-01</td>\n",
       "      <td>7.961559e-01</td>\n",
       "      <td>7.828035e-01</td>\n",
       "    </tr>\n",
       "    <tr>\n",
       "      <th>max</th>\n",
       "      <td>2.655838e+00</td>\n",
       "      <td>3.133837e+00</td>\n",
       "      <td>1.727592e+00</td>\n",
       "      <td>1.704856e+00</td>\n",
       "    </tr>\n",
       "  </tbody>\n",
       "</table>\n",
       "</div>"
      ],
      "text/plain": [
       "       Sepal_Length   Sepal_Width  Petal_Length   Petal_Width\n",
       "count  1.050000e+02  1.050000e+02  1.050000e+02  1.050000e+02\n",
       "mean   3.595008e-17  3.172066e-18  4.229421e-18 -3.595008e-17\n",
       "std    1.004796e+00  1.004796e+00  1.004796e+00  1.004796e+00\n",
       "min   -1.831612e+00 -2.568163e+00 -1.474219e+00 -1.456466e+00\n",
       "25%   -9.341223e-01 -6.674960e-01 -1.241360e+00 -1.193023e+00\n",
       "50%   -3.663225e-02 -1.923294e-01  3.304380e-01  1.241948e-01\n",
       "75%    7.326450e-01  7.580039e-01  7.961559e-01  7.828035e-01\n",
       "max    2.655838e+00  3.133837e+00  1.727592e+00  1.704856e+00"
      ]
     },
     "execution_count": 14,
     "metadata": {},
     "output_type": "execute_result"
    }
   ],
   "source": [
    "scaled_prop_test_FT.describe()"
   ]
  },
  {
   "cell_type": "code",
   "execution_count": 15,
   "metadata": {},
   "outputs": [
    {
     "data": {
      "text/html": [
       "<div>\n",
       "<style scoped>\n",
       "    .dataframe tbody tr th:only-of-type {\n",
       "        vertical-align: middle;\n",
       "    }\n",
       "\n",
       "    .dataframe tbody tr th {\n",
       "        vertical-align: top;\n",
       "    }\n",
       "\n",
       "    .dataframe thead th {\n",
       "        text-align: right;\n",
       "    }\n",
       "</style>\n",
       "<table border=\"1\" class=\"dataframe\">\n",
       "  <thead>\n",
       "    <tr style=\"text-align: right;\">\n",
       "      <th></th>\n",
       "      <th>Sepal_Length</th>\n",
       "      <th>Sepal_Width</th>\n",
       "      <th>Petal_Length</th>\n",
       "      <th>Petal_Width</th>\n",
       "    </tr>\n",
       "  </thead>\n",
       "  <tbody>\n",
       "    <tr>\n",
       "      <th>count</th>\n",
       "      <td>4.500000e+01</td>\n",
       "      <td>4.500000e+01</td>\n",
       "      <td>4.500000e+01</td>\n",
       "      <td>4.500000e+01</td>\n",
       "    </tr>\n",
       "    <tr>\n",
       "      <th>mean</th>\n",
       "      <td>-4.798631e-16</td>\n",
       "      <td>1.148772e-16</td>\n",
       "      <td>3.219647e-16</td>\n",
       "      <td>-4.096260e-16</td>\n",
       "    </tr>\n",
       "    <tr>\n",
       "      <th>std</th>\n",
       "      <td>1.011300e+00</td>\n",
       "      <td>1.011300e+00</td>\n",
       "      <td>1.011300e+00</td>\n",
       "      <td>1.011300e+00</td>\n",
       "    </tr>\n",
       "    <tr>\n",
       "      <th>min</th>\n",
       "      <td>-1.712062e+00</td>\n",
       "      <td>-1.753801e+00</td>\n",
       "      <td>-1.525417e+00</td>\n",
       "      <td>-1.417075e+00</td>\n",
       "    </tr>\n",
       "    <tr>\n",
       "      <th>25%</th>\n",
       "      <td>-9.524850e-01</td>\n",
       "      <td>-6.453593e-01</td>\n",
       "      <td>-1.254953e+00</td>\n",
       "      <td>-1.286134e+00</td>\n",
       "    </tr>\n",
       "    <tr>\n",
       "      <th>50%</th>\n",
       "      <td>-8.439740e-02</td>\n",
       "      <td>1.970563e-02</td>\n",
       "      <td>3.678310e-01</td>\n",
       "      <td>1.542197e-01</td>\n",
       "    </tr>\n",
       "    <tr>\n",
       "      <th>75%</th>\n",
       "      <td>6.751792e-01</td>\n",
       "      <td>4.630823e-01</td>\n",
       "      <td>6.923877e-01</td>\n",
       "      <td>8.089260e-01</td>\n",
       "    </tr>\n",
       "    <tr>\n",
       "      <th>max</th>\n",
       "      <td>1.977311e+00</td>\n",
       "      <td>2.679966e+00</td>\n",
       "      <td>1.666058e+00</td>\n",
       "      <td>1.725515e+00</td>\n",
       "    </tr>\n",
       "  </tbody>\n",
       "</table>\n",
       "</div>"
      ],
      "text/plain": [
       "       Sepal_Length   Sepal_Width  Petal_Length   Petal_Width\n",
       "count  4.500000e+01  4.500000e+01  4.500000e+01  4.500000e+01\n",
       "mean  -4.798631e-16  1.148772e-16  3.219647e-16 -4.096260e-16\n",
       "std    1.011300e+00  1.011300e+00  1.011300e+00  1.011300e+00\n",
       "min   -1.712062e+00 -1.753801e+00 -1.525417e+00 -1.417075e+00\n",
       "25%   -9.524850e-01 -6.453593e-01 -1.254953e+00 -1.286134e+00\n",
       "50%   -8.439740e-02  1.970563e-02  3.678310e-01  1.542197e-01\n",
       "75%    6.751792e-01  4.630823e-01  6.923877e-01  8.089260e-01\n",
       "max    1.977311e+00  2.679966e+00  1.666058e+00  1.725515e+00"
      ]
     },
     "execution_count": 15,
     "metadata": {},
     "output_type": "execute_result"
    }
   ],
   "source": [
    "scaled_prop_train.describe()"
   ]
  },
  {
   "cell_type": "code",
   "execution_count": 16,
   "metadata": {},
   "outputs": [
    {
     "name": "stdout",
     "output_type": "stream",
     "text": [
      "[5.87777778 2.99111111 3.82       1.18222222]\n",
      "[0.84928395 0.20347654 3.4176     0.58323951]\n",
      "[-0.05339427  0.19916761 -0.04739559  0.03076081]\n",
      "[0.71628167 0.87067037 0.86340151 0.9881846 ]\n"
     ]
    }
   ],
   "source": [
    "print(scaler1.mean_)\n",
    "print(scaler1.var_)\n",
    "print(scaler2.mean_)\n",
    "print(scaler2.var_)"
   ]
  },
  {
   "cell_type": "markdown",
   "metadata": {},
   "source": [
    "## Multinomial logistic regression (softmax regression)"
   ]
  },
  {
   "cell_type": "markdown",
   "metadata": {},
   "source": [
    "Let's use scikit-learn package. \n",
    "\n",
    "We need to specify that has to be multinomial classification and we need to specify a solver wich allows softmax regression.\n",
    "\n",
    "In this case we have few feature and apparently all important so we can reduce the impact of the regularization term. "
   ]
  },
  {
   "cell_type": "code",
   "execution_count": 20,
   "metadata": {
    "execution": {
     "iopub.execute_input": "2022-03-03T09:38:15.424093Z",
     "iopub.status.busy": "2022-03-03T09:38:15.423659Z",
     "iopub.status.idle": "2022-03-03T09:38:15.612794Z",
     "shell.execute_reply": "2022-03-03T09:38:15.611591Z",
     "shell.execute_reply.started": "2022-03-03T09:38:15.424045Z"
    }
   },
   "outputs": [
    {
     "name": "stdout",
     "output_type": "stream",
     "text": [
      "The accuracy of the scikit-learn implementation of Softmax Regression with lbfgs solver and 100 as C parameter on test dataset standardize on traning data is 0.9809523809523809\n",
      "The accuracy of the scikit-learn implementation of Softmax Regression with lbfgs solver and 100 as C parameter on test dataset standardize on test data is 0.9809523809523809\n"
     ]
    }
   ],
   "source": [
    "# C parameter is the invers of the parameter applied to the regularization term \n",
    "softmax_regressionM_Slbfgs_C10 = LogisticRegression(multi_class='multinomial',  solver='lbfgs', C=100)\n",
    "\n",
    "#encode categorical data\n",
    "labels = scaled_prop_train.iloc[:,4].to_numpy()\n",
    "label_encoder = LabelEncoder()\n",
    "label_encoded_labels = label_encoder.fit_transform(labels)\n",
    "\n",
    "# training\n",
    "softmax_regressionM_Slbfgs_C10.fit(scaled_prop_train.iloc[:,0:4], label_encoded_labels)\n",
    "\n",
    "# prediction\n",
    "softmax_regressionM_Slbfgs_C10_predictionT = softmax_regressionM_Slbfgs_C10.predict(scaled_prop_test_T.iloc[:,0:4])\n",
    "softmax_regressionM_Slbfgs_C10_predictionFT = softmax_regressionM_Slbfgs_C10.predict(scaled_prop_test_FT.iloc[:,0:4])\n",
    "\n",
    "test_labels = scaled_prop_test_T.iloc[:,4].to_numpy()\n",
    "test_labels_encoded = label_encoder.transform(test_labels)\n",
    "\n",
    "# results evaluation\n",
    "print(f\"The accuracy of the scikit-learn implementation of Softmax Regression with lbfgs solver and 100 as C parameter on test dataset standardize on traning data is \\\n",
    "{metrics.accuracy_score(softmax_regressionM_Slbfgs_C10_predictionT, test_labels_encoded)}\" )\n",
    "print(f\"The accuracy of the scikit-learn implementation of Softmax Regression with lbfgs solver and 100 as C parameter on test dataset standardize on test data is \\\n",
    "{metrics.accuracy_score(softmax_regressionM_Slbfgs_C10_predictionFT, test_labels_encoded)}\" )"
   ]
  },
  {
   "cell_type": "markdown",
   "metadata": {},
   "source": [
    "Looks good :)"
   ]
  }
 ],
 "metadata": {
  "kernelspec": {
   "display_name": "Python 3 (ipykernel)",
   "language": "python",
   "name": "python3"
  },
  "language_info": {
   "codemirror_mode": {
    "name": "ipython",
    "version": 3
   },
   "file_extension": ".py",
   "mimetype": "text/x-python",
   "name": "python",
   "nbconvert_exporter": "python",
   "pygments_lexer": "ipython3",
   "version": "3.8.10"
  }
 },
 "nbformat": 4,
 "nbformat_minor": 4
}
